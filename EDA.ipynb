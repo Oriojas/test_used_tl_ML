{
 "cells": [
  {
   "cell_type": "code",
   "execution_count": 1,
   "id": "3acd8325",
   "metadata": {},
   "outputs": [],
   "source": [
    "%matplotlib inline\n",
    "import numpy as np\n",
    "import pandas as pd\n",
    "import matplotlib.pyplot as plt\n",
    "from ydata_profiling import ProfileReport\n",
    "pd.options.mode.chained_assignment = None"
   ]
  },
  {
   "cell_type": "markdown",
   "id": "4db291f8",
   "metadata": {},
   "source": [
    "# Análisis exploratorio venta de vehículos"
   ]
  },
  {
   "cell_type": "markdown",
   "id": "6dbaba94",
   "metadata": {},
   "source": [
    "Los datos vienen con un pequeño tratamiento para extraer campos de columnas con doble valor, posteriormente a este análisis se complementara esta parte"
   ]
  },
  {
   "cell_type": "code",
   "execution_count": 2,
   "id": "c4dc2f08",
   "metadata": {},
   "outputs": [],
   "source": [
    "FOLDER = \"/home/oscar/GitHub/test_used_tl_ML/data/\""
   ]
  },
  {
   "cell_type": "code",
   "execution_count": 3,
   "id": "21096440",
   "metadata": {},
   "outputs": [
    {
     "name": "stderr",
     "output_type": "stream",
     "text": [
      "/tmp/ipykernel_227447/1023102910.py:1: DtypeWarning: Columns (6,10,14,24,25,26,30,32,38,41,45,46) have mixed types. Specify dtype option on import or set low_memory=False.\n",
      "  df = pd.read_csv(FOLDER + \"train.csv\", index_col=0)\n"
     ]
    }
   ],
   "source": [
    "df = pd.read_csv(FOLDER + \"train.csv\", index_col=0)\n",
    "df = df.reset_index(drop=True)"
   ]
  },
  {
   "cell_type": "code",
   "execution_count": 4,
   "id": "a5120f7e",
   "metadata": {},
   "outputs": [
    {
     "data": {
      "application/vnd.jupyter.widget-view+json": {
       "model_id": "8d2ab90a716b4ef29564de71df6b050b",
       "version_major": 2,
       "version_minor": 0
      },
      "text/plain": [
       "Summarize dataset:   0%|          | 0/5 [00:00<?, ?it/s]"
      ]
     },
     "metadata": {},
     "output_type": "display_data"
    },
    {
     "data": {
      "application/vnd.jupyter.widget-view+json": {
       "model_id": "8d32ff0c1fbc4c7985b5450056fad998",
       "version_major": 2,
       "version_minor": 0
      },
      "text/plain": [
       "Generate report structure:   0%|          | 0/1 [00:00<?, ?it/s]"
      ]
     },
     "metadata": {},
     "output_type": "display_data"
    },
    {
     "data": {
      "application/vnd.jupyter.widget-view+json": {
       "model_id": "b685f3adb6c74088bfab4efd3d53cad2",
       "version_major": 2,
       "version_minor": 0
      },
      "text/plain": [
       "Render HTML:   0%|          | 0/1 [00:00<?, ?it/s]"
      ]
     },
     "metadata": {},
     "output_type": "display_data"
    },
    {
     "data": {
      "application/vnd.jupyter.widget-view+json": {
       "model_id": "b1230bbc8cf94b9d868d09fdd75145e5",
       "version_major": 2,
       "version_minor": 0
      },
      "text/plain": [
       "Export report to file:   0%|          | 0/1 [00:00<?, ?it/s]"
      ]
     },
     "metadata": {},
     "output_type": "display_data"
    }
   ],
   "source": [
    "profile = ProfileReport(df, minimal=True)\n",
    "profile.to_file(\"output_initial.html\")"
   ]
  },
  {
   "cell_type": "markdown",
   "id": "faff032f",
   "metadata": {},
   "source": [
    "En esta parte se definen las variables mas importantes según el análisis del perfilador utilizado, en la parte siguiente de este informe solo se trataran las variables que tiene una cardinalidad baja, que el desequilibrio en las clases no sea mayor al 50% y que los valores faltantes no superen el 10%, así mismo las variables no soportadas se les hará un tratamiento de limpieza mas admitido y al final se compararan los dos análisis"
   ]
  },
  {
   "cell_type": "markdown",
   "id": "24d818cc",
   "metadata": {},
   "source": [
    "### Limpieza posterior de las variables no soportadas"
   ]
  },
  {
   "cell_type": "markdown",
   "id": "659c4909",
   "metadata": {},
   "source": [
    "#### Variable seller_id"
   ]
  },
  {
   "cell_type": "code",
   "execution_count": 5,
   "id": "d564bcd4",
   "metadata": {},
   "outputs": [
    {
     "data": {
      "text/plain": [
       "0    8208882349\n",
       "1    8141699488\n",
       "2    8386096505\n",
       "3    5377752182\n",
       "4    2938071313\n",
       "Name: seller_id, dtype: object"
      ]
     },
     "execution_count": 5,
     "metadata": {},
     "output_type": "execute_result"
    }
   ],
   "source": [
    "df[\"seller_id\"].head()"
   ]
  },
  {
   "cell_type": "code",
   "execution_count": 6,
   "id": "e8c7a018",
   "metadata": {},
   "outputs": [
    {
     "data": {
      "text/plain": [
       "count          90000\n",
       "unique         39432\n",
       "top       5248662274\n",
       "freq             599\n",
       "Name: seller_id, dtype: int64"
      ]
     },
     "execution_count": 6,
     "metadata": {},
     "output_type": "execute_result"
    }
   ],
   "source": [
    "df[\"seller_id\"].describe()"
   ]
  },
  {
   "cell_type": "markdown",
   "id": "9c12c93b",
   "metadata": {},
   "source": [
    "**Nota:** Esta columna para ce que para el objetivo del análisis de determinar si el carro ofrecido es nuevo o usado para ce que tiene poco valor ya que es un identificador de usuario, pero para campañas de marketing de los 90.000 datos analizados hay únicos 39.432, es decir que hay una población de vendedores por lo menos de mas de una venta"
   ]
  },
  {
   "cell_type": "code",
   "execution_count": 7,
   "id": "fbbea27f",
   "metadata": {},
   "outputs": [
    {
     "data": {
      "text/html": [
       "<div>\n",
       "<style scoped>\n",
       "    .dataframe tbody tr th:only-of-type {\n",
       "        vertical-align: middle;\n",
       "    }\n",
       "\n",
       "    .dataframe tbody tr th {\n",
       "        vertical-align: top;\n",
       "    }\n",
       "\n",
       "    .dataframe thead th {\n",
       "        text-align: right;\n",
       "    }\n",
       "</style>\n",
       "<table border=\"1\" class=\"dataframe\">\n",
       "  <thead>\n",
       "    <tr style=\"text-align: right;\">\n",
       "      <th></th>\n",
       "      <th>warranty</th>\n",
       "      <th>sub_status</th>\n",
       "      <th>condition</th>\n",
       "      <th>deal_ids</th>\n",
       "      <th>base_price</th>\n",
       "      <th>seller_id</th>\n",
       "      <th>variations</th>\n",
       "      <th>site_id</th>\n",
       "      <th>listing_type_id</th>\n",
       "      <th>price</th>\n",
       "      <th>...</th>\n",
       "      <th>start_time</th>\n",
       "      <th>permalink</th>\n",
       "      <th>sold_quantity</th>\n",
       "      <th>available_quantity</th>\n",
       "      <th>seller_address_country_name</th>\n",
       "      <th>seller_address_state_name</th>\n",
       "      <th>seller_address_city_name</th>\n",
       "      <th>shipping_local_pick_up</th>\n",
       "      <th>shipping_free_shipping</th>\n",
       "      <th>Y</th>\n",
       "    </tr>\n",
       "  </thead>\n",
       "  <tbody>\n",
       "    <tr>\n",
       "      <th>16693</th>\n",
       "      <td>Envios a capital federal $26.</td>\n",
       "      <td>NaN</td>\n",
       "      <td>NaN</td>\n",
       "      <td>NaN</td>\n",
       "      <td>NaN</td>\n",
       "      <td>NaN</td>\n",
       "      <td>NaN</td>\n",
       "      <td>NaN</td>\n",
       "      <td>NaN</td>\n",
       "      <td>NaN</td>\n",
       "      <td>...</td>\n",
       "      <td>NaN</td>\n",
       "      <td>NaN</td>\n",
       "      <td>NaN</td>\n",
       "      <td>NaN</td>\n",
       "      <td>NaN</td>\n",
       "      <td>NaN</td>\n",
       "      <td>NaN</td>\n",
       "      <td>NaN</td>\n",
       "      <td>NaN</td>\n",
       "      <td>NaN</td>\n",
       "    </tr>\n",
       "    <tr>\n",
       "      <th>83019</th>\n",
       "      <td>4 meses de Garantía</td>\n",
       "      <td>NaN</td>\n",
       "      <td>NaN</td>\n",
       "      <td>NaN</td>\n",
       "      <td>NaN</td>\n",
       "      <td>NaN</td>\n",
       "      <td>NaN</td>\n",
       "      <td>NaN</td>\n",
       "      <td>NaN</td>\n",
       "      <td>NaN</td>\n",
       "      <td>...</td>\n",
       "      <td>NaN</td>\n",
       "      <td>NaN</td>\n",
       "      <td>NaN</td>\n",
       "      <td>NaN</td>\n",
       "      <td>NaN</td>\n",
       "      <td>NaN</td>\n",
       "      <td>NaN</td>\n",
       "      <td>NaN</td>\n",
       "      <td>NaN</td>\n",
       "      <td>NaN</td>\n",
       "    </tr>\n",
       "    <tr>\n",
       "      <th>83841</th>\n",
       "      <td>Envios capital federeal $26.</td>\n",
       "      <td>NaN</td>\n",
       "      <td>NaN</td>\n",
       "      <td>NaN</td>\n",
       "      <td>NaN</td>\n",
       "      <td>NaN</td>\n",
       "      <td>NaN</td>\n",
       "      <td>NaN</td>\n",
       "      <td>NaN</td>\n",
       "      <td>NaN</td>\n",
       "      <td>...</td>\n",
       "      <td>NaN</td>\n",
       "      <td>NaN</td>\n",
       "      <td>NaN</td>\n",
       "      <td>NaN</td>\n",
       "      <td>NaN</td>\n",
       "      <td>NaN</td>\n",
       "      <td>NaN</td>\n",
       "      <td>NaN</td>\n",
       "      <td>NaN</td>\n",
       "      <td>NaN</td>\n",
       "    </tr>\n",
       "  </tbody>\n",
       "</table>\n",
       "<p>3 rows × 47 columns</p>\n",
       "</div>"
      ],
      "text/plain": [
       "                            warranty sub_status condition deal_ids  \\\n",
       "16693  Envios a capital federal $26.        NaN       NaN      NaN   \n",
       "83019           4 meses de Garantía         NaN       NaN      NaN   \n",
       "83841   Envios capital federeal $26.        NaN       NaN      NaN   \n",
       "\n",
       "       base_price seller_id variations site_id listing_type_id price  ...  \\\n",
       "16693         NaN       NaN        NaN     NaN             NaN   NaN  ...   \n",
       "83019         NaN       NaN        NaN     NaN             NaN   NaN  ...   \n",
       "83841         NaN       NaN        NaN     NaN             NaN   NaN  ...   \n",
       "\n",
       "      start_time permalink sold_quantity available_quantity  \\\n",
       "16693        NaN       NaN           NaN                NaN   \n",
       "83019        NaN       NaN           NaN                NaN   \n",
       "83841        NaN       NaN           NaN                NaN   \n",
       "\n",
       "      seller_address_country_name seller_address_state_name  \\\n",
       "16693                         NaN                       NaN   \n",
       "83019                         NaN                       NaN   \n",
       "83841                         NaN                       NaN   \n",
       "\n",
       "      seller_address_city_name shipping_local_pick_up shipping_free_shipping  \\\n",
       "16693                      NaN                    NaN                    NaN   \n",
       "83019                      NaN                    NaN                    NaN   \n",
       "83841                      NaN                    NaN                    NaN   \n",
       "\n",
       "         Y  \n",
       "16693  NaN  \n",
       "83019  NaN  \n",
       "83841  NaN  \n",
       "\n",
       "[3 rows x 47 columns]"
      ]
     },
     "execution_count": 7,
     "metadata": {},
     "output_type": "execute_result"
    }
   ],
   "source": [
    "na_seller_id = df[df[\"seller_id\"].isnull() == True]\n",
    "na_seller_id"
   ]
  },
  {
   "cell_type": "code",
   "execution_count": 8,
   "id": "e89f807e",
   "metadata": {},
   "outputs": [],
   "source": [
    "df = df.drop([16693, 83019, 83841], axis=0)"
   ]
  },
  {
   "cell_type": "markdown",
   "id": "8c5fe0c3",
   "metadata": {},
   "source": [
    "#### Variable price"
   ]
  },
  {
   "cell_type": "code",
   "execution_count": 9,
   "id": "25614b81",
   "metadata": {},
   "outputs": [
    {
     "data": {
      "text/plain": [
       "89998      68.0\n",
       "89999     126.0\n",
       "90000     300.0\n",
       "90001    696.58\n",
       "90002     470.0\n",
       "Name: price, dtype: object"
      ]
     },
     "execution_count": 9,
     "metadata": {},
     "output_type": "execute_result"
    }
   ],
   "source": [
    "df[\"price\"].tail()"
   ]
  },
  {
   "cell_type": "code",
   "execution_count": 10,
   "id": "b9d30413",
   "metadata": {},
   "outputs": [
    {
     "data": {
      "text/plain": [
       "count     90000.0\n",
       "unique    11788.0\n",
       "top          50.0\n",
       "freq       2124.0\n",
       "Name: price, dtype: float64"
      ]
     },
     "execution_count": 10,
     "metadata": {},
     "output_type": "execute_result"
    }
   ],
   "source": [
    "df[\"price\"].describe()"
   ]
  },
  {
   "cell_type": "code",
   "execution_count": 11,
   "id": "1a9cabf0",
   "metadata": {},
   "outputs": [
    {
     "data": {
      "text/html": [
       "<div>\n",
       "<style scoped>\n",
       "    .dataframe tbody tr th:only-of-type {\n",
       "        vertical-align: middle;\n",
       "    }\n",
       "\n",
       "    .dataframe tbody tr th {\n",
       "        vertical-align: top;\n",
       "    }\n",
       "\n",
       "    .dataframe thead th {\n",
       "        text-align: right;\n",
       "    }\n",
       "</style>\n",
       "<table border=\"1\" class=\"dataframe\">\n",
       "  <thead>\n",
       "    <tr style=\"text-align: right;\">\n",
       "      <th></th>\n",
       "      <th>warranty</th>\n",
       "      <th>sub_status</th>\n",
       "      <th>condition</th>\n",
       "      <th>deal_ids</th>\n",
       "      <th>base_price</th>\n",
       "      <th>seller_id</th>\n",
       "      <th>variations</th>\n",
       "      <th>site_id</th>\n",
       "      <th>listing_type_id</th>\n",
       "      <th>price</th>\n",
       "      <th>...</th>\n",
       "      <th>start_time</th>\n",
       "      <th>permalink</th>\n",
       "      <th>sold_quantity</th>\n",
       "      <th>available_quantity</th>\n",
       "      <th>seller_address_country_name</th>\n",
       "      <th>seller_address_state_name</th>\n",
       "      <th>seller_address_city_name</th>\n",
       "      <th>shipping_local_pick_up</th>\n",
       "      <th>shipping_free_shipping</th>\n",
       "      <th>Y</th>\n",
       "    </tr>\n",
       "  </thead>\n",
       "  <tbody>\n",
       "  </tbody>\n",
       "</table>\n",
       "<p>0 rows × 47 columns</p>\n",
       "</div>"
      ],
      "text/plain": [
       "Empty DataFrame\n",
       "Columns: [warranty, sub_status, condition, deal_ids, base_price, seller_id, variations, site_id, listing_type_id, price, attributes, buying_mode, tags, listing_source, parent_item_id, coverage_areas, category_id, descriptions, last_updated, international_delivery_mode, pictures, id, official_store_id, differential_pricing, accepts_mercadopago, original_price, currency_id, thumbnail, title, automatic_relist, date_created, stop_time, status, video_id, catalog_product_id, subtitle, initial_quantity, start_time, permalink, sold_quantity, available_quantity, seller_address_country_name, seller_address_state_name, seller_address_city_name, shipping_local_pick_up, shipping_free_shipping, Y]\n",
       "Index: []\n",
       "\n",
       "[0 rows x 47 columns]"
      ]
     },
     "execution_count": 11,
     "metadata": {},
     "output_type": "execute_result"
    }
   ],
   "source": [
    "na_price = df[df[\"price\"].isnull() == True]\n",
    "na_price"
   ]
  },
  {
   "cell_type": "code",
   "execution_count": 12,
   "id": "59df25a5",
   "metadata": {},
   "outputs": [],
   "source": [
    "df[\"temp_column_price\"] = df[\"price\"].apply(lambda x: type(x) != float)"
   ]
  },
  {
   "cell_type": "code",
   "execution_count": 13,
   "id": "ce2c30aa",
   "metadata": {},
   "outputs": [
    {
     "data": {
      "text/plain": [
       "str"
      ]
     },
     "execution_count": 13,
     "metadata": {},
     "output_type": "execute_result"
    }
   ],
   "source": [
    "type(df[\"price\"][df[\"temp_column_price\"] == True].iloc[0])"
   ]
  },
  {
   "cell_type": "code",
   "execution_count": 14,
   "id": "a3771a65",
   "metadata": {},
   "outputs": [],
   "source": [
    "for i in range(len(df)):\n",
    "    if df[\"temp_column_price\"].iloc[i] == True:\n",
    "        try:\n",
    "            df[\"price\"].iloc[i] = float(df[\"price\"].iloc[i])\n",
    "        except:\n",
    "            df[\"price\"].iloc[i] = float(\"nan\")"
   ]
  },
  {
   "cell_type": "code",
   "execution_count": 15,
   "id": "da8b1ba3",
   "metadata": {},
   "outputs": [
    {
     "data": {
      "text/html": [
       "<div>\n",
       "<style scoped>\n",
       "    .dataframe tbody tr th:only-of-type {\n",
       "        vertical-align: middle;\n",
       "    }\n",
       "\n",
       "    .dataframe tbody tr th {\n",
       "        vertical-align: top;\n",
       "    }\n",
       "\n",
       "    .dataframe thead th {\n",
       "        text-align: right;\n",
       "    }\n",
       "</style>\n",
       "<table border=\"1\" class=\"dataframe\">\n",
       "  <thead>\n",
       "    <tr style=\"text-align: right;\">\n",
       "      <th></th>\n",
       "      <th>warranty</th>\n",
       "      <th>sub_status</th>\n",
       "      <th>condition</th>\n",
       "      <th>deal_ids</th>\n",
       "      <th>base_price</th>\n",
       "      <th>seller_id</th>\n",
       "      <th>variations</th>\n",
       "      <th>site_id</th>\n",
       "      <th>listing_type_id</th>\n",
       "      <th>price</th>\n",
       "      <th>...</th>\n",
       "      <th>permalink</th>\n",
       "      <th>sold_quantity</th>\n",
       "      <th>available_quantity</th>\n",
       "      <th>seller_address_country_name</th>\n",
       "      <th>seller_address_state_name</th>\n",
       "      <th>seller_address_city_name</th>\n",
       "      <th>shipping_local_pick_up</th>\n",
       "      <th>shipping_free_shipping</th>\n",
       "      <th>Y</th>\n",
       "      <th>temp_column_price</th>\n",
       "    </tr>\n",
       "  </thead>\n",
       "  <tbody>\n",
       "    <tr>\n",
       "      <th>16694</th>\n",
       "      <td>[]</td>\n",
       "      <td>used</td>\n",
       "      <td>[]</td>\n",
       "      <td>80.0</td>\n",
       "      <td>9.357516e+09</td>\n",
       "      <td>[]</td>\n",
       "      <td>MLA</td>\n",
       "      <td>bronze</td>\n",
       "      <td>80.0</td>\n",
       "      <td>NaN</td>\n",
       "      <td>...</td>\n",
       "      <td>0</td>\n",
       "      <td>1.0</td>\n",
       "      <td>Argentina</td>\n",
       "      <td>Capital Federal</td>\n",
       "      <td>tribunales</td>\n",
       "      <td>False</td>\n",
       "      <td>False</td>\n",
       "      <td>used</td>\n",
       "      <td>NaN</td>\n",
       "      <td>True</td>\n",
       "    </tr>\n",
       "    <tr>\n",
       "      <th>83020</th>\n",
       "      <td>[]</td>\n",
       "      <td>new</td>\n",
       "      <td>[]</td>\n",
       "      <td>5500.0</td>\n",
       "      <td>8.714872e+09</td>\n",
       "      <td>[]</td>\n",
       "      <td>MLA</td>\n",
       "      <td>bronze</td>\n",
       "      <td>5500.0</td>\n",
       "      <td>NaN</td>\n",
       "      <td>...</td>\n",
       "      <td>0</td>\n",
       "      <td>1.0</td>\n",
       "      <td>Argentina</td>\n",
       "      <td>Capital Federal</td>\n",
       "      <td>Almagro</td>\n",
       "      <td>False</td>\n",
       "      <td>False</td>\n",
       "      <td>new</td>\n",
       "      <td>NaN</td>\n",
       "      <td>True</td>\n",
       "    </tr>\n",
       "    <tr>\n",
       "      <th>83842</th>\n",
       "      <td>[]</td>\n",
       "      <td>new</td>\n",
       "      <td>[]</td>\n",
       "      <td>100.0</td>\n",
       "      <td>9.357516e+09</td>\n",
       "      <td>[]</td>\n",
       "      <td>MLA</td>\n",
       "      <td>bronze</td>\n",
       "      <td>100.0</td>\n",
       "      <td>NaN</td>\n",
       "      <td>...</td>\n",
       "      <td>0</td>\n",
       "      <td>1.0</td>\n",
       "      <td>Argentina</td>\n",
       "      <td>Capital Federal</td>\n",
       "      <td>tribunales</td>\n",
       "      <td>True</td>\n",
       "      <td>False</td>\n",
       "      <td>new</td>\n",
       "      <td>NaN</td>\n",
       "      <td>True</td>\n",
       "    </tr>\n",
       "  </tbody>\n",
       "</table>\n",
       "<p>3 rows × 48 columns</p>\n",
       "</div>"
      ],
      "text/plain": [
       "      warranty sub_status condition deal_ids    base_price seller_id  \\\n",
       "16694       []       used        []     80.0  9.357516e+09        []   \n",
       "83020       []        new        []   5500.0  8.714872e+09        []   \n",
       "83842       []        new        []    100.0  9.357516e+09        []   \n",
       "\n",
       "      variations site_id listing_type_id price  ... permalink sold_quantity  \\\n",
       "16694        MLA  bronze            80.0   NaN  ...         0           1.0   \n",
       "83020        MLA  bronze          5500.0   NaN  ...         0           1.0   \n",
       "83842        MLA  bronze           100.0   NaN  ...         0           1.0   \n",
       "\n",
       "      available_quantity seller_address_country_name  \\\n",
       "16694          Argentina             Capital Federal   \n",
       "83020          Argentina             Capital Federal   \n",
       "83842          Argentina             Capital Federal   \n",
       "\n",
       "      seller_address_state_name seller_address_city_name  \\\n",
       "16694                tribunales                    False   \n",
       "83020                   Almagro                    False   \n",
       "83842                tribunales                     True   \n",
       "\n",
       "      shipping_local_pick_up shipping_free_shipping    Y temp_column_price  \n",
       "16694                  False                   used  NaN              True  \n",
       "83020                  False                    new  NaN              True  \n",
       "83842                  False                    new  NaN              True  \n",
       "\n",
       "[3 rows x 48 columns]"
      ]
     },
     "execution_count": 15,
     "metadata": {},
     "output_type": "execute_result"
    }
   ],
   "source": [
    "na_price = df[df[\"price\"].isnull() == True]\n",
    "na_price"
   ]
  },
  {
   "cell_type": "code",
   "execution_count": 16,
   "id": "690b8026",
   "metadata": {},
   "outputs": [],
   "source": [
    "df = df.drop([16694, 83020, 83842], axis=0)"
   ]
  },
  {
   "cell_type": "code",
   "execution_count": 17,
   "id": "25e3f74d",
   "metadata": {},
   "outputs": [
    {
     "data": {
      "text/plain": [
       "(2222222222.0, 0.84)"
      ]
     },
     "execution_count": 17,
     "metadata": {},
     "output_type": "execute_result"
    }
   ],
   "source": [
    "max(df[\"price\"]), min(df[\"price\"])"
   ]
  },
  {
   "cell_type": "code",
   "execution_count": 18,
   "id": "953379d0",
   "metadata": {},
   "outputs": [
    {
     "data": {
      "image/png": "[encoded data removed]",
      "text/plain": [
       "<Figure size 640x480 with 1 Axes>"
      ]
     },
     "metadata": {},
     "output_type": "display_data"
    }
   ],
   "source": [
    "plt.boxplot(df[\"price\"])\n",
    "plt.title(\"Variable 'price' distribución\")\n",
    "plt.show()"
   ]
  },
  {
   "cell_type": "code",
   "execution_count": 19,
   "id": "b4ec84d7",
   "metadata": {},
   "outputs": [
    {
     "data": {
      "image/png": "[encoded data removed]",
      "text/plain": [
       "<Figure size 640x480 with 1 Axes>"
      ]
     },
     "metadata": {},
     "output_type": "display_data"
    }
   ],
   "source": [
    "plt.boxplot(df[\"price\"][df[\"price\"] < 1000])\n",
    "plt.title(\"Variable 'price' distribución filtro menor que 1000\")\n",
    "plt.show()"
   ]
  },
  {
   "cell_type": "code",
   "execution_count": 20,
   "id": "56a0b3de",
   "metadata": {},
   "outputs": [
    {
     "data": {
      "text/plain": [
       "86365"
      ]
     },
     "execution_count": 20,
     "metadata": {},
     "output_type": "execute_result"
    }
   ],
   "source": [
    "len(df[\"price\"][df[\"price\"] < 10000])"
   ]
  },
  {
   "cell_type": "code",
   "execution_count": 21,
   "id": "29fdfafa",
   "metadata": {},
   "outputs": [
    {
     "data": {
      "image/png": "[encoded data removed]",
      "text/plain": [
       "<Figure size 640x480 with 1 Axes>"
      ]
     },
     "metadata": {},
     "output_type": "display_data"
    }
   ],
   "source": [
    "plt.boxplot(df[\"price\"][df[\"price\"] < 10000])\n",
    "plt.title(\"Variable 'price' distribución filtro menor que 10000\")\n",
    "plt.show()"
   ]
  },
  {
   "cell_type": "code",
   "execution_count": 22,
   "id": "5b33040a",
   "metadata": {},
   "outputs": [
    {
     "data": {
      "text/plain": [
       "4.035690078558174"
      ]
     },
     "execution_count": 22,
     "metadata": {},
     "output_type": "execute_result"
    }
   ],
   "source": [
    "(1 - len(df[\"price\"][df[\"price\"] < 10000]) / len(df)) * 100"
   ]
  },
  {
   "cell_type": "markdown",
   "id": "01ad4e7a",
   "metadata": {},
   "source": [
    "**Nota :** Esta columna presenta varios valore atípicos por esta razón se procede a eliminar los valores que estén por encima de 100.000, perdiendo solo el 4% de los datos originales, al valor mayor es de 2.222.222.222 que es muy atípico"
   ]
  },
  {
   "cell_type": "code",
   "execution_count": 23,
   "id": "f48af2bc",
   "metadata": {},
   "outputs": [],
   "source": [
    "df = df[df[\"price\"] < 10000]"
   ]
  },
  {
   "cell_type": "code",
   "execution_count": 24,
   "id": "275e22ee",
   "metadata": {},
   "outputs": [
    {
     "data": {
      "text/plain": [
       "86365"
      ]
     },
     "execution_count": 24,
     "metadata": {},
     "output_type": "execute_result"
    }
   ],
   "source": [
    "len(df)"
   ]
  },
  {
   "cell_type": "code",
   "execution_count": 25,
   "id": "d150b58c",
   "metadata": {},
   "outputs": [
    {
     "data": {
      "image/png": "[encoded data removed]",
      "text/plain": [
       "<Figure size 640x480 with 1 Axes>"
      ]
     },
     "metadata": {},
     "output_type": "display_data"
    }
   ],
   "source": [
    "plt.hist(df[\"price\"], bins=200)\n",
    "plt.title(\"Variable 'price' distribución histograma\")\n",
    "plt.show()"
   ]
  },
  {
   "cell_type": "markdown",
   "id": "2a86bd17",
   "metadata": {},
   "source": [
    "#### Variable original price"
   ]
  },
  {
   "cell_type": "code",
   "execution_count": 26,
   "id": "ae43810e",
   "metadata": {},
   "outputs": [
    {
     "data": {
      "text/plain": [
       "0    NaN\n",
       "1    NaN\n",
       "2    NaN\n",
       "3    NaN\n",
       "4    NaN\n",
       "Name: original_price, dtype: object"
      ]
     },
     "execution_count": 26,
     "metadata": {},
     "output_type": "execute_result"
    }
   ],
   "source": [
    "df[\"original_price\"].head()"
   ]
  },
  {
   "cell_type": "code",
   "execution_count": 27,
   "id": "f90fe1ed",
   "metadata": {},
   "outputs": [
    {
     "data": {
      "text/html": [
       "<div>\n",
       "<style scoped>\n",
       "    .dataframe tbody tr th:only-of-type {\n",
       "        vertical-align: middle;\n",
       "    }\n",
       "\n",
       "    .dataframe tbody tr th {\n",
       "        vertical-align: top;\n",
       "    }\n",
       "\n",
       "    .dataframe thead th {\n",
       "        text-align: right;\n",
       "    }\n",
       "</style>\n",
       "<table border=\"1\" class=\"dataframe\">\n",
       "  <thead>\n",
       "    <tr style=\"text-align: right;\">\n",
       "      <th></th>\n",
       "      <th>warranty</th>\n",
       "      <th>sub_status</th>\n",
       "      <th>condition</th>\n",
       "      <th>deal_ids</th>\n",
       "      <th>base_price</th>\n",
       "      <th>seller_id</th>\n",
       "      <th>variations</th>\n",
       "      <th>site_id</th>\n",
       "      <th>listing_type_id</th>\n",
       "      <th>price</th>\n",
       "      <th>...</th>\n",
       "      <th>permalink</th>\n",
       "      <th>sold_quantity</th>\n",
       "      <th>available_quantity</th>\n",
       "      <th>seller_address_country_name</th>\n",
       "      <th>seller_address_state_name</th>\n",
       "      <th>seller_address_city_name</th>\n",
       "      <th>shipping_local_pick_up</th>\n",
       "      <th>shipping_free_shipping</th>\n",
       "      <th>Y</th>\n",
       "      <th>temp_column_price</th>\n",
       "    </tr>\n",
       "  </thead>\n",
       "  <tbody>\n",
       "    <tr>\n",
       "      <th>0</th>\n",
       "      <td>NaN</td>\n",
       "      <td>[]</td>\n",
       "      <td>new</td>\n",
       "      <td>[]</td>\n",
       "      <td>80.00</td>\n",
       "      <td>8208882349</td>\n",
       "      <td>[]</td>\n",
       "      <td>MLA</td>\n",
       "      <td>bronze</td>\n",
       "      <td>80.0</td>\n",
       "      <td>...</td>\n",
       "      <td>http://articulo.mercadolibre.com.ar/MLA4695330...</td>\n",
       "      <td>0.0</td>\n",
       "      <td>1</td>\n",
       "      <td>Argentina</td>\n",
       "      <td>Capital Federal</td>\n",
       "      <td>San Cristóbal</td>\n",
       "      <td>True</td>\n",
       "      <td>False</td>\n",
       "      <td>new</td>\n",
       "      <td>False</td>\n",
       "    </tr>\n",
       "    <tr>\n",
       "      <th>1</th>\n",
       "      <td>NUESTRA REPUTACION</td>\n",
       "      <td>[]</td>\n",
       "      <td>used</td>\n",
       "      <td>[]</td>\n",
       "      <td>2650.00</td>\n",
       "      <td>8141699488</td>\n",
       "      <td>[]</td>\n",
       "      <td>MLA</td>\n",
       "      <td>silver</td>\n",
       "      <td>2650.0</td>\n",
       "      <td>...</td>\n",
       "      <td>http://articulo.mercadolibre.com.ar/MLA7160447...</td>\n",
       "      <td>0.0</td>\n",
       "      <td>1</td>\n",
       "      <td>Argentina</td>\n",
       "      <td>Capital Federal</td>\n",
       "      <td>Buenos Aires</td>\n",
       "      <td>True</td>\n",
       "      <td>False</td>\n",
       "      <td>used</td>\n",
       "      <td>False</td>\n",
       "    </tr>\n",
       "    <tr>\n",
       "      <th>2</th>\n",
       "      <td>NaN</td>\n",
       "      <td>[]</td>\n",
       "      <td>used</td>\n",
       "      <td>[]</td>\n",
       "      <td>60.00</td>\n",
       "      <td>8386096505</td>\n",
       "      <td>[]</td>\n",
       "      <td>MLA</td>\n",
       "      <td>bronze</td>\n",
       "      <td>60.0</td>\n",
       "      <td>...</td>\n",
       "      <td>http://articulo.mercadolibre.com.ar/MLA7367189...</td>\n",
       "      <td>0.0</td>\n",
       "      <td>1</td>\n",
       "      <td>Argentina</td>\n",
       "      <td>Capital Federal</td>\n",
       "      <td>Boedo</td>\n",
       "      <td>True</td>\n",
       "      <td>False</td>\n",
       "      <td>used</td>\n",
       "      <td>False</td>\n",
       "    </tr>\n",
       "    <tr>\n",
       "      <th>3</th>\n",
       "      <td>NaN</td>\n",
       "      <td>[]</td>\n",
       "      <td>new</td>\n",
       "      <td>[]</td>\n",
       "      <td>580.00</td>\n",
       "      <td>5377752182</td>\n",
       "      <td>[]</td>\n",
       "      <td>MLA</td>\n",
       "      <td>silver</td>\n",
       "      <td>580.0</td>\n",
       "      <td>...</td>\n",
       "      <td>http://articulo.mercadolibre.com.ar/MLA9191625...</td>\n",
       "      <td>0.0</td>\n",
       "      <td>1</td>\n",
       "      <td>Argentina</td>\n",
       "      <td>Capital Federal</td>\n",
       "      <td>Floresta</td>\n",
       "      <td>True</td>\n",
       "      <td>False</td>\n",
       "      <td>new</td>\n",
       "      <td>False</td>\n",
       "    </tr>\n",
       "    <tr>\n",
       "      <th>4</th>\n",
       "      <td>MI REPUTACION.</td>\n",
       "      <td>[]</td>\n",
       "      <td>used</td>\n",
       "      <td>[]</td>\n",
       "      <td>30.00</td>\n",
       "      <td>2938071313</td>\n",
       "      <td>[]</td>\n",
       "      <td>MLA</td>\n",
       "      <td>bronze</td>\n",
       "      <td>30.0</td>\n",
       "      <td>...</td>\n",
       "      <td>http://articulo.mercadolibre.com.ar/MLA7787961...</td>\n",
       "      <td>0.0</td>\n",
       "      <td>1</td>\n",
       "      <td>Argentina</td>\n",
       "      <td>Buenos Aires</td>\n",
       "      <td>Tres de febrero</td>\n",
       "      <td>True</td>\n",
       "      <td>False</td>\n",
       "      <td>used</td>\n",
       "      <td>False</td>\n",
       "    </tr>\n",
       "    <tr>\n",
       "      <th>...</th>\n",
       "      <td>...</td>\n",
       "      <td>...</td>\n",
       "      <td>...</td>\n",
       "      <td>...</td>\n",
       "      <td>...</td>\n",
       "      <td>...</td>\n",
       "      <td>...</td>\n",
       "      <td>...</td>\n",
       "      <td>...</td>\n",
       "      <td>...</td>\n",
       "      <td>...</td>\n",
       "      <td>...</td>\n",
       "      <td>...</td>\n",
       "      <td>...</td>\n",
       "      <td>...</td>\n",
       "      <td>...</td>\n",
       "      <td>...</td>\n",
       "      <td>...</td>\n",
       "      <td>...</td>\n",
       "      <td>...</td>\n",
       "      <td>...</td>\n",
       "    </tr>\n",
       "    <tr>\n",
       "      <th>89998</th>\n",
       "      <td>Sin garantía</td>\n",
       "      <td>[]</td>\n",
       "      <td>used</td>\n",
       "      <td>[]</td>\n",
       "      <td>68.00</td>\n",
       "      <td>9451922715</td>\n",
       "      <td>[]</td>\n",
       "      <td>MLA</td>\n",
       "      <td>bronze</td>\n",
       "      <td>68.0</td>\n",
       "      <td>...</td>\n",
       "      <td>http://articulo.mercadolibre.com.ar/MLA1315520...</td>\n",
       "      <td>0.0</td>\n",
       "      <td>1</td>\n",
       "      <td>Argentina</td>\n",
       "      <td>Capital Federal</td>\n",
       "      <td>capital federal</td>\n",
       "      <td>False</td>\n",
       "      <td>False</td>\n",
       "      <td>used</td>\n",
       "      <td>True</td>\n",
       "    </tr>\n",
       "    <tr>\n",
       "      <th>89999</th>\n",
       "      <td>NaN</td>\n",
       "      <td>[]</td>\n",
       "      <td>new</td>\n",
       "      <td>[]</td>\n",
       "      <td>126.00</td>\n",
       "      <td>4665194056</td>\n",
       "      <td>[]</td>\n",
       "      <td>MLA</td>\n",
       "      <td>bronze</td>\n",
       "      <td>126.0</td>\n",
       "      <td>...</td>\n",
       "      <td>http://articulo.mercadolibre.com.ar/MLA6934377...</td>\n",
       "      <td>1.0</td>\n",
       "      <td>1</td>\n",
       "      <td>Argentina</td>\n",
       "      <td>Capital Federal</td>\n",
       "      <td>Núñez</td>\n",
       "      <td>True</td>\n",
       "      <td>False</td>\n",
       "      <td>new</td>\n",
       "      <td>True</td>\n",
       "    </tr>\n",
       "    <tr>\n",
       "      <th>90000</th>\n",
       "      <td>NaN</td>\n",
       "      <td>[]</td>\n",
       "      <td>new</td>\n",
       "      <td>[]</td>\n",
       "      <td>300.00</td>\n",
       "      <td>3046474001</td>\n",
       "      <td>[]</td>\n",
       "      <td>MLA</td>\n",
       "      <td>bronze</td>\n",
       "      <td>300.0</td>\n",
       "      <td>...</td>\n",
       "      <td>http://articulo.mercadolibre.com.ar/MLA5644559...</td>\n",
       "      <td>0.0</td>\n",
       "      <td>1</td>\n",
       "      <td>Argentina</td>\n",
       "      <td>Buenos Aires</td>\n",
       "      <td>La Matanza</td>\n",
       "      <td>True</td>\n",
       "      <td>False</td>\n",
       "      <td>new</td>\n",
       "      <td>True</td>\n",
       "    </tr>\n",
       "    <tr>\n",
       "      <th>90001</th>\n",
       "      <td>La garantia solo responde en caso de fallas de...</td>\n",
       "      <td>[]</td>\n",
       "      <td>new</td>\n",
       "      <td>[]</td>\n",
       "      <td>696.58</td>\n",
       "      <td>2373910598</td>\n",
       "      <td>[]</td>\n",
       "      <td>MLA</td>\n",
       "      <td>bronze</td>\n",
       "      <td>696.58</td>\n",
       "      <td>...</td>\n",
       "      <td>http://articulo.mercadolibre.com.ar/MLA3520244...</td>\n",
       "      <td>0.0</td>\n",
       "      <td>100</td>\n",
       "      <td>Argentina</td>\n",
       "      <td>Chubut</td>\n",
       "      <td>Trelew</td>\n",
       "      <td>False</td>\n",
       "      <td>False</td>\n",
       "      <td>new</td>\n",
       "      <td>True</td>\n",
       "    </tr>\n",
       "    <tr>\n",
       "      <th>90002</th>\n",
       "      <td>NaN</td>\n",
       "      <td>[]</td>\n",
       "      <td>used</td>\n",
       "      <td>[]</td>\n",
       "      <td>470.00</td>\n",
       "      <td>9518711314</td>\n",
       "      <td>[{'attribute_combinations': [{'value_id': '920...</td>\n",
       "      <td>MLA</td>\n",
       "      <td>free</td>\n",
       "      <td>470.0</td>\n",
       "      <td>...</td>\n",
       "      <td>http://articulo.mercadolibre.com.ar/MLA8241142...</td>\n",
       "      <td>0.0</td>\n",
       "      <td>1</td>\n",
       "      <td>Argentina</td>\n",
       "      <td>Capital Federal</td>\n",
       "      <td>mataderos</td>\n",
       "      <td>True</td>\n",
       "      <td>False</td>\n",
       "      <td>used</td>\n",
       "      <td>True</td>\n",
       "    </tr>\n",
       "  </tbody>\n",
       "</table>\n",
       "<p>86236 rows × 48 columns</p>\n",
       "</div>"
      ],
      "text/plain": [
       "                                                warranty sub_status condition  \\\n",
       "0                                                    NaN         []       new   \n",
       "1                                     NUESTRA REPUTACION         []      used   \n",
       "2                                                    NaN         []      used   \n",
       "3                                                    NaN         []       new   \n",
       "4                                         MI REPUTACION.         []      used   \n",
       "...                                                  ...        ...       ...   \n",
       "89998                                       Sin garantía         []      used   \n",
       "89999                                                NaN         []       new   \n",
       "90000                                                NaN         []       new   \n",
       "90001  La garantia solo responde en caso de fallas de...         []       new   \n",
       "90002                                                NaN         []      used   \n",
       "\n",
       "      deal_ids  base_price   seller_id  \\\n",
       "0           []       80.00  8208882349   \n",
       "1           []     2650.00  8141699488   \n",
       "2           []       60.00  8386096505   \n",
       "3           []      580.00  5377752182   \n",
       "4           []       30.00  2938071313   \n",
       "...        ...         ...         ...   \n",
       "89998       []       68.00  9451922715   \n",
       "89999       []      126.00  4665194056   \n",
       "90000       []      300.00  3046474001   \n",
       "90001       []      696.58  2373910598   \n",
       "90002       []      470.00  9518711314   \n",
       "\n",
       "                                              variations site_id  \\\n",
       "0                                                     []     MLA   \n",
       "1                                                     []     MLA   \n",
       "2                                                     []     MLA   \n",
       "3                                                     []     MLA   \n",
       "4                                                     []     MLA   \n",
       "...                                                  ...     ...   \n",
       "89998                                                 []     MLA   \n",
       "89999                                                 []     MLA   \n",
       "90000                                                 []     MLA   \n",
       "90001                                                 []     MLA   \n",
       "90002  [{'attribute_combinations': [{'value_id': '920...     MLA   \n",
       "\n",
       "      listing_type_id   price  ...  \\\n",
       "0              bronze    80.0  ...   \n",
       "1              silver  2650.0  ...   \n",
       "2              bronze    60.0  ...   \n",
       "3              silver   580.0  ...   \n",
       "4              bronze    30.0  ...   \n",
       "...               ...     ...  ...   \n",
       "89998          bronze    68.0  ...   \n",
       "89999          bronze   126.0  ...   \n",
       "90000          bronze   300.0  ...   \n",
       "90001          bronze  696.58  ...   \n",
       "90002            free   470.0  ...   \n",
       "\n",
       "                                               permalink sold_quantity  \\\n",
       "0      http://articulo.mercadolibre.com.ar/MLA4695330...           0.0   \n",
       "1      http://articulo.mercadolibre.com.ar/MLA7160447...           0.0   \n",
       "2      http://articulo.mercadolibre.com.ar/MLA7367189...           0.0   \n",
       "3      http://articulo.mercadolibre.com.ar/MLA9191625...           0.0   \n",
       "4      http://articulo.mercadolibre.com.ar/MLA7787961...           0.0   \n",
       "...                                                  ...           ...   \n",
       "89998  http://articulo.mercadolibre.com.ar/MLA1315520...           0.0   \n",
       "89999  http://articulo.mercadolibre.com.ar/MLA6934377...           1.0   \n",
       "90000  http://articulo.mercadolibre.com.ar/MLA5644559...           0.0   \n",
       "90001  http://articulo.mercadolibre.com.ar/MLA3520244...           0.0   \n",
       "90002  http://articulo.mercadolibre.com.ar/MLA8241142...           0.0   \n",
       "\n",
       "      available_quantity seller_address_country_name  \\\n",
       "0                      1                   Argentina   \n",
       "1                      1                   Argentina   \n",
       "2                      1                   Argentina   \n",
       "3                      1                   Argentina   \n",
       "4                      1                   Argentina   \n",
       "...                  ...                         ...   \n",
       "89998                  1                   Argentina   \n",
       "89999                  1                   Argentina   \n",
       "90000                  1                   Argentina   \n",
       "90001                100                   Argentina   \n",
       "90002                  1                   Argentina   \n",
       "\n",
       "      seller_address_state_name seller_address_city_name  \\\n",
       "0               Capital Federal            San Cristóbal   \n",
       "1               Capital Federal             Buenos Aires   \n",
       "2               Capital Federal                    Boedo   \n",
       "3               Capital Federal                 Floresta   \n",
       "4                  Buenos Aires          Tres de febrero   \n",
       "...                         ...                      ...   \n",
       "89998           Capital Federal          capital federal   \n",
       "89999           Capital Federal                    Núñez   \n",
       "90000              Buenos Aires               La Matanza   \n",
       "90001                    Chubut                   Trelew   \n",
       "90002           Capital Federal                mataderos   \n",
       "\n",
       "      shipping_local_pick_up shipping_free_shipping     Y temp_column_price  \n",
       "0                       True                  False   new             False  \n",
       "1                       True                  False  used             False  \n",
       "2                       True                  False  used             False  \n",
       "3                       True                  False   new             False  \n",
       "4                       True                  False  used             False  \n",
       "...                      ...                    ...   ...               ...  \n",
       "89998                  False                  False  used              True  \n",
       "89999                   True                  False   new              True  \n",
       "90000                   True                  False   new              True  \n",
       "90001                  False                  False   new              True  \n",
       "90002                   True                  False  used              True  \n",
       "\n",
       "[86236 rows x 48 columns]"
      ]
     },
     "execution_count": 27,
     "metadata": {},
     "output_type": "execute_result"
    }
   ],
   "source": [
    "na_original_price = df[df[\"original_price\"].isnull() == True]\n",
    "na_original_price"
   ]
  },
  {
   "cell_type": "markdown",
   "id": "ba8819cf",
   "metadata": {},
   "source": [
    "**Nota:** Esta variable tiene todos su valores NA así que se procede a eliminar"
   ]
  },
  {
   "cell_type": "code",
   "execution_count": 28,
   "id": "604b450b",
   "metadata": {},
   "outputs": [],
   "source": [
    "df = df.drop([\"original_price\", \"temp_column_price\"], axis=1)"
   ]
  },
  {
   "cell_type": "markdown",
   "id": "6608473e",
   "metadata": {},
   "source": [
    "#### Variable automatic_relist"
   ]
  },
  {
   "cell_type": "code",
   "execution_count": 29,
   "id": "76bd13cf",
   "metadata": {},
   "outputs": [
    {
     "data": {
      "text/plain": [
       "0    False\n",
       "1    False\n",
       "2    False\n",
       "3    False\n",
       "4    False\n",
       "Name: automatic_relist, dtype: object"
      ]
     },
     "execution_count": 29,
     "metadata": {},
     "output_type": "execute_result"
    }
   ],
   "source": [
    "df[\"automatic_relist\"].head()"
   ]
  },
  {
   "cell_type": "code",
   "execution_count": 30,
   "id": "73debd3d",
   "metadata": {},
   "outputs": [],
   "source": [
    "df[\"automatic_relist\"] = df[\"automatic_relist\"].apply(lambda x: type(x) != bool)\n",
    "for i in range(len(df)):\n",
    "    if df[\"automatic_relist\"].iloc[i] == True:\n",
    "        try:\n",
    "            df[\"automatic_relist\"].iloc[i] = float(df[\"automatic_relist\"].iloc[i])\n",
    "        except:\n",
    "            df[\"automatic_relist\"].iloc[i] = float(\"nan\")"
   ]
  },
  {
   "cell_type": "code",
   "execution_count": 37,
   "id": "ed290612",
   "metadata": {},
   "outputs": [
    {
     "data": {
      "image/png": "[encoded data removed]",
      "text/plain": [
       "<Figure size 640x480 with 1 Axes>"
      ]
     },
     "metadata": {},
     "output_type": "display_data"
    }
   ],
   "source": [
    "plt.hist(df[\"automatic_relist\"])\n",
    "plt.title(\"Frecuencia variable automatic_relist\")\n",
    "plt.show()"
   ]
  },
  {
   "cell_type": "code",
   "execution_count": 38,
   "id": "e44a47a7",
   "metadata": {},
   "outputs": [
    {
     "data": {
      "text/html": [
       "<div>\n",
       "<style scoped>\n",
       "    .dataframe tbody tr th:only-of-type {\n",
       "        vertical-align: middle;\n",
       "    }\n",
       "\n",
       "    .dataframe tbody tr th {\n",
       "        vertical-align: top;\n",
       "    }\n",
       "\n",
       "    .dataframe thead th {\n",
       "        text-align: right;\n",
       "    }\n",
       "</style>\n",
       "<table border=\"1\" class=\"dataframe\">\n",
       "  <thead>\n",
       "    <tr style=\"text-align: right;\">\n",
       "      <th></th>\n",
       "      <th>warranty</th>\n",
       "      <th>sub_status</th>\n",
       "      <th>condition</th>\n",
       "      <th>deal_ids</th>\n",
       "      <th>base_price</th>\n",
       "      <th>seller_id</th>\n",
       "      <th>variations</th>\n",
       "      <th>site_id</th>\n",
       "      <th>listing_type_id</th>\n",
       "      <th>price</th>\n",
       "      <th>...</th>\n",
       "      <th>initial_quantity</th>\n",
       "      <th>permalink</th>\n",
       "      <th>sold_quantity</th>\n",
       "      <th>available_quantity</th>\n",
       "      <th>seller_address_country_name</th>\n",
       "      <th>seller_address_state_name</th>\n",
       "      <th>seller_address_city_name</th>\n",
       "      <th>shipping_local_pick_up</th>\n",
       "      <th>shipping_free_shipping</th>\n",
       "      <th>Y</th>\n",
       "    </tr>\n",
       "  </thead>\n",
       "  <tbody>\n",
       "  </tbody>\n",
       "</table>\n",
       "<p>0 rows × 44 columns</p>\n",
       "</div>"
      ],
      "text/plain": [
       "Empty DataFrame\n",
       "Columns: [warranty, sub_status, condition, deal_ids, base_price, seller_id, variations, site_id, listing_type_id, price, attributes, buying_mode, tags, listing_source, parent_item_id, coverage_areas, category_id, descriptions, last_updated, international_delivery_mode, pictures, id, official_store_id, differential_pricing, accepts_mercadopago, currency_id, thumbnail, title, automatic_relist, date_created, status, video_id, catalog_product_id, subtitle, initial_quantity, permalink, sold_quantity, available_quantity, seller_address_country_name, seller_address_state_name, seller_address_city_name, shipping_local_pick_up, shipping_free_shipping, Y]\n",
       "Index: []\n",
       "\n",
       "[0 rows x 44 columns]"
      ]
     },
     "execution_count": 38,
     "metadata": {},
     "output_type": "execute_result"
    }
   ],
   "source": [
    "na_automatic_relist = df[df[\"automatic_relist\"].isnull() == True]\n",
    "na_automatic_relist"
   ]
  },
  {
   "cell_type": "markdown",
   "id": "f070e049",
   "metadata": {},
   "source": [
    "**Nota:** Esta variable esta des balanceada pero se tendrá en cuenta en el análisis inicial "
   ]
  },
  {
   "cell_type": "markdown",
   "id": "b9f6240f",
   "metadata": {},
   "source": [
    "#### Variable stop_time y start_time"
   ]
  },
  {
   "cell_type": "code",
   "execution_count": 39,
   "id": "1ce2e252",
   "metadata": {},
   "outputs": [
    {
     "ename": "KeyError",
     "evalue": "'stop_time'",
     "output_type": "error",
     "traceback": [
      "\u001b[0;31m---------------------------------------------------------------------------\u001b[0m",
      "\u001b[0;31mKeyError\u001b[0m                                  Traceback (most recent call last)",
      "File \u001b[0;32m~/anaconda3/lib/python3.10/site-packages/pandas/core/indexes/base.py:3802\u001b[0m, in \u001b[0;36mIndex.get_loc\u001b[0;34m(self, key, method, tolerance)\u001b[0m\n\u001b[1;32m   3801\u001b[0m \u001b[38;5;28;01mtry\u001b[39;00m:\n\u001b[0;32m-> 3802\u001b[0m     \u001b[38;5;28;01mreturn\u001b[39;00m \u001b[38;5;28;43mself\u001b[39;49m\u001b[38;5;241;43m.\u001b[39;49m\u001b[43m_engine\u001b[49m\u001b[38;5;241;43m.\u001b[39;49m\u001b[43mget_loc\u001b[49m\u001b[43m(\u001b[49m\u001b[43mcasted_key\u001b[49m\u001b[43m)\u001b[49m\n\u001b[1;32m   3803\u001b[0m \u001b[38;5;28;01mexcept\u001b[39;00m \u001b[38;5;167;01mKeyError\u001b[39;00m \u001b[38;5;28;01mas\u001b[39;00m err:\n",
      "File \u001b[0;32m~/anaconda3/lib/python3.10/site-packages/pandas/_libs/index.pyx:138\u001b[0m, in \u001b[0;36mpandas._libs.index.IndexEngine.get_loc\u001b[0;34m()\u001b[0m\n",
      "File \u001b[0;32m~/anaconda3/lib/python3.10/site-packages/pandas/_libs/index.pyx:165\u001b[0m, in \u001b[0;36mpandas._libs.index.IndexEngine.get_loc\u001b[0;34m()\u001b[0m\n",
      "File \u001b[0;32mpandas/_libs/hashtable_class_helper.pxi:5745\u001b[0m, in \u001b[0;36mpandas._libs.hashtable.PyObjectHashTable.get_item\u001b[0;34m()\u001b[0m\n",
      "File \u001b[0;32mpandas/_libs/hashtable_class_helper.pxi:5753\u001b[0m, in \u001b[0;36mpandas._libs.hashtable.PyObjectHashTable.get_item\u001b[0;34m()\u001b[0m\n",
      "\u001b[0;31mKeyError\u001b[0m: 'stop_time'",
      "\nThe above exception was the direct cause of the following exception:\n",
      "\u001b[0;31mKeyError\u001b[0m                                  Traceback (most recent call last)",
      "Cell \u001b[0;32mIn[39], line 1\u001b[0m\n\u001b[0;32m----> 1\u001b[0m \u001b[43mdf\u001b[49m\u001b[43m[\u001b[49m\u001b[38;5;124;43m\"\u001b[39;49m\u001b[38;5;124;43mstop_time\u001b[39;49m\u001b[38;5;124;43m\"\u001b[39;49m\u001b[43m]\u001b[49m\u001b[38;5;241m.\u001b[39mhead()\n",
      "File \u001b[0;32m~/anaconda3/lib/python3.10/site-packages/pandas/core/frame.py:3807\u001b[0m, in \u001b[0;36mDataFrame.__getitem__\u001b[0;34m(self, key)\u001b[0m\n\u001b[1;32m   3805\u001b[0m \u001b[38;5;28;01mif\u001b[39;00m \u001b[38;5;28mself\u001b[39m\u001b[38;5;241m.\u001b[39mcolumns\u001b[38;5;241m.\u001b[39mnlevels \u001b[38;5;241m>\u001b[39m \u001b[38;5;241m1\u001b[39m:\n\u001b[1;32m   3806\u001b[0m     \u001b[38;5;28;01mreturn\u001b[39;00m \u001b[38;5;28mself\u001b[39m\u001b[38;5;241m.\u001b[39m_getitem_multilevel(key)\n\u001b[0;32m-> 3807\u001b[0m indexer \u001b[38;5;241m=\u001b[39m \u001b[38;5;28;43mself\u001b[39;49m\u001b[38;5;241;43m.\u001b[39;49m\u001b[43mcolumns\u001b[49m\u001b[38;5;241;43m.\u001b[39;49m\u001b[43mget_loc\u001b[49m\u001b[43m(\u001b[49m\u001b[43mkey\u001b[49m\u001b[43m)\u001b[49m\n\u001b[1;32m   3808\u001b[0m \u001b[38;5;28;01mif\u001b[39;00m is_integer(indexer):\n\u001b[1;32m   3809\u001b[0m     indexer \u001b[38;5;241m=\u001b[39m [indexer]\n",
      "File \u001b[0;32m~/anaconda3/lib/python3.10/site-packages/pandas/core/indexes/base.py:3804\u001b[0m, in \u001b[0;36mIndex.get_loc\u001b[0;34m(self, key, method, tolerance)\u001b[0m\n\u001b[1;32m   3802\u001b[0m     \u001b[38;5;28;01mreturn\u001b[39;00m \u001b[38;5;28mself\u001b[39m\u001b[38;5;241m.\u001b[39m_engine\u001b[38;5;241m.\u001b[39mget_loc(casted_key)\n\u001b[1;32m   3803\u001b[0m \u001b[38;5;28;01mexcept\u001b[39;00m \u001b[38;5;167;01mKeyError\u001b[39;00m \u001b[38;5;28;01mas\u001b[39;00m err:\n\u001b[0;32m-> 3804\u001b[0m     \u001b[38;5;28;01mraise\u001b[39;00m \u001b[38;5;167;01mKeyError\u001b[39;00m(key) \u001b[38;5;28;01mfrom\u001b[39;00m \u001b[38;5;21;01merr\u001b[39;00m\n\u001b[1;32m   3805\u001b[0m \u001b[38;5;28;01mexcept\u001b[39;00m \u001b[38;5;167;01mTypeError\u001b[39;00m:\n\u001b[1;32m   3806\u001b[0m     \u001b[38;5;66;03m# If we have a listlike key, _check_indexing_error will raise\u001b[39;00m\n\u001b[1;32m   3807\u001b[0m     \u001b[38;5;66;03m#  InvalidIndexError. Otherwise we fall through and re-raise\u001b[39;00m\n\u001b[1;32m   3808\u001b[0m     \u001b[38;5;66;03m#  the TypeError.\u001b[39;00m\n\u001b[1;32m   3809\u001b[0m     \u001b[38;5;28mself\u001b[39m\u001b[38;5;241m.\u001b[39m_check_indexing_error(key)\n",
      "\u001b[0;31mKeyError\u001b[0m: 'stop_time'"
     ]
    }
   ],
   "source": [
    "df[\"stop_time\"].head()"
   ]
  },
  {
   "cell_type": "code",
   "execution_count": 34,
   "id": "349dc2a1",
   "metadata": {},
   "outputs": [
    {
     "data": {
      "text/plain": [
       "0    1441485773000\n",
       "1    1443290910000\n",
       "2    1441843027000\n",
       "3    1443466076000\n",
       "4    1440454040000\n",
       "Name: start_time, dtype: object"
      ]
     },
     "execution_count": 34,
     "metadata": {},
     "output_type": "execute_result"
    }
   ],
   "source": [
    "df[\"start_time\"].head()"
   ]
  },
  {
   "cell_type": "markdown",
   "id": "a5d2b10e",
   "metadata": {},
   "source": [
    "**Nota:** Esta variable es una marca de tiempo y el problema es de clasificación así que no se tendrán en cuenta y se eliminaran de este análisis"
   ]
  },
  {
   "cell_type": "code",
   "execution_count": 35,
   "id": "7ef3f0d7",
   "metadata": {},
   "outputs": [],
   "source": [
    "df = df.drop([\"stop_time\", \"start_time\"], axis=1)"
   ]
  },
  {
   "cell_type": "markdown",
   "id": "d75a809c",
   "metadata": {},
   "source": [
    "#### Variable available_quantity"
   ]
  },
  {
   "cell_type": "code",
   "execution_count": 41,
   "id": "e9d8ea61",
   "metadata": {},
   "outputs": [
    {
     "data": {
      "text/plain": [
       "0    1\n",
       "1    1\n",
       "2    1\n",
       "3    1\n",
       "4    1\n",
       "Name: available_quantity, dtype: object"
      ]
     },
     "execution_count": 41,
     "metadata": {},
     "output_type": "execute_result"
    }
   ],
   "source": [
    "df[\"available_quantity\"].head()"
   ]
  },
  {
   "cell_type": "code",
   "execution_count": 42,
   "id": "8e77e526",
   "metadata": {},
   "outputs": [],
   "source": [
    "df[\"available_quantity\"] = df[\"available_quantity\"].apply(lambda x: type(x) != int)\n",
    "for i in range(len(df)):\n",
    "    if df[\"available_quantity\"].iloc[i] == True:\n",
    "        try:\n",
    "            df[\"available_quantity\"].iloc[i] = float(df[\"available_quantity\"].iloc[i])\n",
    "        except:\n",
    "            df[\"available_quantity\"].iloc[i] = float(\"nan\")"
   ]
  },
  {
   "cell_type": "code",
   "execution_count": 43,
   "id": "1845f300",
   "metadata": {},
   "outputs": [
    {
     "data": {
      "text/html": [
       "<div>\n",
       "<style scoped>\n",
       "    .dataframe tbody tr th:only-of-type {\n",
       "        vertical-align: middle;\n",
       "    }\n",
       "\n",
       "    .dataframe tbody tr th {\n",
       "        vertical-align: top;\n",
       "    }\n",
       "\n",
       "    .dataframe thead th {\n",
       "        text-align: right;\n",
       "    }\n",
       "</style>\n",
       "<table border=\"1\" class=\"dataframe\">\n",
       "  <thead>\n",
       "    <tr style=\"text-align: right;\">\n",
       "      <th></th>\n",
       "      <th>warranty</th>\n",
       "      <th>sub_status</th>\n",
       "      <th>condition</th>\n",
       "      <th>deal_ids</th>\n",
       "      <th>base_price</th>\n",
       "      <th>seller_id</th>\n",
       "      <th>variations</th>\n",
       "      <th>site_id</th>\n",
       "      <th>listing_type_id</th>\n",
       "      <th>price</th>\n",
       "      <th>...</th>\n",
       "      <th>initial_quantity</th>\n",
       "      <th>permalink</th>\n",
       "      <th>sold_quantity</th>\n",
       "      <th>available_quantity</th>\n",
       "      <th>seller_address_country_name</th>\n",
       "      <th>seller_address_state_name</th>\n",
       "      <th>seller_address_city_name</th>\n",
       "      <th>shipping_local_pick_up</th>\n",
       "      <th>shipping_free_shipping</th>\n",
       "      <th>Y</th>\n",
       "    </tr>\n",
       "  </thead>\n",
       "  <tbody>\n",
       "  </tbody>\n",
       "</table>\n",
       "<p>0 rows × 44 columns</p>\n",
       "</div>"
      ],
      "text/plain": [
       "Empty DataFrame\n",
       "Columns: [warranty, sub_status, condition, deal_ids, base_price, seller_id, variations, site_id, listing_type_id, price, attributes, buying_mode, tags, listing_source, parent_item_id, coverage_areas, category_id, descriptions, last_updated, international_delivery_mode, pictures, id, official_store_id, differential_pricing, accepts_mercadopago, currency_id, thumbnail, title, automatic_relist, date_created, status, video_id, catalog_product_id, subtitle, initial_quantity, permalink, sold_quantity, available_quantity, seller_address_country_name, seller_address_state_name, seller_address_city_name, shipping_local_pick_up, shipping_free_shipping, Y]\n",
       "Index: []\n",
       "\n",
       "[0 rows x 44 columns]"
      ]
     },
     "execution_count": 43,
     "metadata": {},
     "output_type": "execute_result"
    }
   ],
   "source": [
    "na_available_quantity = df[df[\"available_quantity\"].isnull() == True]\n",
    "na_available_quantity"
   ]
  },
  {
   "cell_type": "code",
   "execution_count": 44,
   "id": "4e8fca88",
   "metadata": {},
   "outputs": [
    {
     "data": {
      "image/png": "[encoded data removed]",
      "text/plain": [
       "<Figure size 640x480 with 1 Axes>"
      ]
     },
     "metadata": {},
     "output_type": "display_data"
    }
   ],
   "source": [
    "plt.hist(df[\"available_quantity\"])\n",
    "plt.show()"
   ]
  },
  {
   "cell_type": "markdown",
   "id": "57db70d7",
   "metadata": {},
   "source": [
    "**Nota:** Esta variable esta des balanceada pero se tendrá en cuenta en el análisis inicial "
   ]
  },
  {
   "cell_type": "code",
   "execution_count": null,
   "id": "98e18f05",
   "metadata": {},
   "outputs": [],
   "source": []
  },
  {
   "cell_type": "code",
   "execution_count": null,
   "id": "5bfed247",
   "metadata": {},
   "outputs": [],
   "source": []
  },
  {
   "cell_type": "code",
   "execution_count": null,
   "id": "ab8a45c1",
   "metadata": {},
   "outputs": [],
   "source": []
  },
  {
   "cell_type": "code",
   "execution_count": null,
   "id": "16c228fb",
   "metadata": {},
   "outputs": [],
   "source": []
  },
  {
   "cell_type": "code",
   "execution_count": null,
   "id": "c69b4a55",
   "metadata": {},
   "outputs": [],
   "source": []
  },
  {
   "cell_type": "code",
   "execution_count": null,
   "id": "fc749892",
   "metadata": {},
   "outputs": [],
   "source": []
  },
  {
   "cell_type": "code",
   "execution_count": null,
   "id": "03a6c6b5",
   "metadata": {},
   "outputs": [],
   "source": []
  },
  {
   "cell_type": "code",
   "execution_count": null,
   "id": "42b3bcde",
   "metadata": {},
   "outputs": [],
   "source": []
  }
 ],
 "metadata": {
  "kernelspec": {
   "display_name": "Python 3 (ipykernel)",
   "language": "python",
   "name": "python3"
  },
  "language_info": {
   "codemirror_mode": {
    "name": "ipython",
    "version": 3
   },
   "file_extension": ".py",
   "mimetype": "text/x-python",
   "name": "python",
   "nbconvert_exporter": "python",
   "pygments_lexer": "ipython3",
   "version": "3.10.9"
  }
 },
 "nbformat": 4,
 "nbformat_minor": 5
}
