{
 "cells": [
  {
   "cell_type": "code",
   "execution_count": 1,
   "id": "3acd8325",
   "metadata": {},
   "outputs": [],
   "source": [
    "%matplotlib inline\n",
    "import numpy as np\n",
    "import pandas as pd\n",
    "import matplotlib.pyplot as plt\n",
    "from ydata_profiling import ProfileReport\n",
    "pd.options.mode.chained_assignment = None"
   ]
  },
  {
   "cell_type": "markdown",
   "id": "4db291f8",
   "metadata": {},
   "source": [
    "# Análisis exploratorio venta de vehículos"
   ]
  },
  {
   "cell_type": "markdown",
   "id": "6dbaba94",
   "metadata": {},
   "source": [
    "Los datos vienen con un pequeño tratamiento para extraer campos de columnas con doble valor, posteriormente a este análisis se complementara esta parte ,en esta etapa se dará prioridad a la velocidad y posteriormente en el código de ETL se refinara el código para poder replicar con otros conjuntos de datos"
   ]
  },
  {
   "cell_type": "code",
   "execution_count": 2,
   "id": "c4dc2f08",
   "metadata": {},
   "outputs": [],
   "source": [
    "FOLDER = \"/home/oscar/GitHub/test_used_tl_ML/data/\""
   ]
  },
  {
   "cell_type": "code",
   "execution_count": 3,
   "id": "21096440",
   "metadata": {
    "scrolled": true
   },
   "outputs": [
    {
     "name": "stderr",
     "output_type": "stream",
     "text": [
      "/tmp/ipykernel_404062/1023102910.py:1: DtypeWarning: Columns (6,10,14,24,25,26,30,32,38,41,45,46) have mixed types. Specify dtype option on import or set low_memory=False.\n",
      "  df = pd.read_csv(FOLDER + \"train.csv\", index_col=0)\n"
     ]
    }
   ],
   "source": [
    "df = pd.read_csv(FOLDER + \"train.csv\", index_col=0)\n",
    "df = df.reset_index(drop=True)"
   ]
  },
  {
   "cell_type": "code",
   "execution_count": 4,
   "id": "f51d6ba6",
   "metadata": {},
   "outputs": [
    {
     "name": "stdout",
     "output_type": "stream",
     "text": [
      "Cantidad de variables 47, cantidad de observaciones 90003\n"
     ]
    }
   ],
   "source": [
    "print(f\"Cantidad de variables {len(df.columns)}, cantidad de observaciones {len(df)}\")"
   ]
  },
  {
   "cell_type": "markdown",
   "id": "165375dd",
   "metadata": {},
   "source": [
    "### Perfilado inicial"
   ]
  },
  {
   "cell_type": "code",
   "execution_count": 5,
   "id": "a5120f7e",
   "metadata": {},
   "outputs": [
    {
     "data": {
      "application/vnd.jupyter.widget-view+json": {
       "model_id": "74520d7e2e524e97b7a636f1731ea728",
       "version_major": 2,
       "version_minor": 0
      },
      "text/plain": [
       "Summarize dataset:   0%|          | 0/5 [00:00<?, ?it/s]"
      ]
     },
     "metadata": {},
     "output_type": "display_data"
    },
    {
     "data": {
      "application/vnd.jupyter.widget-view+json": {
       "model_id": "d5c4dc2e3f124ec18b973eaafaec6484",
       "version_major": 2,
       "version_minor": 0
      },
      "text/plain": [
       "Generate report structure:   0%|          | 0/1 [00:00<?, ?it/s]"
      ]
     },
     "metadata": {},
     "output_type": "display_data"
    },
    {
     "data": {
      "application/vnd.jupyter.widget-view+json": {
       "model_id": "b04cc65bb49b4b4b923b0d316a11dedf",
       "version_major": 2,
       "version_minor": 0
      },
      "text/plain": [
       "Render HTML:   0%|          | 0/1 [00:00<?, ?it/s]"
      ]
     },
     "metadata": {},
     "output_type": "display_data"
    },
    {
     "data": {
      "application/vnd.jupyter.widget-view+json": {
       "model_id": "02ba973e4b9e4a5ea6f50a1d2944400d",
       "version_major": 2,
       "version_minor": 0
      },
      "text/plain": [
       "Export report to file:   0%|          | 0/1 [00:00<?, ?it/s]"
      ]
     },
     "metadata": {},
     "output_type": "display_data"
    }
   ],
   "source": [
    "profile = ProfileReport(df, minimal=True)\n",
    "profile.to_file(\"output_initial.html\")"
   ]
  },
  {
   "cell_type": "markdown",
   "id": "3a3deee2",
   "metadata": {},
   "source": [
    "En esta parte se definen las variables mas importantes según el análisis del perfilador utilizado, en la parte siguiente de este informe solo se trataran las variables que tiene una cardinalidad baja, que el desequilibrio en las clases no sea mayor al 50% y que los valores faltantes no superen el 10%, así mismo las variables no soportadas se les hará un tratamiento de limpieza mas admitido y al final se compararan los dos análisis"
   ]
  },
  {
   "cell_type": "markdown",
   "id": "be024f7f",
   "metadata": {},
   "source": [
    "### Limpieza posterior de las variables no soportadas"
   ]
  },
  {
   "cell_type": "markdown",
   "id": "4886e0da",
   "metadata": {},
   "source": [
    "#### Variable seller_id"
   ]
  },
  {
   "cell_type": "code",
   "execution_count": 6,
   "id": "07c2bcb6",
   "metadata": {},
   "outputs": [
    {
     "data": {
      "text/plain": [
       "0    8208882349\n",
       "1    8141699488\n",
       "2    8386096505\n",
       "3    5377752182\n",
       "4    2938071313\n",
       "Name: seller_id, dtype: object"
      ]
     },
     "execution_count": 6,
     "metadata": {},
     "output_type": "execute_result"
    }
   ],
   "source": [
    "df[\"seller_id\"].head()"
   ]
  },
  {
   "cell_type": "code",
   "execution_count": 7,
   "id": "d7ead021",
   "metadata": {},
   "outputs": [
    {
     "data": {
      "text/plain": [
       "count          90000\n",
       "unique         39432\n",
       "top       5248662274\n",
       "freq             599\n",
       "Name: seller_id, dtype: int64"
      ]
     },
     "execution_count": 7,
     "metadata": {},
     "output_type": "execute_result"
    }
   ],
   "source": [
    "df[\"seller_id\"].describe()"
   ]
  },
  {
   "cell_type": "markdown",
   "id": "dc57522e",
   "metadata": {},
   "source": [
    "**Nota:** Esta columna para ce que para el objetivo del análisis de determinar si el carro ofrecido es nuevo o usado para ce que tiene poco valor ya que es un identificador de usuario, pero para campañas de marketing de los 90.000 datos analizados hay únicos 39.432, es decir que hay una población de vendedores por lo menos de mas de una venta, se procede a eliminar del análisis preliminar"
   ]
  },
  {
   "cell_type": "code",
   "execution_count": 8,
   "id": "f4e3cfd8",
   "metadata": {},
   "outputs": [
    {
     "data": {
      "text/html": [
       "<div>\n",
       "<style scoped>\n",
       "    .dataframe tbody tr th:only-of-type {\n",
       "        vertical-align: middle;\n",
       "    }\n",
       "\n",
       "    .dataframe tbody tr th {\n",
       "        vertical-align: top;\n",
       "    }\n",
       "\n",
       "    .dataframe thead th {\n",
       "        text-align: right;\n",
       "    }\n",
       "</style>\n",
       "<table border=\"1\" class=\"dataframe\">\n",
       "  <thead>\n",
       "    <tr style=\"text-align: right;\">\n",
       "      <th></th>\n",
       "      <th>warranty</th>\n",
       "      <th>sub_status</th>\n",
       "      <th>condition</th>\n",
       "      <th>deal_ids</th>\n",
       "      <th>base_price</th>\n",
       "      <th>seller_id</th>\n",
       "      <th>variations</th>\n",
       "      <th>site_id</th>\n",
       "      <th>listing_type_id</th>\n",
       "      <th>price</th>\n",
       "      <th>...</th>\n",
       "      <th>start_time</th>\n",
       "      <th>permalink</th>\n",
       "      <th>sold_quantity</th>\n",
       "      <th>available_quantity</th>\n",
       "      <th>seller_address_country_name</th>\n",
       "      <th>seller_address_state_name</th>\n",
       "      <th>seller_address_city_name</th>\n",
       "      <th>shipping_local_pick_up</th>\n",
       "      <th>shipping_free_shipping</th>\n",
       "      <th>Y</th>\n",
       "    </tr>\n",
       "  </thead>\n",
       "  <tbody>\n",
       "    <tr>\n",
       "      <th>16693</th>\n",
       "      <td>Envios a capital federal $26.</td>\n",
       "      <td>NaN</td>\n",
       "      <td>NaN</td>\n",
       "      <td>NaN</td>\n",
       "      <td>NaN</td>\n",
       "      <td>NaN</td>\n",
       "      <td>NaN</td>\n",
       "      <td>NaN</td>\n",
       "      <td>NaN</td>\n",
       "      <td>NaN</td>\n",
       "      <td>...</td>\n",
       "      <td>NaN</td>\n",
       "      <td>NaN</td>\n",
       "      <td>NaN</td>\n",
       "      <td>NaN</td>\n",
       "      <td>NaN</td>\n",
       "      <td>NaN</td>\n",
       "      <td>NaN</td>\n",
       "      <td>NaN</td>\n",
       "      <td>NaN</td>\n",
       "      <td>NaN</td>\n",
       "    </tr>\n",
       "    <tr>\n",
       "      <th>83019</th>\n",
       "      <td>4 meses de Garantía</td>\n",
       "      <td>NaN</td>\n",
       "      <td>NaN</td>\n",
       "      <td>NaN</td>\n",
       "      <td>NaN</td>\n",
       "      <td>NaN</td>\n",
       "      <td>NaN</td>\n",
       "      <td>NaN</td>\n",
       "      <td>NaN</td>\n",
       "      <td>NaN</td>\n",
       "      <td>...</td>\n",
       "      <td>NaN</td>\n",
       "      <td>NaN</td>\n",
       "      <td>NaN</td>\n",
       "      <td>NaN</td>\n",
       "      <td>NaN</td>\n",
       "      <td>NaN</td>\n",
       "      <td>NaN</td>\n",
       "      <td>NaN</td>\n",
       "      <td>NaN</td>\n",
       "      <td>NaN</td>\n",
       "    </tr>\n",
       "    <tr>\n",
       "      <th>83841</th>\n",
       "      <td>Envios capital federeal $26.</td>\n",
       "      <td>NaN</td>\n",
       "      <td>NaN</td>\n",
       "      <td>NaN</td>\n",
       "      <td>NaN</td>\n",
       "      <td>NaN</td>\n",
       "      <td>NaN</td>\n",
       "      <td>NaN</td>\n",
       "      <td>NaN</td>\n",
       "      <td>NaN</td>\n",
       "      <td>...</td>\n",
       "      <td>NaN</td>\n",
       "      <td>NaN</td>\n",
       "      <td>NaN</td>\n",
       "      <td>NaN</td>\n",
       "      <td>NaN</td>\n",
       "      <td>NaN</td>\n",
       "      <td>NaN</td>\n",
       "      <td>NaN</td>\n",
       "      <td>NaN</td>\n",
       "      <td>NaN</td>\n",
       "    </tr>\n",
       "  </tbody>\n",
       "</table>\n",
       "<p>3 rows × 47 columns</p>\n",
       "</div>"
      ],
      "text/plain": [
       "                            warranty sub_status condition deal_ids  \\\n",
       "16693  Envios a capital federal $26.        NaN       NaN      NaN   \n",
       "83019           4 meses de Garantía         NaN       NaN      NaN   \n",
       "83841   Envios capital federeal $26.        NaN       NaN      NaN   \n",
       "\n",
       "       base_price seller_id variations site_id listing_type_id price  ...  \\\n",
       "16693         NaN       NaN        NaN     NaN             NaN   NaN  ...   \n",
       "83019         NaN       NaN        NaN     NaN             NaN   NaN  ...   \n",
       "83841         NaN       NaN        NaN     NaN             NaN   NaN  ...   \n",
       "\n",
       "      start_time permalink sold_quantity available_quantity  \\\n",
       "16693        NaN       NaN           NaN                NaN   \n",
       "83019        NaN       NaN           NaN                NaN   \n",
       "83841        NaN       NaN           NaN                NaN   \n",
       "\n",
       "      seller_address_country_name seller_address_state_name  \\\n",
       "16693                         NaN                       NaN   \n",
       "83019                         NaN                       NaN   \n",
       "83841                         NaN                       NaN   \n",
       "\n",
       "      seller_address_city_name shipping_local_pick_up shipping_free_shipping  \\\n",
       "16693                      NaN                    NaN                    NaN   \n",
       "83019                      NaN                    NaN                    NaN   \n",
       "83841                      NaN                    NaN                    NaN   \n",
       "\n",
       "         Y  \n",
       "16693  NaN  \n",
       "83019  NaN  \n",
       "83841  NaN  \n",
       "\n",
       "[3 rows x 47 columns]"
      ]
     },
     "execution_count": 8,
     "metadata": {},
     "output_type": "execute_result"
    }
   ],
   "source": [
    "na_seller_id = df[df[\"seller_id\"].isnull() == True]\n",
    "na_seller_id"
   ]
  },
  {
   "cell_type": "code",
   "execution_count": 9,
   "id": "2cd3d5e0",
   "metadata": {},
   "outputs": [],
   "source": [
    "na_seller_id = list(na_seller_id.index)"
   ]
  },
  {
   "cell_type": "code",
   "execution_count": 10,
   "id": "744f13d6",
   "metadata": {},
   "outputs": [],
   "source": [
    "df = df.drop(na_seller_id, axis=0)"
   ]
  },
  {
   "cell_type": "code",
   "execution_count": 11,
   "id": "070473ef",
   "metadata": {},
   "outputs": [],
   "source": [
    "df = df.drop(\"seller_id\", axis=1)"
   ]
  },
  {
   "cell_type": "markdown",
   "id": "bd30229c",
   "metadata": {},
   "source": [
    "#### Variable price"
   ]
  },
  {
   "cell_type": "code",
   "execution_count": 12,
   "id": "186a099f",
   "metadata": {},
   "outputs": [
    {
     "data": {
      "text/plain": [
       "89998      68.0\n",
       "89999     126.0\n",
       "90000     300.0\n",
       "90001    696.58\n",
       "90002     470.0\n",
       "Name: price, dtype: object"
      ]
     },
     "execution_count": 12,
     "metadata": {},
     "output_type": "execute_result"
    }
   ],
   "source": [
    "df[\"price\"].tail()"
   ]
  },
  {
   "cell_type": "code",
   "execution_count": 13,
   "id": "84279d21",
   "metadata": {},
   "outputs": [
    {
     "data": {
      "text/plain": [
       "count     90000.0\n",
       "unique    11788.0\n",
       "top          50.0\n",
       "freq       2124.0\n",
       "Name: price, dtype: float64"
      ]
     },
     "execution_count": 13,
     "metadata": {},
     "output_type": "execute_result"
    }
   ],
   "source": [
    "df[\"price\"].describe()"
   ]
  },
  {
   "cell_type": "code",
   "execution_count": 14,
   "id": "c98bbcba",
   "metadata": {},
   "outputs": [
    {
     "data": {
      "text/html": [
       "<div>\n",
       "<style scoped>\n",
       "    .dataframe tbody tr th:only-of-type {\n",
       "        vertical-align: middle;\n",
       "    }\n",
       "\n",
       "    .dataframe tbody tr th {\n",
       "        vertical-align: top;\n",
       "    }\n",
       "\n",
       "    .dataframe thead th {\n",
       "        text-align: right;\n",
       "    }\n",
       "</style>\n",
       "<table border=\"1\" class=\"dataframe\">\n",
       "  <thead>\n",
       "    <tr style=\"text-align: right;\">\n",
       "      <th></th>\n",
       "      <th>warranty</th>\n",
       "      <th>sub_status</th>\n",
       "      <th>condition</th>\n",
       "      <th>deal_ids</th>\n",
       "      <th>base_price</th>\n",
       "      <th>variations</th>\n",
       "      <th>site_id</th>\n",
       "      <th>listing_type_id</th>\n",
       "      <th>price</th>\n",
       "      <th>attributes</th>\n",
       "      <th>...</th>\n",
       "      <th>start_time</th>\n",
       "      <th>permalink</th>\n",
       "      <th>sold_quantity</th>\n",
       "      <th>available_quantity</th>\n",
       "      <th>seller_address_country_name</th>\n",
       "      <th>seller_address_state_name</th>\n",
       "      <th>seller_address_city_name</th>\n",
       "      <th>shipping_local_pick_up</th>\n",
       "      <th>shipping_free_shipping</th>\n",
       "      <th>Y</th>\n",
       "    </tr>\n",
       "  </thead>\n",
       "  <tbody>\n",
       "  </tbody>\n",
       "</table>\n",
       "<p>0 rows × 46 columns</p>\n",
       "</div>"
      ],
      "text/plain": [
       "Empty DataFrame\n",
       "Columns: [warranty, sub_status, condition, deal_ids, base_price, variations, site_id, listing_type_id, price, attributes, buying_mode, tags, listing_source, parent_item_id, coverage_areas, category_id, descriptions, last_updated, international_delivery_mode, pictures, id, official_store_id, differential_pricing, accepts_mercadopago, original_price, currency_id, thumbnail, title, automatic_relist, date_created, stop_time, status, video_id, catalog_product_id, subtitle, initial_quantity, start_time, permalink, sold_quantity, available_quantity, seller_address_country_name, seller_address_state_name, seller_address_city_name, shipping_local_pick_up, shipping_free_shipping, Y]\n",
       "Index: []\n",
       "\n",
       "[0 rows x 46 columns]"
      ]
     },
     "execution_count": 14,
     "metadata": {},
     "output_type": "execute_result"
    }
   ],
   "source": [
    "na_price = df[df[\"price\"].isnull() == True]\n",
    "na_price"
   ]
  },
  {
   "cell_type": "code",
   "execution_count": 15,
   "id": "eaacee84",
   "metadata": {},
   "outputs": [],
   "source": [
    "df[\"temp_column_price\"] = df[\"price\"].apply(lambda x: type(x) != float)"
   ]
  },
  {
   "cell_type": "code",
   "execution_count": 16,
   "id": "5992eb9a",
   "metadata": {},
   "outputs": [
    {
     "data": {
      "text/plain": [
       "str"
      ]
     },
     "execution_count": 16,
     "metadata": {},
     "output_type": "execute_result"
    }
   ],
   "source": [
    "type(df[\"price\"][df[\"temp_column_price\"] == True].iloc[0])"
   ]
  },
  {
   "cell_type": "code",
   "execution_count": 17,
   "id": "652f4493",
   "metadata": {},
   "outputs": [],
   "source": [
    "for i in range(len(df)):\n",
    "    if df[\"temp_column_price\"].iloc[i] == True:\n",
    "        try:\n",
    "            df[\"price\"].iloc[i] = float(df[\"price\"].iloc[i])\n",
    "        except:\n",
    "            df[\"price\"].iloc[i] = float(\"nan\")"
   ]
  },
  {
   "cell_type": "code",
   "execution_count": 18,
   "id": "765d2bb6",
   "metadata": {},
   "outputs": [
    {
     "data": {
      "text/html": [
       "<div>\n",
       "<style scoped>\n",
       "    .dataframe tbody tr th:only-of-type {\n",
       "        vertical-align: middle;\n",
       "    }\n",
       "\n",
       "    .dataframe tbody tr th {\n",
       "        vertical-align: top;\n",
       "    }\n",
       "\n",
       "    .dataframe thead th {\n",
       "        text-align: right;\n",
       "    }\n",
       "</style>\n",
       "<table border=\"1\" class=\"dataframe\">\n",
       "  <thead>\n",
       "    <tr style=\"text-align: right;\">\n",
       "      <th></th>\n",
       "      <th>warranty</th>\n",
       "      <th>sub_status</th>\n",
       "      <th>condition</th>\n",
       "      <th>deal_ids</th>\n",
       "      <th>base_price</th>\n",
       "      <th>variations</th>\n",
       "      <th>site_id</th>\n",
       "      <th>listing_type_id</th>\n",
       "      <th>price</th>\n",
       "      <th>attributes</th>\n",
       "      <th>...</th>\n",
       "      <th>permalink</th>\n",
       "      <th>sold_quantity</th>\n",
       "      <th>available_quantity</th>\n",
       "      <th>seller_address_country_name</th>\n",
       "      <th>seller_address_state_name</th>\n",
       "      <th>seller_address_city_name</th>\n",
       "      <th>shipping_local_pick_up</th>\n",
       "      <th>shipping_free_shipping</th>\n",
       "      <th>Y</th>\n",
       "      <th>temp_column_price</th>\n",
       "    </tr>\n",
       "  </thead>\n",
       "  <tbody>\n",
       "    <tr>\n",
       "      <th>16694</th>\n",
       "      <td>[]</td>\n",
       "      <td>used</td>\n",
       "      <td>[]</td>\n",
       "      <td>80.0</td>\n",
       "      <td>9.357516e+09</td>\n",
       "      <td>MLA</td>\n",
       "      <td>bronze</td>\n",
       "      <td>80.0</td>\n",
       "      <td>NaN</td>\n",
       "      <td>buy_it_now</td>\n",
       "      <td>...</td>\n",
       "      <td>0</td>\n",
       "      <td>1.0</td>\n",
       "      <td>Argentina</td>\n",
       "      <td>Capital Federal</td>\n",
       "      <td>tribunales</td>\n",
       "      <td>False</td>\n",
       "      <td>False</td>\n",
       "      <td>used</td>\n",
       "      <td>NaN</td>\n",
       "      <td>True</td>\n",
       "    </tr>\n",
       "    <tr>\n",
       "      <th>83020</th>\n",
       "      <td>[]</td>\n",
       "      <td>new</td>\n",
       "      <td>[]</td>\n",
       "      <td>5500.0</td>\n",
       "      <td>8.714872e+09</td>\n",
       "      <td>MLA</td>\n",
       "      <td>bronze</td>\n",
       "      <td>5500.0</td>\n",
       "      <td>NaN</td>\n",
       "      <td>buy_it_now</td>\n",
       "      <td>...</td>\n",
       "      <td>0</td>\n",
       "      <td>1.0</td>\n",
       "      <td>Argentina</td>\n",
       "      <td>Capital Federal</td>\n",
       "      <td>Almagro</td>\n",
       "      <td>False</td>\n",
       "      <td>False</td>\n",
       "      <td>new</td>\n",
       "      <td>NaN</td>\n",
       "      <td>True</td>\n",
       "    </tr>\n",
       "    <tr>\n",
       "      <th>83842</th>\n",
       "      <td>[]</td>\n",
       "      <td>new</td>\n",
       "      <td>[]</td>\n",
       "      <td>100.0</td>\n",
       "      <td>9.357516e+09</td>\n",
       "      <td>MLA</td>\n",
       "      <td>bronze</td>\n",
       "      <td>100.0</td>\n",
       "      <td>NaN</td>\n",
       "      <td>buy_it_now</td>\n",
       "      <td>...</td>\n",
       "      <td>0</td>\n",
       "      <td>1.0</td>\n",
       "      <td>Argentina</td>\n",
       "      <td>Capital Federal</td>\n",
       "      <td>tribunales</td>\n",
       "      <td>True</td>\n",
       "      <td>False</td>\n",
       "      <td>new</td>\n",
       "      <td>NaN</td>\n",
       "      <td>True</td>\n",
       "    </tr>\n",
       "  </tbody>\n",
       "</table>\n",
       "<p>3 rows × 47 columns</p>\n",
       "</div>"
      ],
      "text/plain": [
       "      warranty sub_status condition deal_ids    base_price variations site_id  \\\n",
       "16694       []       used        []     80.0  9.357516e+09        MLA  bronze   \n",
       "83020       []        new        []   5500.0  8.714872e+09        MLA  bronze   \n",
       "83842       []        new        []    100.0  9.357516e+09        MLA  bronze   \n",
       "\n",
       "      listing_type_id price  attributes  ... permalink sold_quantity  \\\n",
       "16694            80.0   NaN  buy_it_now  ...         0           1.0   \n",
       "83020          5500.0   NaN  buy_it_now  ...         0           1.0   \n",
       "83842           100.0   NaN  buy_it_now  ...         0           1.0   \n",
       "\n",
       "      available_quantity seller_address_country_name  \\\n",
       "16694          Argentina             Capital Federal   \n",
       "83020          Argentina             Capital Federal   \n",
       "83842          Argentina             Capital Federal   \n",
       "\n",
       "      seller_address_state_name seller_address_city_name  \\\n",
       "16694                tribunales                    False   \n",
       "83020                   Almagro                    False   \n",
       "83842                tribunales                     True   \n",
       "\n",
       "      shipping_local_pick_up shipping_free_shipping    Y temp_column_price  \n",
       "16694                  False                   used  NaN              True  \n",
       "83020                  False                    new  NaN              True  \n",
       "83842                  False                    new  NaN              True  \n",
       "\n",
       "[3 rows x 47 columns]"
      ]
     },
     "execution_count": 18,
     "metadata": {},
     "output_type": "execute_result"
    }
   ],
   "source": [
    "na_price = df[df[\"price\"].isnull() == True]\n",
    "na_price"
   ]
  },
  {
   "cell_type": "code",
   "execution_count": 19,
   "id": "b178c275",
   "metadata": {},
   "outputs": [],
   "source": [
    "na_price = list(na_price.index)"
   ]
  },
  {
   "cell_type": "code",
   "execution_count": 20,
   "id": "d8721da6",
   "metadata": {},
   "outputs": [],
   "source": [
    "df = df.drop(na_price, axis=0)"
   ]
  },
  {
   "cell_type": "code",
   "execution_count": 21,
   "id": "b4406d30",
   "metadata": {},
   "outputs": [
    {
     "data": {
      "text/plain": [
       "(2222222222.0, 0.84)"
      ]
     },
     "execution_count": 21,
     "metadata": {},
     "output_type": "execute_result"
    }
   ],
   "source": [
    "max(df[\"price\"]), min(df[\"price\"])"
   ]
  },
  {
   "cell_type": "code",
   "execution_count": 22,
   "id": "7f94ab4c",
   "metadata": {},
   "outputs": [
    {
     "data": {
      "image/png": "[encoded data removed]",
      "text/plain": [
       "<Figure size 640x480 with 1 Axes>"
      ]
     },
     "metadata": {},
     "output_type": "display_data"
    }
   ],
   "source": [
    "plt.boxplot(df[\"price\"])\n",
    "plt.title(\"Variable 'price' distribución\")\n",
    "plt.show()"
   ]
  },
  {
   "cell_type": "code",
   "execution_count": 23,
   "id": "9932f80c",
   "metadata": {},
   "outputs": [
    {
     "data": {
      "image/png": "[encoded data removed]",
      "text/plain": [
       "<Figure size 640x480 with 1 Axes>"
      ]
     },
     "metadata": {},
     "output_type": "display_data"
    }
   ],
   "source": [
    "plt.boxplot(df[\"price\"][df[\"price\"] < 1000])\n",
    "plt.title(\"Variable 'price' distribución filtro menor que 1000\")\n",
    "plt.show()"
   ]
  },
  {
   "cell_type": "code",
   "execution_count": 24,
   "id": "38184b48",
   "metadata": {},
   "outputs": [
    {
     "data": {
      "text/plain": [
       "86365"
      ]
     },
     "execution_count": 24,
     "metadata": {},
     "output_type": "execute_result"
    }
   ],
   "source": [
    "len(df[\"price\"][df[\"price\"] < 10000])"
   ]
  },
  {
   "cell_type": "code",
   "execution_count": 25,
   "id": "29fdfafa",
   "metadata": {},
   "outputs": [
    {
     "data": {
      "image/png": "[encoded data removed]",
      "text/plain": [
       "<Figure size 640x480 with 1 Axes>"
      ]
     },
     "metadata": {},
     "output_type": "display_data"
    }
   ],
   "source": [
    "plt.boxplot(df[\"price\"][df[\"price\"] < 10000])\n",
    "plt.title(\"Variable 'price' distribución filtro menor que 10000\")\n",
    "plt.show()"
   ]
  },
  {
   "cell_type": "code",
   "execution_count": 26,
   "id": "5b33040a",
   "metadata": {},
   "outputs": [
    {
     "data": {
      "text/plain": [
       "4.035690078558174"
      ]
     },
     "execution_count": 26,
     "metadata": {},
     "output_type": "execute_result"
    }
   ],
   "source": [
    "(1 - len(df[\"price\"][df[\"price\"] < 10000]) / len(df)) * 100"
   ]
  },
  {
   "cell_type": "markdown",
   "id": "92deccd7",
   "metadata": {},
   "source": [
    "**Nota :** Esta columna presenta varios valore atípicos por esta razón se procede a eliminar los valores que estén por encima de 100.000, perdiendo solo el 4% de los datos originales, al valor mayor es de 2.222.222.222 que es muy atípico"
   ]
  },
  {
   "cell_type": "code",
   "execution_count": 27,
   "id": "4e9eaac8",
   "metadata": {},
   "outputs": [],
   "source": [
    "df = df[df[\"price\"] < 10000]"
   ]
  },
  {
   "cell_type": "code",
   "execution_count": 28,
   "id": "d79c08aa",
   "metadata": {},
   "outputs": [
    {
     "data": {
      "text/plain": [
       "86365"
      ]
     },
     "execution_count": 28,
     "metadata": {},
     "output_type": "execute_result"
    }
   ],
   "source": [
    "len(df)"
   ]
  },
  {
   "cell_type": "code",
   "execution_count": 29,
   "id": "d150b58c",
   "metadata": {},
   "outputs": [
    {
     "data": {
      "image/png": "[encoded data removed]",
      "text/plain": [
       "<Figure size 640x480 with 1 Axes>"
      ]
     },
     "metadata": {},
     "output_type": "display_data"
    }
   ],
   "source": [
    "plt.hist(df[\"price\"], bins=200)\n",
    "plt.title(\"Variable 'price' distribución histograma\")\n",
    "plt.show()"
   ]
  },
  {
   "cell_type": "markdown",
   "id": "eff5471f",
   "metadata": {},
   "source": [
    "#### Variable original price"
   ]
  },
  {
   "cell_type": "code",
   "execution_count": 30,
   "id": "f2c12ab1",
   "metadata": {},
   "outputs": [
    {
     "data": {
      "text/plain": [
       "0    NaN\n",
       "1    NaN\n",
       "2    NaN\n",
       "3    NaN\n",
       "4    NaN\n",
       "Name: original_price, dtype: object"
      ]
     },
     "execution_count": 30,
     "metadata": {},
     "output_type": "execute_result"
    }
   ],
   "source": [
    "df[\"original_price\"].head()"
   ]
  },
  {
   "cell_type": "code",
   "execution_count": 31,
   "id": "f90fe1ed",
   "metadata": {},
   "outputs": [
    {
     "data": {
      "text/html": [
       "<div>\n",
       "<style scoped>\n",
       "    .dataframe tbody tr th:only-of-type {\n",
       "        vertical-align: middle;\n",
       "    }\n",
       "\n",
       "    .dataframe tbody tr th {\n",
       "        vertical-align: top;\n",
       "    }\n",
       "\n",
       "    .dataframe thead th {\n",
       "        text-align: right;\n",
       "    }\n",
       "</style>\n",
       "<table border=\"1\" class=\"dataframe\">\n",
       "  <thead>\n",
       "    <tr style=\"text-align: right;\">\n",
       "      <th></th>\n",
       "      <th>warranty</th>\n",
       "      <th>sub_status</th>\n",
       "      <th>condition</th>\n",
       "      <th>deal_ids</th>\n",
       "      <th>base_price</th>\n",
       "      <th>variations</th>\n",
       "      <th>site_id</th>\n",
       "      <th>listing_type_id</th>\n",
       "      <th>price</th>\n",
       "      <th>attributes</th>\n",
       "      <th>...</th>\n",
       "      <th>permalink</th>\n",
       "      <th>sold_quantity</th>\n",
       "      <th>available_quantity</th>\n",
       "      <th>seller_address_country_name</th>\n",
       "      <th>seller_address_state_name</th>\n",
       "      <th>seller_address_city_name</th>\n",
       "      <th>shipping_local_pick_up</th>\n",
       "      <th>shipping_free_shipping</th>\n",
       "      <th>Y</th>\n",
       "      <th>temp_column_price</th>\n",
       "    </tr>\n",
       "  </thead>\n",
       "  <tbody>\n",
       "    <tr>\n",
       "      <th>0</th>\n",
       "      <td>NaN</td>\n",
       "      <td>[]</td>\n",
       "      <td>new</td>\n",
       "      <td>[]</td>\n",
       "      <td>80.00</td>\n",
       "      <td>[]</td>\n",
       "      <td>MLA</td>\n",
       "      <td>bronze</td>\n",
       "      <td>80.0</td>\n",
       "      <td>[]</td>\n",
       "      <td>...</td>\n",
       "      <td>http://articulo.mercadolibre.com.ar/MLA4695330...</td>\n",
       "      <td>0.0</td>\n",
       "      <td>1</td>\n",
       "      <td>Argentina</td>\n",
       "      <td>Capital Federal</td>\n",
       "      <td>San Cristóbal</td>\n",
       "      <td>True</td>\n",
       "      <td>False</td>\n",
       "      <td>new</td>\n",
       "      <td>False</td>\n",
       "    </tr>\n",
       "    <tr>\n",
       "      <th>1</th>\n",
       "      <td>NUESTRA REPUTACION</td>\n",
       "      <td>[]</td>\n",
       "      <td>used</td>\n",
       "      <td>[]</td>\n",
       "      <td>2650.00</td>\n",
       "      <td>[]</td>\n",
       "      <td>MLA</td>\n",
       "      <td>silver</td>\n",
       "      <td>2650.0</td>\n",
       "      <td>[]</td>\n",
       "      <td>...</td>\n",
       "      <td>http://articulo.mercadolibre.com.ar/MLA7160447...</td>\n",
       "      <td>0.0</td>\n",
       "      <td>1</td>\n",
       "      <td>Argentina</td>\n",
       "      <td>Capital Federal</td>\n",
       "      <td>Buenos Aires</td>\n",
       "      <td>True</td>\n",
       "      <td>False</td>\n",
       "      <td>used</td>\n",
       "      <td>False</td>\n",
       "    </tr>\n",
       "    <tr>\n",
       "      <th>2</th>\n",
       "      <td>NaN</td>\n",
       "      <td>[]</td>\n",
       "      <td>used</td>\n",
       "      <td>[]</td>\n",
       "      <td>60.00</td>\n",
       "      <td>[]</td>\n",
       "      <td>MLA</td>\n",
       "      <td>bronze</td>\n",
       "      <td>60.0</td>\n",
       "      <td>[]</td>\n",
       "      <td>...</td>\n",
       "      <td>http://articulo.mercadolibre.com.ar/MLA7367189...</td>\n",
       "      <td>0.0</td>\n",
       "      <td>1</td>\n",
       "      <td>Argentina</td>\n",
       "      <td>Capital Federal</td>\n",
       "      <td>Boedo</td>\n",
       "      <td>True</td>\n",
       "      <td>False</td>\n",
       "      <td>used</td>\n",
       "      <td>False</td>\n",
       "    </tr>\n",
       "    <tr>\n",
       "      <th>3</th>\n",
       "      <td>NaN</td>\n",
       "      <td>[]</td>\n",
       "      <td>new</td>\n",
       "      <td>[]</td>\n",
       "      <td>580.00</td>\n",
       "      <td>[]</td>\n",
       "      <td>MLA</td>\n",
       "      <td>silver</td>\n",
       "      <td>580.0</td>\n",
       "      <td>[]</td>\n",
       "      <td>...</td>\n",
       "      <td>http://articulo.mercadolibre.com.ar/MLA9191625...</td>\n",
       "      <td>0.0</td>\n",
       "      <td>1</td>\n",
       "      <td>Argentina</td>\n",
       "      <td>Capital Federal</td>\n",
       "      <td>Floresta</td>\n",
       "      <td>True</td>\n",
       "      <td>False</td>\n",
       "      <td>new</td>\n",
       "      <td>False</td>\n",
       "    </tr>\n",
       "    <tr>\n",
       "      <th>4</th>\n",
       "      <td>MI REPUTACION.</td>\n",
       "      <td>[]</td>\n",
       "      <td>used</td>\n",
       "      <td>[]</td>\n",
       "      <td>30.00</td>\n",
       "      <td>[]</td>\n",
       "      <td>MLA</td>\n",
       "      <td>bronze</td>\n",
       "      <td>30.0</td>\n",
       "      <td>[]</td>\n",
       "      <td>...</td>\n",
       "      <td>http://articulo.mercadolibre.com.ar/MLA7787961...</td>\n",
       "      <td>0.0</td>\n",
       "      <td>1</td>\n",
       "      <td>Argentina</td>\n",
       "      <td>Buenos Aires</td>\n",
       "      <td>Tres de febrero</td>\n",
       "      <td>True</td>\n",
       "      <td>False</td>\n",
       "      <td>used</td>\n",
       "      <td>False</td>\n",
       "    </tr>\n",
       "    <tr>\n",
       "      <th>...</th>\n",
       "      <td>...</td>\n",
       "      <td>...</td>\n",
       "      <td>...</td>\n",
       "      <td>...</td>\n",
       "      <td>...</td>\n",
       "      <td>...</td>\n",
       "      <td>...</td>\n",
       "      <td>...</td>\n",
       "      <td>...</td>\n",
       "      <td>...</td>\n",
       "      <td>...</td>\n",
       "      <td>...</td>\n",
       "      <td>...</td>\n",
       "      <td>...</td>\n",
       "      <td>...</td>\n",
       "      <td>...</td>\n",
       "      <td>...</td>\n",
       "      <td>...</td>\n",
       "      <td>...</td>\n",
       "      <td>...</td>\n",
       "      <td>...</td>\n",
       "    </tr>\n",
       "    <tr>\n",
       "      <th>89998</th>\n",
       "      <td>Sin garantía</td>\n",
       "      <td>[]</td>\n",
       "      <td>used</td>\n",
       "      <td>[]</td>\n",
       "      <td>68.00</td>\n",
       "      <td>[]</td>\n",
       "      <td>MLA</td>\n",
       "      <td>bronze</td>\n",
       "      <td>68.0</td>\n",
       "      <td>[]</td>\n",
       "      <td>...</td>\n",
       "      <td>http://articulo.mercadolibre.com.ar/MLA1315520...</td>\n",
       "      <td>0.0</td>\n",
       "      <td>1</td>\n",
       "      <td>Argentina</td>\n",
       "      <td>Capital Federal</td>\n",
       "      <td>capital federal</td>\n",
       "      <td>False</td>\n",
       "      <td>False</td>\n",
       "      <td>used</td>\n",
       "      <td>True</td>\n",
       "    </tr>\n",
       "    <tr>\n",
       "      <th>89999</th>\n",
       "      <td>NaN</td>\n",
       "      <td>[]</td>\n",
       "      <td>new</td>\n",
       "      <td>[]</td>\n",
       "      <td>126.00</td>\n",
       "      <td>[]</td>\n",
       "      <td>MLA</td>\n",
       "      <td>bronze</td>\n",
       "      <td>126.0</td>\n",
       "      <td>[]</td>\n",
       "      <td>...</td>\n",
       "      <td>http://articulo.mercadolibre.com.ar/MLA6934377...</td>\n",
       "      <td>1.0</td>\n",
       "      <td>1</td>\n",
       "      <td>Argentina</td>\n",
       "      <td>Capital Federal</td>\n",
       "      <td>Núñez</td>\n",
       "      <td>True</td>\n",
       "      <td>False</td>\n",
       "      <td>new</td>\n",
       "      <td>True</td>\n",
       "    </tr>\n",
       "    <tr>\n",
       "      <th>90000</th>\n",
       "      <td>NaN</td>\n",
       "      <td>[]</td>\n",
       "      <td>new</td>\n",
       "      <td>[]</td>\n",
       "      <td>300.00</td>\n",
       "      <td>[]</td>\n",
       "      <td>MLA</td>\n",
       "      <td>bronze</td>\n",
       "      <td>300.0</td>\n",
       "      <td>[]</td>\n",
       "      <td>...</td>\n",
       "      <td>http://articulo.mercadolibre.com.ar/MLA5644559...</td>\n",
       "      <td>0.0</td>\n",
       "      <td>1</td>\n",
       "      <td>Argentina</td>\n",
       "      <td>Buenos Aires</td>\n",
       "      <td>La Matanza</td>\n",
       "      <td>True</td>\n",
       "      <td>False</td>\n",
       "      <td>new</td>\n",
       "      <td>True</td>\n",
       "    </tr>\n",
       "    <tr>\n",
       "      <th>90001</th>\n",
       "      <td>La garantia solo responde en caso de fallas de...</td>\n",
       "      <td>[]</td>\n",
       "      <td>new</td>\n",
       "      <td>[]</td>\n",
       "      <td>696.58</td>\n",
       "      <td>[]</td>\n",
       "      <td>MLA</td>\n",
       "      <td>bronze</td>\n",
       "      <td>696.58</td>\n",
       "      <td>[]</td>\n",
       "      <td>...</td>\n",
       "      <td>http://articulo.mercadolibre.com.ar/MLA3520244...</td>\n",
       "      <td>0.0</td>\n",
       "      <td>100</td>\n",
       "      <td>Argentina</td>\n",
       "      <td>Chubut</td>\n",
       "      <td>Trelew</td>\n",
       "      <td>False</td>\n",
       "      <td>False</td>\n",
       "      <td>new</td>\n",
       "      <td>True</td>\n",
       "    </tr>\n",
       "    <tr>\n",
       "      <th>90002</th>\n",
       "      <td>NaN</td>\n",
       "      <td>[]</td>\n",
       "      <td>used</td>\n",
       "      <td>[]</td>\n",
       "      <td>470.00</td>\n",
       "      <td>[{'attribute_combinations': [{'value_id': '920...</td>\n",
       "      <td>MLA</td>\n",
       "      <td>free</td>\n",
       "      <td>470.0</td>\n",
       "      <td>[{'value_id': 'female', 'attribute_group_id': ...</td>\n",
       "      <td>...</td>\n",
       "      <td>http://articulo.mercadolibre.com.ar/MLA8241142...</td>\n",
       "      <td>0.0</td>\n",
       "      <td>1</td>\n",
       "      <td>Argentina</td>\n",
       "      <td>Capital Federal</td>\n",
       "      <td>mataderos</td>\n",
       "      <td>True</td>\n",
       "      <td>False</td>\n",
       "      <td>used</td>\n",
       "      <td>True</td>\n",
       "    </tr>\n",
       "  </tbody>\n",
       "</table>\n",
       "<p>86236 rows × 47 columns</p>\n",
       "</div>"
      ],
      "text/plain": [
       "                                                warranty sub_status condition  \\\n",
       "0                                                    NaN         []       new   \n",
       "1                                     NUESTRA REPUTACION         []      used   \n",
       "2                                                    NaN         []      used   \n",
       "3                                                    NaN         []       new   \n",
       "4                                         MI REPUTACION.         []      used   \n",
       "...                                                  ...        ...       ...   \n",
       "89998                                       Sin garantía         []      used   \n",
       "89999                                                NaN         []       new   \n",
       "90000                                                NaN         []       new   \n",
       "90001  La garantia solo responde en caso de fallas de...         []       new   \n",
       "90002                                                NaN         []      used   \n",
       "\n",
       "      deal_ids  base_price                                         variations  \\\n",
       "0           []       80.00                                                 []   \n",
       "1           []     2650.00                                                 []   \n",
       "2           []       60.00                                                 []   \n",
       "3           []      580.00                                                 []   \n",
       "4           []       30.00                                                 []   \n",
       "...        ...         ...                                                ...   \n",
       "89998       []       68.00                                                 []   \n",
       "89999       []      126.00                                                 []   \n",
       "90000       []      300.00                                                 []   \n",
       "90001       []      696.58                                                 []   \n",
       "90002       []      470.00  [{'attribute_combinations': [{'value_id': '920...   \n",
       "\n",
       "      site_id listing_type_id   price  \\\n",
       "0         MLA          bronze    80.0   \n",
       "1         MLA          silver  2650.0   \n",
       "2         MLA          bronze    60.0   \n",
       "3         MLA          silver   580.0   \n",
       "4         MLA          bronze    30.0   \n",
       "...       ...             ...     ...   \n",
       "89998     MLA          bronze    68.0   \n",
       "89999     MLA          bronze   126.0   \n",
       "90000     MLA          bronze   300.0   \n",
       "90001     MLA          bronze  696.58   \n",
       "90002     MLA            free   470.0   \n",
       "\n",
       "                                              attributes  ...  \\\n",
       "0                                                     []  ...   \n",
       "1                                                     []  ...   \n",
       "2                                                     []  ...   \n",
       "3                                                     []  ...   \n",
       "4                                                     []  ...   \n",
       "...                                                  ...  ...   \n",
       "89998                                                 []  ...   \n",
       "89999                                                 []  ...   \n",
       "90000                                                 []  ...   \n",
       "90001                                                 []  ...   \n",
       "90002  [{'value_id': 'female', 'attribute_group_id': ...  ...   \n",
       "\n",
       "                                               permalink sold_quantity  \\\n",
       "0      http://articulo.mercadolibre.com.ar/MLA4695330...           0.0   \n",
       "1      http://articulo.mercadolibre.com.ar/MLA7160447...           0.0   \n",
       "2      http://articulo.mercadolibre.com.ar/MLA7367189...           0.0   \n",
       "3      http://articulo.mercadolibre.com.ar/MLA9191625...           0.0   \n",
       "4      http://articulo.mercadolibre.com.ar/MLA7787961...           0.0   \n",
       "...                                                  ...           ...   \n",
       "89998  http://articulo.mercadolibre.com.ar/MLA1315520...           0.0   \n",
       "89999  http://articulo.mercadolibre.com.ar/MLA6934377...           1.0   \n",
       "90000  http://articulo.mercadolibre.com.ar/MLA5644559...           0.0   \n",
       "90001  http://articulo.mercadolibre.com.ar/MLA3520244...           0.0   \n",
       "90002  http://articulo.mercadolibre.com.ar/MLA8241142...           0.0   \n",
       "\n",
       "      available_quantity seller_address_country_name  \\\n",
       "0                      1                   Argentina   \n",
       "1                      1                   Argentina   \n",
       "2                      1                   Argentina   \n",
       "3                      1                   Argentina   \n",
       "4                      1                   Argentina   \n",
       "...                  ...                         ...   \n",
       "89998                  1                   Argentina   \n",
       "89999                  1                   Argentina   \n",
       "90000                  1                   Argentina   \n",
       "90001                100                   Argentina   \n",
       "90002                  1                   Argentina   \n",
       "\n",
       "      seller_address_state_name seller_address_city_name  \\\n",
       "0               Capital Federal            San Cristóbal   \n",
       "1               Capital Federal             Buenos Aires   \n",
       "2               Capital Federal                    Boedo   \n",
       "3               Capital Federal                 Floresta   \n",
       "4                  Buenos Aires          Tres de febrero   \n",
       "...                         ...                      ...   \n",
       "89998           Capital Federal          capital federal   \n",
       "89999           Capital Federal                    Núñez   \n",
       "90000              Buenos Aires               La Matanza   \n",
       "90001                    Chubut                   Trelew   \n",
       "90002           Capital Federal                mataderos   \n",
       "\n",
       "      shipping_local_pick_up shipping_free_shipping     Y temp_column_price  \n",
       "0                       True                  False   new             False  \n",
       "1                       True                  False  used             False  \n",
       "2                       True                  False  used             False  \n",
       "3                       True                  False   new             False  \n",
       "4                       True                  False  used             False  \n",
       "...                      ...                    ...   ...               ...  \n",
       "89998                  False                  False  used              True  \n",
       "89999                   True                  False   new              True  \n",
       "90000                   True                  False   new              True  \n",
       "90001                  False                  False   new              True  \n",
       "90002                   True                  False  used              True  \n",
       "\n",
       "[86236 rows x 47 columns]"
      ]
     },
     "execution_count": 31,
     "metadata": {},
     "output_type": "execute_result"
    }
   ],
   "source": [
    "na_original_price = df[df[\"original_price\"].isnull() == True]\n",
    "na_original_price"
   ]
  },
  {
   "cell_type": "markdown",
   "id": "247a4f39",
   "metadata": {},
   "source": [
    "**Nota:** Esta variable tiene todos su valores NA así que se procede a eliminar"
   ]
  },
  {
   "cell_type": "code",
   "execution_count": 32,
   "id": "ba6fdd39",
   "metadata": {},
   "outputs": [],
   "source": [
    "df = df.drop([\"original_price\", \"temp_column_price\"], axis=1)"
   ]
  },
  {
   "cell_type": "markdown",
   "id": "58f2cf6e",
   "metadata": {},
   "source": [
    "#### Variable automatic_relist"
   ]
  },
  {
   "cell_type": "code",
   "execution_count": 33,
   "id": "78e243cb",
   "metadata": {},
   "outputs": [
    {
     "data": {
      "text/plain": [
       "0    False\n",
       "1    False\n",
       "2    False\n",
       "3    False\n",
       "4    False\n",
       "Name: automatic_relist, dtype: object"
      ]
     },
     "execution_count": 33,
     "metadata": {},
     "output_type": "execute_result"
    }
   ],
   "source": [
    "df[\"automatic_relist\"].head()"
   ]
  },
  {
   "cell_type": "code",
   "execution_count": 34,
   "id": "fbe1b4f3",
   "metadata": {},
   "outputs": [],
   "source": [
    "df[\"automatic_relist\"] = df[\"automatic_relist\"].apply(lambda x: type(x) != bool)\n",
    "for i in range(len(df)):\n",
    "    if df[\"automatic_relist\"].iloc[i] == True:\n",
    "        try:\n",
    "            df[\"automatic_relist\"].iloc[i] = float(df[\"automatic_relist\"].iloc[i])\n",
    "        except:\n",
    "            df[\"automatic_relist\"].iloc[i] = float(\"nan\")"
   ]
  },
  {
   "cell_type": "code",
   "execution_count": 35,
   "id": "253e1354",
   "metadata": {},
   "outputs": [
    {
     "data": {
      "image/png": "[encoded data removed]",
      "text/plain": [
       "<Figure size 640x480 with 1 Axes>"
      ]
     },
     "metadata": {},
     "output_type": "display_data"
    }
   ],
   "source": [
    "plt.hist(df[\"automatic_relist\"])\n",
    "plt.title(\"Frecuencia variable automatic_relist\")\n",
    "plt.show()"
   ]
  },
  {
   "cell_type": "code",
   "execution_count": 36,
   "id": "8ff665bc",
   "metadata": {},
   "outputs": [
    {
     "data": {
      "text/html": [
       "<div>\n",
       "<style scoped>\n",
       "    .dataframe tbody tr th:only-of-type {\n",
       "        vertical-align: middle;\n",
       "    }\n",
       "\n",
       "    .dataframe tbody tr th {\n",
       "        vertical-align: top;\n",
       "    }\n",
       "\n",
       "    .dataframe thead th {\n",
       "        text-align: right;\n",
       "    }\n",
       "</style>\n",
       "<table border=\"1\" class=\"dataframe\">\n",
       "  <thead>\n",
       "    <tr style=\"text-align: right;\">\n",
       "      <th></th>\n",
       "      <th>warranty</th>\n",
       "      <th>sub_status</th>\n",
       "      <th>condition</th>\n",
       "      <th>deal_ids</th>\n",
       "      <th>base_price</th>\n",
       "      <th>variations</th>\n",
       "      <th>site_id</th>\n",
       "      <th>listing_type_id</th>\n",
       "      <th>price</th>\n",
       "      <th>attributes</th>\n",
       "      <th>...</th>\n",
       "      <th>start_time</th>\n",
       "      <th>permalink</th>\n",
       "      <th>sold_quantity</th>\n",
       "      <th>available_quantity</th>\n",
       "      <th>seller_address_country_name</th>\n",
       "      <th>seller_address_state_name</th>\n",
       "      <th>seller_address_city_name</th>\n",
       "      <th>shipping_local_pick_up</th>\n",
       "      <th>shipping_free_shipping</th>\n",
       "      <th>Y</th>\n",
       "    </tr>\n",
       "  </thead>\n",
       "  <tbody>\n",
       "  </tbody>\n",
       "</table>\n",
       "<p>0 rows × 45 columns</p>\n",
       "</div>"
      ],
      "text/plain": [
       "Empty DataFrame\n",
       "Columns: [warranty, sub_status, condition, deal_ids, base_price, variations, site_id, listing_type_id, price, attributes, buying_mode, tags, listing_source, parent_item_id, coverage_areas, category_id, descriptions, last_updated, international_delivery_mode, pictures, id, official_store_id, differential_pricing, accepts_mercadopago, currency_id, thumbnail, title, automatic_relist, date_created, stop_time, status, video_id, catalog_product_id, subtitle, initial_quantity, start_time, permalink, sold_quantity, available_quantity, seller_address_country_name, seller_address_state_name, seller_address_city_name, shipping_local_pick_up, shipping_free_shipping, Y]\n",
       "Index: []\n",
       "\n",
       "[0 rows x 45 columns]"
      ]
     },
     "execution_count": 36,
     "metadata": {},
     "output_type": "execute_result"
    }
   ],
   "source": [
    "na_automatic_relist = df[df[\"automatic_relist\"].isnull() == True]\n",
    "na_automatic_relist"
   ]
  },
  {
   "cell_type": "markdown",
   "id": "efce3adb",
   "metadata": {},
   "source": [
    "**Nota:** Esta variable esta des balanceada pero se tendrá en cuenta en el análisis inicial "
   ]
  },
  {
   "cell_type": "markdown",
   "id": "a8cfa652",
   "metadata": {},
   "source": [
    "#### Variable stop_time y start_time"
   ]
  },
  {
   "cell_type": "code",
   "execution_count": 37,
   "id": "9b07e6f1",
   "metadata": {},
   "outputs": [
    {
     "data": {
      "text/plain": [
       "0    1446669773000\n",
       "1    1448474910000\n",
       "2    1447027027000\n",
       "3    1449191596000\n",
       "4    1445638040000\n",
       "Name: stop_time, dtype: object"
      ]
     },
     "execution_count": 37,
     "metadata": {},
     "output_type": "execute_result"
    }
   ],
   "source": [
    "df[\"stop_time\"].head()"
   ]
  },
  {
   "cell_type": "code",
   "execution_count": 38,
   "id": "03e73df9",
   "metadata": {},
   "outputs": [
    {
     "data": {
      "text/plain": [
       "0    1441485773000\n",
       "1    1443290910000\n",
       "2    1441843027000\n",
       "3    1443466076000\n",
       "4    1440454040000\n",
       "Name: start_time, dtype: object"
      ]
     },
     "execution_count": 38,
     "metadata": {},
     "output_type": "execute_result"
    }
   ],
   "source": [
    "df[\"start_time\"].head()"
   ]
  },
  {
   "cell_type": "markdown",
   "id": "adddb892",
   "metadata": {},
   "source": [
    "**Nota:** Esta variable es una marca de tiempo y el problema es de clasificación así que no se tendrán en cuenta y se eliminaran de este análisis"
   ]
  },
  {
   "cell_type": "code",
   "execution_count": 39,
   "id": "6a881969",
   "metadata": {},
   "outputs": [],
   "source": [
    "df = df.drop([\"stop_time\", \"start_time\"], axis=1)"
   ]
  },
  {
   "cell_type": "markdown",
   "id": "b1d04503",
   "metadata": {},
   "source": [
    "#### Variable available_quantity"
   ]
  },
  {
   "cell_type": "code",
   "execution_count": 40,
   "id": "b6ecef44",
   "metadata": {},
   "outputs": [
    {
     "data": {
      "text/plain": [
       "0    1\n",
       "1    1\n",
       "2    1\n",
       "3    1\n",
       "4    1\n",
       "Name: available_quantity, dtype: object"
      ]
     },
     "execution_count": 40,
     "metadata": {},
     "output_type": "execute_result"
    }
   ],
   "source": [
    "df[\"available_quantity\"].head()"
   ]
  },
  {
   "cell_type": "code",
   "execution_count": 41,
   "id": "84d8da99",
   "metadata": {},
   "outputs": [],
   "source": [
    "df[\"available_quantity\"] = df[\"available_quantity\"].apply(lambda x: type(x) != int)\n",
    "for i in range(len(df)):\n",
    "    if df[\"available_quantity\"].iloc[i] == True:\n",
    "        try:\n",
    "            df[\"available_quantity\"].iloc[i] = float(df[\"available_quantity\"].iloc[i])\n",
    "        except:\n",
    "            df[\"available_quantity\"].iloc[i] = float(\"nan\")"
   ]
  },
  {
   "cell_type": "code",
   "execution_count": 42,
   "id": "2eb4a9e1",
   "metadata": {},
   "outputs": [
    {
     "data": {
      "text/html": [
       "<div>\n",
       "<style scoped>\n",
       "    .dataframe tbody tr th:only-of-type {\n",
       "        vertical-align: middle;\n",
       "    }\n",
       "\n",
       "    .dataframe tbody tr th {\n",
       "        vertical-align: top;\n",
       "    }\n",
       "\n",
       "    .dataframe thead th {\n",
       "        text-align: right;\n",
       "    }\n",
       "</style>\n",
       "<table border=\"1\" class=\"dataframe\">\n",
       "  <thead>\n",
       "    <tr style=\"text-align: right;\">\n",
       "      <th></th>\n",
       "      <th>warranty</th>\n",
       "      <th>sub_status</th>\n",
       "      <th>condition</th>\n",
       "      <th>deal_ids</th>\n",
       "      <th>base_price</th>\n",
       "      <th>variations</th>\n",
       "      <th>site_id</th>\n",
       "      <th>listing_type_id</th>\n",
       "      <th>price</th>\n",
       "      <th>attributes</th>\n",
       "      <th>...</th>\n",
       "      <th>initial_quantity</th>\n",
       "      <th>permalink</th>\n",
       "      <th>sold_quantity</th>\n",
       "      <th>available_quantity</th>\n",
       "      <th>seller_address_country_name</th>\n",
       "      <th>seller_address_state_name</th>\n",
       "      <th>seller_address_city_name</th>\n",
       "      <th>shipping_local_pick_up</th>\n",
       "      <th>shipping_free_shipping</th>\n",
       "      <th>Y</th>\n",
       "    </tr>\n",
       "  </thead>\n",
       "  <tbody>\n",
       "  </tbody>\n",
       "</table>\n",
       "<p>0 rows × 43 columns</p>\n",
       "</div>"
      ],
      "text/plain": [
       "Empty DataFrame\n",
       "Columns: [warranty, sub_status, condition, deal_ids, base_price, variations, site_id, listing_type_id, price, attributes, buying_mode, tags, listing_source, parent_item_id, coverage_areas, category_id, descriptions, last_updated, international_delivery_mode, pictures, id, official_store_id, differential_pricing, accepts_mercadopago, currency_id, thumbnail, title, automatic_relist, date_created, status, video_id, catalog_product_id, subtitle, initial_quantity, permalink, sold_quantity, available_quantity, seller_address_country_name, seller_address_state_name, seller_address_city_name, shipping_local_pick_up, shipping_free_shipping, Y]\n",
       "Index: []\n",
       "\n",
       "[0 rows x 43 columns]"
      ]
     },
     "execution_count": 42,
     "metadata": {},
     "output_type": "execute_result"
    }
   ],
   "source": [
    "na_available_quantity = df[df[\"available_quantity\"].isnull() == True]\n",
    "na_available_quantity"
   ]
  },
  {
   "cell_type": "code",
   "execution_count": 43,
   "id": "af6ab25e",
   "metadata": {},
   "outputs": [
    {
     "data": {
      "image/png": "[encoded data removed]",
      "text/plain": [
       "<Figure size 640x480 with 1 Axes>"
      ]
     },
     "metadata": {},
     "output_type": "display_data"
    }
   ],
   "source": [
    "plt.hist(df[\"available_quantity\"])\n",
    "plt.title(\"frecuencia variable available_quantity\")\n",
    "plt.show()"
   ]
  },
  {
   "cell_type": "markdown",
   "id": "a67e93e8",
   "metadata": {},
   "source": [
    "**Nota:** Esta variable esta des balanceada pero se tendrá en cuenta en el análisis inicial "
   ]
  },
  {
   "cell_type": "markdown",
   "id": "0ddd1551",
   "metadata": {},
   "source": [
    "#### Variable shipping_free_shipping"
   ]
  },
  {
   "cell_type": "code",
   "execution_count": 44,
   "id": "12d2e1e8",
   "metadata": {},
   "outputs": [
    {
     "data": {
      "text/plain": [
       "0    False\n",
       "1    False\n",
       "2    False\n",
       "3    False\n",
       "4    False\n",
       "Name: shipping_free_shipping, dtype: object"
      ]
     },
     "execution_count": 44,
     "metadata": {},
     "output_type": "execute_result"
    }
   ],
   "source": [
    "df[\"shipping_free_shipping\"].head()"
   ]
  },
  {
   "cell_type": "code",
   "execution_count": 45,
   "id": "4dde6e16",
   "metadata": {},
   "outputs": [],
   "source": [
    "df[\"shipping_free_shipping\"] = df[\"shipping_free_shipping\"].apply(lambda x: type(x) != int)\n",
    "for i in range(len(df)):\n",
    "    if df[\"shipping_free_shipping\"].iloc[i] == True:\n",
    "        try:\n",
    "            df[\"shipping_free_shipping\"].iloc[i] = float(df[\"shipping_free_shipping\"].iloc[i])\n",
    "        except:\n",
    "            df[\"shipping_free_shipping\"].iloc[i] = float(\"nan\")"
   ]
  },
  {
   "cell_type": "code",
   "execution_count": 46,
   "id": "b9bf202b",
   "metadata": {},
   "outputs": [
    {
     "data": {
      "text/html": [
       "<div>\n",
       "<style scoped>\n",
       "    .dataframe tbody tr th:only-of-type {\n",
       "        vertical-align: middle;\n",
       "    }\n",
       "\n",
       "    .dataframe tbody tr th {\n",
       "        vertical-align: top;\n",
       "    }\n",
       "\n",
       "    .dataframe thead th {\n",
       "        text-align: right;\n",
       "    }\n",
       "</style>\n",
       "<table border=\"1\" class=\"dataframe\">\n",
       "  <thead>\n",
       "    <tr style=\"text-align: right;\">\n",
       "      <th></th>\n",
       "      <th>warranty</th>\n",
       "      <th>sub_status</th>\n",
       "      <th>condition</th>\n",
       "      <th>deal_ids</th>\n",
       "      <th>base_price</th>\n",
       "      <th>variations</th>\n",
       "      <th>site_id</th>\n",
       "      <th>listing_type_id</th>\n",
       "      <th>price</th>\n",
       "      <th>attributes</th>\n",
       "      <th>...</th>\n",
       "      <th>initial_quantity</th>\n",
       "      <th>permalink</th>\n",
       "      <th>sold_quantity</th>\n",
       "      <th>available_quantity</th>\n",
       "      <th>seller_address_country_name</th>\n",
       "      <th>seller_address_state_name</th>\n",
       "      <th>seller_address_city_name</th>\n",
       "      <th>shipping_local_pick_up</th>\n",
       "      <th>shipping_free_shipping</th>\n",
       "      <th>Y</th>\n",
       "    </tr>\n",
       "  </thead>\n",
       "  <tbody>\n",
       "  </tbody>\n",
       "</table>\n",
       "<p>0 rows × 43 columns</p>\n",
       "</div>"
      ],
      "text/plain": [
       "Empty DataFrame\n",
       "Columns: [warranty, sub_status, condition, deal_ids, base_price, variations, site_id, listing_type_id, price, attributes, buying_mode, tags, listing_source, parent_item_id, coverage_areas, category_id, descriptions, last_updated, international_delivery_mode, pictures, id, official_store_id, differential_pricing, accepts_mercadopago, currency_id, thumbnail, title, automatic_relist, date_created, status, video_id, catalog_product_id, subtitle, initial_quantity, permalink, sold_quantity, available_quantity, seller_address_country_name, seller_address_state_name, seller_address_city_name, shipping_local_pick_up, shipping_free_shipping, Y]\n",
       "Index: []\n",
       "\n",
       "[0 rows x 43 columns]"
      ]
     },
     "execution_count": 46,
     "metadata": {},
     "output_type": "execute_result"
    }
   ],
   "source": [
    "na_shipping_free_shipping = df[df[\"shipping_free_shipping\"].isnull() == True]\n",
    "na_shipping_free_shipping"
   ]
  },
  {
   "cell_type": "code",
   "execution_count": 47,
   "id": "c8f2ff50",
   "metadata": {},
   "outputs": [
    {
     "data": {
      "image/png": "[encoded data removed]",
      "text/plain": [
       "<Figure size 640x480 with 1 Axes>"
      ]
     },
     "metadata": {},
     "output_type": "display_data"
    }
   ],
   "source": [
    "plt.hist(df[\"shipping_free_shipping\"])\n",
    "plt.title(\"frecuencia variable shipping_free_shipping\")\n",
    "plt.show()"
   ]
  },
  {
   "cell_type": "markdown",
   "id": "4898ab48",
   "metadata": {},
   "source": [
    "**Nota:** Esta variable tiene todos su valores igual a 1 así que se procede a eliminar"
   ]
  },
  {
   "cell_type": "code",
   "execution_count": 48,
   "id": "48de32f7",
   "metadata": {},
   "outputs": [],
   "source": [
    "df = df.drop([\"shipping_free_shipping\"], axis=1)"
   ]
  },
  {
   "cell_type": "markdown",
   "id": "9cdf57a6",
   "metadata": {},
   "source": [
    "#### Variable warranty"
   ]
  },
  {
   "cell_type": "markdown",
   "id": "2ffe76c9",
   "metadata": {},
   "source": [
    "Esta es una variable de tipo categórica, pero se quiere mejorar su desempeño con algo de tratamiento de texto, transformando todo el texto a minúscula y quitando los acentos con el fin de reducir las categorías"
   ]
  },
  {
   "cell_type": "code",
   "execution_count": 49,
   "id": "716f55c4",
   "metadata": {},
   "outputs": [],
   "source": [
    "df[\"warranty\"] = df[\"warranty\"].apply(lambda x: str(x).lower())"
   ]
  },
  {
   "cell_type": "code",
   "execution_count": 50,
   "id": "cc782c6f",
   "metadata": {},
   "outputs": [],
   "source": [
    "def remove_accents(s):\n",
    "    replacements = (\n",
    "        (\"á\", \"a\"),\n",
    "        (\"é\", \"e\"),\n",
    "        (\"í\", \"i\"),\n",
    "        (\"ó\", \"o\"),\n",
    "        (\"ú\", \"u\"),\n",
    "    )\n",
    "    for a, b in replacements:\n",
    "        s = s.replace(a, b).replace(a.upper(), b.upper())\n",
    "    return s"
   ]
  },
  {
   "cell_type": "code",
   "execution_count": 51,
   "id": "d5b485d2",
   "metadata": {},
   "outputs": [],
   "source": [
    "df[\"warranty\"] = df[\"warranty\"].apply(lambda x: remove_accents(x))"
   ]
  },
  {
   "cell_type": "code",
   "execution_count": 52,
   "id": "b563c4a5",
   "metadata": {},
   "outputs": [],
   "source": [
    "df = df.drop(\"warranty\", axis=1)"
   ]
  },
  {
   "cell_type": "markdown",
   "id": "40b86d14",
   "metadata": {},
   "source": [
    "**Nota:** Esta variable tiene todos su valores NA así que se procede a eliminar"
   ]
  },
  {
   "cell_type": "markdown",
   "id": "14b6e863",
   "metadata": {},
   "source": [
    "#### Variable official_store_id"
   ]
  },
  {
   "cell_type": "code",
   "execution_count": 53,
   "id": "d57e8947",
   "metadata": {},
   "outputs": [],
   "source": [
    "df[\"official_store_id\"] = df[\"official_store_id\"].astype(str)"
   ]
  },
  {
   "cell_type": "markdown",
   "id": "61939a1b",
   "metadata": {},
   "source": [
    "**Nota:** Esta variable en realidad es categórica se hace la transformación respectiva"
   ]
  },
  {
   "cell_type": "markdown",
   "id": "38e86183",
   "metadata": {},
   "source": [
    "### Perfilado posterior a la limpieza"
   ]
  },
  {
   "cell_type": "code",
   "execution_count": 54,
   "id": "67308ba2",
   "metadata": {},
   "outputs": [
    {
     "data": {
      "application/vnd.jupyter.widget-view+json": {
       "model_id": "a18e88dbc1894605af0c7a0fbee11c14",
       "version_major": 2,
       "version_minor": 0
      },
      "text/plain": [
       "Summarize dataset:   0%|          | 0/5 [00:00<?, ?it/s]"
      ]
     },
     "metadata": {},
     "output_type": "display_data"
    },
    {
     "data": {
      "application/vnd.jupyter.widget-view+json": {
       "model_id": "8907d00c075347869b080c4454b69308",
       "version_major": 2,
       "version_minor": 0
      },
      "text/plain": [
       "Generate report structure:   0%|          | 0/1 [00:00<?, ?it/s]"
      ]
     },
     "metadata": {},
     "output_type": "display_data"
    },
    {
     "data": {
      "application/vnd.jupyter.widget-view+json": {
       "model_id": "ce633c3ea30849b0978ff5e99cb202a8",
       "version_major": 2,
       "version_minor": 0
      },
      "text/plain": [
       "Render HTML:   0%|          | 0/1 [00:00<?, ?it/s]"
      ]
     },
     "metadata": {},
     "output_type": "display_data"
    },
    {
     "data": {
      "application/vnd.jupyter.widget-view+json": {
       "model_id": "f02a43c1a4114e4cbcf2d131841db625",
       "version_major": 2,
       "version_minor": 0
      },
      "text/plain": [
       "Export report to file:   0%|          | 0/1 [00:00<?, ?it/s]"
      ]
     },
     "metadata": {},
     "output_type": "display_data"
    }
   ],
   "source": [
    "profile = ProfileReport(df, minimal=True)\n",
    "profile.to_file(\"output_clean.html\")"
   ]
  },
  {
   "cell_type": "markdown",
   "id": "5b156b3d",
   "metadata": {},
   "source": [
    "**Nota:** Con esta limpieza posterior mas especifica de variables las alertas se redujeron a de 53 a 45 los valores no procesables, se prosiguen analizando las variables para tener el mejor pre procesamiento"
   ]
  },
  {
   "cell_type": "markdown",
   "id": "2d8a73c8",
   "metadata": {},
   "source": [
    "#### Variable listing_source "
   ]
  },
  {
   "cell_type": "code",
   "execution_count": 55,
   "id": "b5de4630",
   "metadata": {},
   "outputs": [
    {
     "data": {
      "text/plain": [
       "0    NaN\n",
       "1    NaN\n",
       "2    NaN\n",
       "3    NaN\n",
       "4    NaN\n",
       "Name: listing_source, dtype: object"
      ]
     },
     "execution_count": 55,
     "metadata": {},
     "output_type": "execute_result"
    }
   ],
   "source": [
    "df[\"listing_source\"].head()"
   ]
  },
  {
   "cell_type": "code",
   "execution_count": 56,
   "id": "816646c1",
   "metadata": {},
   "outputs": [
    {
     "data": {
      "text/html": [
       "<div>\n",
       "<style scoped>\n",
       "    .dataframe tbody tr th:only-of-type {\n",
       "        vertical-align: middle;\n",
       "    }\n",
       "\n",
       "    .dataframe tbody tr th {\n",
       "        vertical-align: top;\n",
       "    }\n",
       "\n",
       "    .dataframe thead th {\n",
       "        text-align: right;\n",
       "    }\n",
       "</style>\n",
       "<table border=\"1\" class=\"dataframe\">\n",
       "  <thead>\n",
       "    <tr style=\"text-align: right;\">\n",
       "      <th></th>\n",
       "      <th>sub_status</th>\n",
       "      <th>condition</th>\n",
       "      <th>deal_ids</th>\n",
       "      <th>base_price</th>\n",
       "      <th>variations</th>\n",
       "      <th>site_id</th>\n",
       "      <th>listing_type_id</th>\n",
       "      <th>price</th>\n",
       "      <th>attributes</th>\n",
       "      <th>buying_mode</th>\n",
       "      <th>...</th>\n",
       "      <th>subtitle</th>\n",
       "      <th>initial_quantity</th>\n",
       "      <th>permalink</th>\n",
       "      <th>sold_quantity</th>\n",
       "      <th>available_quantity</th>\n",
       "      <th>seller_address_country_name</th>\n",
       "      <th>seller_address_state_name</th>\n",
       "      <th>seller_address_city_name</th>\n",
       "      <th>shipping_local_pick_up</th>\n",
       "      <th>Y</th>\n",
       "    </tr>\n",
       "  </thead>\n",
       "  <tbody>\n",
       "    <tr>\n",
       "      <th>0</th>\n",
       "      <td>[]</td>\n",
       "      <td>new</td>\n",
       "      <td>[]</td>\n",
       "      <td>80.00</td>\n",
       "      <td>[]</td>\n",
       "      <td>MLA</td>\n",
       "      <td>bronze</td>\n",
       "      <td>80.0</td>\n",
       "      <td>[]</td>\n",
       "      <td>buy_it_now</td>\n",
       "      <td>...</td>\n",
       "      <td>NaN</td>\n",
       "      <td>1.0</td>\n",
       "      <td>http://articulo.mercadolibre.com.ar/MLA4695330...</td>\n",
       "      <td>0.0</td>\n",
       "      <td>False</td>\n",
       "      <td>Argentina</td>\n",
       "      <td>Capital Federal</td>\n",
       "      <td>San Cristóbal</td>\n",
       "      <td>True</td>\n",
       "      <td>new</td>\n",
       "    </tr>\n",
       "    <tr>\n",
       "      <th>1</th>\n",
       "      <td>[]</td>\n",
       "      <td>used</td>\n",
       "      <td>[]</td>\n",
       "      <td>2650.00</td>\n",
       "      <td>[]</td>\n",
       "      <td>MLA</td>\n",
       "      <td>silver</td>\n",
       "      <td>2650.0</td>\n",
       "      <td>[]</td>\n",
       "      <td>buy_it_now</td>\n",
       "      <td>...</td>\n",
       "      <td>NaN</td>\n",
       "      <td>1.0</td>\n",
       "      <td>http://articulo.mercadolibre.com.ar/MLA7160447...</td>\n",
       "      <td>0.0</td>\n",
       "      <td>False</td>\n",
       "      <td>Argentina</td>\n",
       "      <td>Capital Federal</td>\n",
       "      <td>Buenos Aires</td>\n",
       "      <td>True</td>\n",
       "      <td>used</td>\n",
       "    </tr>\n",
       "    <tr>\n",
       "      <th>2</th>\n",
       "      <td>[]</td>\n",
       "      <td>used</td>\n",
       "      <td>[]</td>\n",
       "      <td>60.00</td>\n",
       "      <td>[]</td>\n",
       "      <td>MLA</td>\n",
       "      <td>bronze</td>\n",
       "      <td>60.0</td>\n",
       "      <td>[]</td>\n",
       "      <td>buy_it_now</td>\n",
       "      <td>...</td>\n",
       "      <td>NaN</td>\n",
       "      <td>1.0</td>\n",
       "      <td>http://articulo.mercadolibre.com.ar/MLA7367189...</td>\n",
       "      <td>0.0</td>\n",
       "      <td>False</td>\n",
       "      <td>Argentina</td>\n",
       "      <td>Capital Federal</td>\n",
       "      <td>Boedo</td>\n",
       "      <td>True</td>\n",
       "      <td>used</td>\n",
       "    </tr>\n",
       "    <tr>\n",
       "      <th>3</th>\n",
       "      <td>[]</td>\n",
       "      <td>new</td>\n",
       "      <td>[]</td>\n",
       "      <td>580.00</td>\n",
       "      <td>[]</td>\n",
       "      <td>MLA</td>\n",
       "      <td>silver</td>\n",
       "      <td>580.0</td>\n",
       "      <td>[]</td>\n",
       "      <td>buy_it_now</td>\n",
       "      <td>...</td>\n",
       "      <td>NaN</td>\n",
       "      <td>1.0</td>\n",
       "      <td>http://articulo.mercadolibre.com.ar/MLA9191625...</td>\n",
       "      <td>0.0</td>\n",
       "      <td>False</td>\n",
       "      <td>Argentina</td>\n",
       "      <td>Capital Federal</td>\n",
       "      <td>Floresta</td>\n",
       "      <td>True</td>\n",
       "      <td>new</td>\n",
       "    </tr>\n",
       "    <tr>\n",
       "      <th>4</th>\n",
       "      <td>[]</td>\n",
       "      <td>used</td>\n",
       "      <td>[]</td>\n",
       "      <td>30.00</td>\n",
       "      <td>[]</td>\n",
       "      <td>MLA</td>\n",
       "      <td>bronze</td>\n",
       "      <td>30.0</td>\n",
       "      <td>[]</td>\n",
       "      <td>buy_it_now</td>\n",
       "      <td>...</td>\n",
       "      <td>NaN</td>\n",
       "      <td>1.0</td>\n",
       "      <td>http://articulo.mercadolibre.com.ar/MLA7787961...</td>\n",
       "      <td>0.0</td>\n",
       "      <td>False</td>\n",
       "      <td>Argentina</td>\n",
       "      <td>Buenos Aires</td>\n",
       "      <td>Tres de febrero</td>\n",
       "      <td>True</td>\n",
       "      <td>used</td>\n",
       "    </tr>\n",
       "    <tr>\n",
       "      <th>...</th>\n",
       "      <td>...</td>\n",
       "      <td>...</td>\n",
       "      <td>...</td>\n",
       "      <td>...</td>\n",
       "      <td>...</td>\n",
       "      <td>...</td>\n",
       "      <td>...</td>\n",
       "      <td>...</td>\n",
       "      <td>...</td>\n",
       "      <td>...</td>\n",
       "      <td>...</td>\n",
       "      <td>...</td>\n",
       "      <td>...</td>\n",
       "      <td>...</td>\n",
       "      <td>...</td>\n",
       "      <td>...</td>\n",
       "      <td>...</td>\n",
       "      <td>...</td>\n",
       "      <td>...</td>\n",
       "      <td>...</td>\n",
       "      <td>...</td>\n",
       "    </tr>\n",
       "    <tr>\n",
       "      <th>89998</th>\n",
       "      <td>[]</td>\n",
       "      <td>used</td>\n",
       "      <td>[]</td>\n",
       "      <td>68.00</td>\n",
       "      <td>[]</td>\n",
       "      <td>MLA</td>\n",
       "      <td>bronze</td>\n",
       "      <td>68.0</td>\n",
       "      <td>[]</td>\n",
       "      <td>buy_it_now</td>\n",
       "      <td>...</td>\n",
       "      <td>NaN</td>\n",
       "      <td>1.0</td>\n",
       "      <td>http://articulo.mercadolibre.com.ar/MLA1315520...</td>\n",
       "      <td>0.0</td>\n",
       "      <td>1.0</td>\n",
       "      <td>Argentina</td>\n",
       "      <td>Capital Federal</td>\n",
       "      <td>capital federal</td>\n",
       "      <td>False</td>\n",
       "      <td>used</td>\n",
       "    </tr>\n",
       "    <tr>\n",
       "      <th>89999</th>\n",
       "      <td>[]</td>\n",
       "      <td>new</td>\n",
       "      <td>[]</td>\n",
       "      <td>126.00</td>\n",
       "      <td>[]</td>\n",
       "      <td>MLA</td>\n",
       "      <td>bronze</td>\n",
       "      <td>126.0</td>\n",
       "      <td>[]</td>\n",
       "      <td>buy_it_now</td>\n",
       "      <td>...</td>\n",
       "      <td>NaN</td>\n",
       "      <td>1.0</td>\n",
       "      <td>http://articulo.mercadolibre.com.ar/MLA6934377...</td>\n",
       "      <td>1.0</td>\n",
       "      <td>1.0</td>\n",
       "      <td>Argentina</td>\n",
       "      <td>Capital Federal</td>\n",
       "      <td>Núñez</td>\n",
       "      <td>True</td>\n",
       "      <td>new</td>\n",
       "    </tr>\n",
       "    <tr>\n",
       "      <th>90000</th>\n",
       "      <td>[]</td>\n",
       "      <td>new</td>\n",
       "      <td>[]</td>\n",
       "      <td>300.00</td>\n",
       "      <td>[]</td>\n",
       "      <td>MLA</td>\n",
       "      <td>bronze</td>\n",
       "      <td>300.0</td>\n",
       "      <td>[]</td>\n",
       "      <td>buy_it_now</td>\n",
       "      <td>...</td>\n",
       "      <td>NaN</td>\n",
       "      <td>1.0</td>\n",
       "      <td>http://articulo.mercadolibre.com.ar/MLA5644559...</td>\n",
       "      <td>0.0</td>\n",
       "      <td>1.0</td>\n",
       "      <td>Argentina</td>\n",
       "      <td>Buenos Aires</td>\n",
       "      <td>La Matanza</td>\n",
       "      <td>True</td>\n",
       "      <td>new</td>\n",
       "    </tr>\n",
       "    <tr>\n",
       "      <th>90001</th>\n",
       "      <td>[]</td>\n",
       "      <td>new</td>\n",
       "      <td>[]</td>\n",
       "      <td>696.58</td>\n",
       "      <td>[]</td>\n",
       "      <td>MLA</td>\n",
       "      <td>bronze</td>\n",
       "      <td>696.58</td>\n",
       "      <td>[]</td>\n",
       "      <td>buy_it_now</td>\n",
       "      <td>...</td>\n",
       "      <td>NaN</td>\n",
       "      <td>100.0</td>\n",
       "      <td>http://articulo.mercadolibre.com.ar/MLA3520244...</td>\n",
       "      <td>0.0</td>\n",
       "      <td>1.0</td>\n",
       "      <td>Argentina</td>\n",
       "      <td>Chubut</td>\n",
       "      <td>Trelew</td>\n",
       "      <td>False</td>\n",
       "      <td>new</td>\n",
       "    </tr>\n",
       "    <tr>\n",
       "      <th>90002</th>\n",
       "      <td>[]</td>\n",
       "      <td>used</td>\n",
       "      <td>[]</td>\n",
       "      <td>470.00</td>\n",
       "      <td>[{'attribute_combinations': [{'value_id': '920...</td>\n",
       "      <td>MLA</td>\n",
       "      <td>free</td>\n",
       "      <td>470.0</td>\n",
       "      <td>[{'value_id': 'female', 'attribute_group_id': ...</td>\n",
       "      <td>buy_it_now</td>\n",
       "      <td>...</td>\n",
       "      <td>NaN</td>\n",
       "      <td>1.0</td>\n",
       "      <td>http://articulo.mercadolibre.com.ar/MLA8241142...</td>\n",
       "      <td>0.0</td>\n",
       "      <td>1.0</td>\n",
       "      <td>Argentina</td>\n",
       "      <td>Capital Federal</td>\n",
       "      <td>mataderos</td>\n",
       "      <td>True</td>\n",
       "      <td>used</td>\n",
       "    </tr>\n",
       "  </tbody>\n",
       "</table>\n",
       "<p>86365 rows × 41 columns</p>\n",
       "</div>"
      ],
      "text/plain": [
       "      sub_status condition deal_ids  base_price  \\\n",
       "0             []       new       []       80.00   \n",
       "1             []      used       []     2650.00   \n",
       "2             []      used       []       60.00   \n",
       "3             []       new       []      580.00   \n",
       "4             []      used       []       30.00   \n",
       "...          ...       ...      ...         ...   \n",
       "89998         []      used       []       68.00   \n",
       "89999         []       new       []      126.00   \n",
       "90000         []       new       []      300.00   \n",
       "90001         []       new       []      696.58   \n",
       "90002         []      used       []      470.00   \n",
       "\n",
       "                                              variations site_id  \\\n",
       "0                                                     []     MLA   \n",
       "1                                                     []     MLA   \n",
       "2                                                     []     MLA   \n",
       "3                                                     []     MLA   \n",
       "4                                                     []     MLA   \n",
       "...                                                  ...     ...   \n",
       "89998                                                 []     MLA   \n",
       "89999                                                 []     MLA   \n",
       "90000                                                 []     MLA   \n",
       "90001                                                 []     MLA   \n",
       "90002  [{'attribute_combinations': [{'value_id': '920...     MLA   \n",
       "\n",
       "      listing_type_id   price  \\\n",
       "0              bronze    80.0   \n",
       "1              silver  2650.0   \n",
       "2              bronze    60.0   \n",
       "3              silver   580.0   \n",
       "4              bronze    30.0   \n",
       "...               ...     ...   \n",
       "89998          bronze    68.0   \n",
       "89999          bronze   126.0   \n",
       "90000          bronze   300.0   \n",
       "90001          bronze  696.58   \n",
       "90002            free   470.0   \n",
       "\n",
       "                                              attributes buying_mode  ...  \\\n",
       "0                                                     []  buy_it_now  ...   \n",
       "1                                                     []  buy_it_now  ...   \n",
       "2                                                     []  buy_it_now  ...   \n",
       "3                                                     []  buy_it_now  ...   \n",
       "4                                                     []  buy_it_now  ...   \n",
       "...                                                  ...         ...  ...   \n",
       "89998                                                 []  buy_it_now  ...   \n",
       "89999                                                 []  buy_it_now  ...   \n",
       "90000                                                 []  buy_it_now  ...   \n",
       "90001                                                 []  buy_it_now  ...   \n",
       "90002  [{'value_id': 'female', 'attribute_group_id': ...  buy_it_now  ...   \n",
       "\n",
       "      subtitle initial_quantity  \\\n",
       "0          NaN              1.0   \n",
       "1          NaN              1.0   \n",
       "2          NaN              1.0   \n",
       "3          NaN              1.0   \n",
       "4          NaN              1.0   \n",
       "...        ...              ...   \n",
       "89998      NaN              1.0   \n",
       "89999      NaN              1.0   \n",
       "90000      NaN              1.0   \n",
       "90001      NaN            100.0   \n",
       "90002      NaN              1.0   \n",
       "\n",
       "                                               permalink sold_quantity  \\\n",
       "0      http://articulo.mercadolibre.com.ar/MLA4695330...           0.0   \n",
       "1      http://articulo.mercadolibre.com.ar/MLA7160447...           0.0   \n",
       "2      http://articulo.mercadolibre.com.ar/MLA7367189...           0.0   \n",
       "3      http://articulo.mercadolibre.com.ar/MLA9191625...           0.0   \n",
       "4      http://articulo.mercadolibre.com.ar/MLA7787961...           0.0   \n",
       "...                                                  ...           ...   \n",
       "89998  http://articulo.mercadolibre.com.ar/MLA1315520...           0.0   \n",
       "89999  http://articulo.mercadolibre.com.ar/MLA6934377...           1.0   \n",
       "90000  http://articulo.mercadolibre.com.ar/MLA5644559...           0.0   \n",
       "90001  http://articulo.mercadolibre.com.ar/MLA3520244...           0.0   \n",
       "90002  http://articulo.mercadolibre.com.ar/MLA8241142...           0.0   \n",
       "\n",
       "      available_quantity seller_address_country_name  \\\n",
       "0                  False                   Argentina   \n",
       "1                  False                   Argentina   \n",
       "2                  False                   Argentina   \n",
       "3                  False                   Argentina   \n",
       "4                  False                   Argentina   \n",
       "...                  ...                         ...   \n",
       "89998                1.0                   Argentina   \n",
       "89999                1.0                   Argentina   \n",
       "90000                1.0                   Argentina   \n",
       "90001                1.0                   Argentina   \n",
       "90002                1.0                   Argentina   \n",
       "\n",
       "      seller_address_state_name seller_address_city_name  \\\n",
       "0               Capital Federal            San Cristóbal   \n",
       "1               Capital Federal             Buenos Aires   \n",
       "2               Capital Federal                    Boedo   \n",
       "3               Capital Federal                 Floresta   \n",
       "4                  Buenos Aires          Tres de febrero   \n",
       "...                         ...                      ...   \n",
       "89998           Capital Federal          capital federal   \n",
       "89999           Capital Federal                    Núñez   \n",
       "90000              Buenos Aires               La Matanza   \n",
       "90001                    Chubut                   Trelew   \n",
       "90002           Capital Federal                mataderos   \n",
       "\n",
       "      shipping_local_pick_up     Y  \n",
       "0                       True   new  \n",
       "1                       True  used  \n",
       "2                       True  used  \n",
       "3                       True   new  \n",
       "4                       True  used  \n",
       "...                      ...   ...  \n",
       "89998                  False  used  \n",
       "89999                   True   new  \n",
       "90000                   True   new  \n",
       "90001                  False   new  \n",
       "90002                   True  used  \n",
       "\n",
       "[86365 rows x 41 columns]"
      ]
     },
     "execution_count": 56,
     "metadata": {},
     "output_type": "execute_result"
    }
   ],
   "source": [
    "na_listing_source = df[df[\"listing_source\"].isnull() == True]\n",
    "na_listing_source"
   ]
  },
  {
   "cell_type": "code",
   "execution_count": 57,
   "id": "d855fb46",
   "metadata": {},
   "outputs": [],
   "source": [
    "df = df.drop(\"listing_source\", axis=1)"
   ]
  },
  {
   "cell_type": "markdown",
   "id": "55e8369a",
   "metadata": {},
   "source": [
    "**Nota:** Esta variable tiene todos su valores NA así que se procede a eliminar"
   ]
  },
  {
   "cell_type": "markdown",
   "id": "0faebe18",
   "metadata": {},
   "source": [
    "#### Variable diferential_pricing"
   ]
  },
  {
   "cell_type": "code",
   "execution_count": 58,
   "id": "e3b9f809",
   "metadata": {},
   "outputs": [
    {
     "data": {
      "text/plain": [
       "0    NaN\n",
       "1    NaN\n",
       "2    NaN\n",
       "3    NaN\n",
       "4    NaN\n",
       "Name: differential_pricing, dtype: object"
      ]
     },
     "execution_count": 58,
     "metadata": {},
     "output_type": "execute_result"
    }
   ],
   "source": [
    "df[\"differential_pricing\"].head()"
   ]
  },
  {
   "cell_type": "code",
   "execution_count": 59,
   "id": "b1c27535",
   "metadata": {},
   "outputs": [
    {
     "data": {
      "text/html": [
       "<div>\n",
       "<style scoped>\n",
       "    .dataframe tbody tr th:only-of-type {\n",
       "        vertical-align: middle;\n",
       "    }\n",
       "\n",
       "    .dataframe tbody tr th {\n",
       "        vertical-align: top;\n",
       "    }\n",
       "\n",
       "    .dataframe thead th {\n",
       "        text-align: right;\n",
       "    }\n",
       "</style>\n",
       "<table border=\"1\" class=\"dataframe\">\n",
       "  <thead>\n",
       "    <tr style=\"text-align: right;\">\n",
       "      <th></th>\n",
       "      <th>sub_status</th>\n",
       "      <th>condition</th>\n",
       "      <th>deal_ids</th>\n",
       "      <th>base_price</th>\n",
       "      <th>variations</th>\n",
       "      <th>site_id</th>\n",
       "      <th>listing_type_id</th>\n",
       "      <th>price</th>\n",
       "      <th>attributes</th>\n",
       "      <th>buying_mode</th>\n",
       "      <th>...</th>\n",
       "      <th>subtitle</th>\n",
       "      <th>initial_quantity</th>\n",
       "      <th>permalink</th>\n",
       "      <th>sold_quantity</th>\n",
       "      <th>available_quantity</th>\n",
       "      <th>seller_address_country_name</th>\n",
       "      <th>seller_address_state_name</th>\n",
       "      <th>seller_address_city_name</th>\n",
       "      <th>shipping_local_pick_up</th>\n",
       "      <th>Y</th>\n",
       "    </tr>\n",
       "  </thead>\n",
       "  <tbody>\n",
       "    <tr>\n",
       "      <th>0</th>\n",
       "      <td>[]</td>\n",
       "      <td>new</td>\n",
       "      <td>[]</td>\n",
       "      <td>80.00</td>\n",
       "      <td>[]</td>\n",
       "      <td>MLA</td>\n",
       "      <td>bronze</td>\n",
       "      <td>80.0</td>\n",
       "      <td>[]</td>\n",
       "      <td>buy_it_now</td>\n",
       "      <td>...</td>\n",
       "      <td>NaN</td>\n",
       "      <td>1.0</td>\n",
       "      <td>http://articulo.mercadolibre.com.ar/MLA4695330...</td>\n",
       "      <td>0.0</td>\n",
       "      <td>False</td>\n",
       "      <td>Argentina</td>\n",
       "      <td>Capital Federal</td>\n",
       "      <td>San Cristóbal</td>\n",
       "      <td>True</td>\n",
       "      <td>new</td>\n",
       "    </tr>\n",
       "    <tr>\n",
       "      <th>1</th>\n",
       "      <td>[]</td>\n",
       "      <td>used</td>\n",
       "      <td>[]</td>\n",
       "      <td>2650.00</td>\n",
       "      <td>[]</td>\n",
       "      <td>MLA</td>\n",
       "      <td>silver</td>\n",
       "      <td>2650.0</td>\n",
       "      <td>[]</td>\n",
       "      <td>buy_it_now</td>\n",
       "      <td>...</td>\n",
       "      <td>NaN</td>\n",
       "      <td>1.0</td>\n",
       "      <td>http://articulo.mercadolibre.com.ar/MLA7160447...</td>\n",
       "      <td>0.0</td>\n",
       "      <td>False</td>\n",
       "      <td>Argentina</td>\n",
       "      <td>Capital Federal</td>\n",
       "      <td>Buenos Aires</td>\n",
       "      <td>True</td>\n",
       "      <td>used</td>\n",
       "    </tr>\n",
       "    <tr>\n",
       "      <th>2</th>\n",
       "      <td>[]</td>\n",
       "      <td>used</td>\n",
       "      <td>[]</td>\n",
       "      <td>60.00</td>\n",
       "      <td>[]</td>\n",
       "      <td>MLA</td>\n",
       "      <td>bronze</td>\n",
       "      <td>60.0</td>\n",
       "      <td>[]</td>\n",
       "      <td>buy_it_now</td>\n",
       "      <td>...</td>\n",
       "      <td>NaN</td>\n",
       "      <td>1.0</td>\n",
       "      <td>http://articulo.mercadolibre.com.ar/MLA7367189...</td>\n",
       "      <td>0.0</td>\n",
       "      <td>False</td>\n",
       "      <td>Argentina</td>\n",
       "      <td>Capital Federal</td>\n",
       "      <td>Boedo</td>\n",
       "      <td>True</td>\n",
       "      <td>used</td>\n",
       "    </tr>\n",
       "    <tr>\n",
       "      <th>3</th>\n",
       "      <td>[]</td>\n",
       "      <td>new</td>\n",
       "      <td>[]</td>\n",
       "      <td>580.00</td>\n",
       "      <td>[]</td>\n",
       "      <td>MLA</td>\n",
       "      <td>silver</td>\n",
       "      <td>580.0</td>\n",
       "      <td>[]</td>\n",
       "      <td>buy_it_now</td>\n",
       "      <td>...</td>\n",
       "      <td>NaN</td>\n",
       "      <td>1.0</td>\n",
       "      <td>http://articulo.mercadolibre.com.ar/MLA9191625...</td>\n",
       "      <td>0.0</td>\n",
       "      <td>False</td>\n",
       "      <td>Argentina</td>\n",
       "      <td>Capital Federal</td>\n",
       "      <td>Floresta</td>\n",
       "      <td>True</td>\n",
       "      <td>new</td>\n",
       "    </tr>\n",
       "    <tr>\n",
       "      <th>4</th>\n",
       "      <td>[]</td>\n",
       "      <td>used</td>\n",
       "      <td>[]</td>\n",
       "      <td>30.00</td>\n",
       "      <td>[]</td>\n",
       "      <td>MLA</td>\n",
       "      <td>bronze</td>\n",
       "      <td>30.0</td>\n",
       "      <td>[]</td>\n",
       "      <td>buy_it_now</td>\n",
       "      <td>...</td>\n",
       "      <td>NaN</td>\n",
       "      <td>1.0</td>\n",
       "      <td>http://articulo.mercadolibre.com.ar/MLA7787961...</td>\n",
       "      <td>0.0</td>\n",
       "      <td>False</td>\n",
       "      <td>Argentina</td>\n",
       "      <td>Buenos Aires</td>\n",
       "      <td>Tres de febrero</td>\n",
       "      <td>True</td>\n",
       "      <td>used</td>\n",
       "    </tr>\n",
       "    <tr>\n",
       "      <th>...</th>\n",
       "      <td>...</td>\n",
       "      <td>...</td>\n",
       "      <td>...</td>\n",
       "      <td>...</td>\n",
       "      <td>...</td>\n",
       "      <td>...</td>\n",
       "      <td>...</td>\n",
       "      <td>...</td>\n",
       "      <td>...</td>\n",
       "      <td>...</td>\n",
       "      <td>...</td>\n",
       "      <td>...</td>\n",
       "      <td>...</td>\n",
       "      <td>...</td>\n",
       "      <td>...</td>\n",
       "      <td>...</td>\n",
       "      <td>...</td>\n",
       "      <td>...</td>\n",
       "      <td>...</td>\n",
       "      <td>...</td>\n",
       "      <td>...</td>\n",
       "    </tr>\n",
       "    <tr>\n",
       "      <th>89998</th>\n",
       "      <td>[]</td>\n",
       "      <td>used</td>\n",
       "      <td>[]</td>\n",
       "      <td>68.00</td>\n",
       "      <td>[]</td>\n",
       "      <td>MLA</td>\n",
       "      <td>bronze</td>\n",
       "      <td>68.0</td>\n",
       "      <td>[]</td>\n",
       "      <td>buy_it_now</td>\n",
       "      <td>...</td>\n",
       "      <td>NaN</td>\n",
       "      <td>1.0</td>\n",
       "      <td>http://articulo.mercadolibre.com.ar/MLA1315520...</td>\n",
       "      <td>0.0</td>\n",
       "      <td>1.0</td>\n",
       "      <td>Argentina</td>\n",
       "      <td>Capital Federal</td>\n",
       "      <td>capital federal</td>\n",
       "      <td>False</td>\n",
       "      <td>used</td>\n",
       "    </tr>\n",
       "    <tr>\n",
       "      <th>89999</th>\n",
       "      <td>[]</td>\n",
       "      <td>new</td>\n",
       "      <td>[]</td>\n",
       "      <td>126.00</td>\n",
       "      <td>[]</td>\n",
       "      <td>MLA</td>\n",
       "      <td>bronze</td>\n",
       "      <td>126.0</td>\n",
       "      <td>[]</td>\n",
       "      <td>buy_it_now</td>\n",
       "      <td>...</td>\n",
       "      <td>NaN</td>\n",
       "      <td>1.0</td>\n",
       "      <td>http://articulo.mercadolibre.com.ar/MLA6934377...</td>\n",
       "      <td>1.0</td>\n",
       "      <td>1.0</td>\n",
       "      <td>Argentina</td>\n",
       "      <td>Capital Federal</td>\n",
       "      <td>Núñez</td>\n",
       "      <td>True</td>\n",
       "      <td>new</td>\n",
       "    </tr>\n",
       "    <tr>\n",
       "      <th>90000</th>\n",
       "      <td>[]</td>\n",
       "      <td>new</td>\n",
       "      <td>[]</td>\n",
       "      <td>300.00</td>\n",
       "      <td>[]</td>\n",
       "      <td>MLA</td>\n",
       "      <td>bronze</td>\n",
       "      <td>300.0</td>\n",
       "      <td>[]</td>\n",
       "      <td>buy_it_now</td>\n",
       "      <td>...</td>\n",
       "      <td>NaN</td>\n",
       "      <td>1.0</td>\n",
       "      <td>http://articulo.mercadolibre.com.ar/MLA5644559...</td>\n",
       "      <td>0.0</td>\n",
       "      <td>1.0</td>\n",
       "      <td>Argentina</td>\n",
       "      <td>Buenos Aires</td>\n",
       "      <td>La Matanza</td>\n",
       "      <td>True</td>\n",
       "      <td>new</td>\n",
       "    </tr>\n",
       "    <tr>\n",
       "      <th>90001</th>\n",
       "      <td>[]</td>\n",
       "      <td>new</td>\n",
       "      <td>[]</td>\n",
       "      <td>696.58</td>\n",
       "      <td>[]</td>\n",
       "      <td>MLA</td>\n",
       "      <td>bronze</td>\n",
       "      <td>696.58</td>\n",
       "      <td>[]</td>\n",
       "      <td>buy_it_now</td>\n",
       "      <td>...</td>\n",
       "      <td>NaN</td>\n",
       "      <td>100.0</td>\n",
       "      <td>http://articulo.mercadolibre.com.ar/MLA3520244...</td>\n",
       "      <td>0.0</td>\n",
       "      <td>1.0</td>\n",
       "      <td>Argentina</td>\n",
       "      <td>Chubut</td>\n",
       "      <td>Trelew</td>\n",
       "      <td>False</td>\n",
       "      <td>new</td>\n",
       "    </tr>\n",
       "    <tr>\n",
       "      <th>90002</th>\n",
       "      <td>[]</td>\n",
       "      <td>used</td>\n",
       "      <td>[]</td>\n",
       "      <td>470.00</td>\n",
       "      <td>[{'attribute_combinations': [{'value_id': '920...</td>\n",
       "      <td>MLA</td>\n",
       "      <td>free</td>\n",
       "      <td>470.0</td>\n",
       "      <td>[{'value_id': 'female', 'attribute_group_id': ...</td>\n",
       "      <td>buy_it_now</td>\n",
       "      <td>...</td>\n",
       "      <td>NaN</td>\n",
       "      <td>1.0</td>\n",
       "      <td>http://articulo.mercadolibre.com.ar/MLA8241142...</td>\n",
       "      <td>0.0</td>\n",
       "      <td>1.0</td>\n",
       "      <td>Argentina</td>\n",
       "      <td>Capital Federal</td>\n",
       "      <td>mataderos</td>\n",
       "      <td>True</td>\n",
       "      <td>used</td>\n",
       "    </tr>\n",
       "  </tbody>\n",
       "</table>\n",
       "<p>86365 rows × 40 columns</p>\n",
       "</div>"
      ],
      "text/plain": [
       "      sub_status condition deal_ids  base_price  \\\n",
       "0             []       new       []       80.00   \n",
       "1             []      used       []     2650.00   \n",
       "2             []      used       []       60.00   \n",
       "3             []       new       []      580.00   \n",
       "4             []      used       []       30.00   \n",
       "...          ...       ...      ...         ...   \n",
       "89998         []      used       []       68.00   \n",
       "89999         []       new       []      126.00   \n",
       "90000         []       new       []      300.00   \n",
       "90001         []       new       []      696.58   \n",
       "90002         []      used       []      470.00   \n",
       "\n",
       "                                              variations site_id  \\\n",
       "0                                                     []     MLA   \n",
       "1                                                     []     MLA   \n",
       "2                                                     []     MLA   \n",
       "3                                                     []     MLA   \n",
       "4                                                     []     MLA   \n",
       "...                                                  ...     ...   \n",
       "89998                                                 []     MLA   \n",
       "89999                                                 []     MLA   \n",
       "90000                                                 []     MLA   \n",
       "90001                                                 []     MLA   \n",
       "90002  [{'attribute_combinations': [{'value_id': '920...     MLA   \n",
       "\n",
       "      listing_type_id   price  \\\n",
       "0              bronze    80.0   \n",
       "1              silver  2650.0   \n",
       "2              bronze    60.0   \n",
       "3              silver   580.0   \n",
       "4              bronze    30.0   \n",
       "...               ...     ...   \n",
       "89998          bronze    68.0   \n",
       "89999          bronze   126.0   \n",
       "90000          bronze   300.0   \n",
       "90001          bronze  696.58   \n",
       "90002            free   470.0   \n",
       "\n",
       "                                              attributes buying_mode  ...  \\\n",
       "0                                                     []  buy_it_now  ...   \n",
       "1                                                     []  buy_it_now  ...   \n",
       "2                                                     []  buy_it_now  ...   \n",
       "3                                                     []  buy_it_now  ...   \n",
       "4                                                     []  buy_it_now  ...   \n",
       "...                                                  ...         ...  ...   \n",
       "89998                                                 []  buy_it_now  ...   \n",
       "89999                                                 []  buy_it_now  ...   \n",
       "90000                                                 []  buy_it_now  ...   \n",
       "90001                                                 []  buy_it_now  ...   \n",
       "90002  [{'value_id': 'female', 'attribute_group_id': ...  buy_it_now  ...   \n",
       "\n",
       "      subtitle initial_quantity  \\\n",
       "0          NaN              1.0   \n",
       "1          NaN              1.0   \n",
       "2          NaN              1.0   \n",
       "3          NaN              1.0   \n",
       "4          NaN              1.0   \n",
       "...        ...              ...   \n",
       "89998      NaN              1.0   \n",
       "89999      NaN              1.0   \n",
       "90000      NaN              1.0   \n",
       "90001      NaN            100.0   \n",
       "90002      NaN              1.0   \n",
       "\n",
       "                                               permalink sold_quantity  \\\n",
       "0      http://articulo.mercadolibre.com.ar/MLA4695330...           0.0   \n",
       "1      http://articulo.mercadolibre.com.ar/MLA7160447...           0.0   \n",
       "2      http://articulo.mercadolibre.com.ar/MLA7367189...           0.0   \n",
       "3      http://articulo.mercadolibre.com.ar/MLA9191625...           0.0   \n",
       "4      http://articulo.mercadolibre.com.ar/MLA7787961...           0.0   \n",
       "...                                                  ...           ...   \n",
       "89998  http://articulo.mercadolibre.com.ar/MLA1315520...           0.0   \n",
       "89999  http://articulo.mercadolibre.com.ar/MLA6934377...           1.0   \n",
       "90000  http://articulo.mercadolibre.com.ar/MLA5644559...           0.0   \n",
       "90001  http://articulo.mercadolibre.com.ar/MLA3520244...           0.0   \n",
       "90002  http://articulo.mercadolibre.com.ar/MLA8241142...           0.0   \n",
       "\n",
       "      available_quantity seller_address_country_name  \\\n",
       "0                  False                   Argentina   \n",
       "1                  False                   Argentina   \n",
       "2                  False                   Argentina   \n",
       "3                  False                   Argentina   \n",
       "4                  False                   Argentina   \n",
       "...                  ...                         ...   \n",
       "89998                1.0                   Argentina   \n",
       "89999                1.0                   Argentina   \n",
       "90000                1.0                   Argentina   \n",
       "90001                1.0                   Argentina   \n",
       "90002                1.0                   Argentina   \n",
       "\n",
       "      seller_address_state_name seller_address_city_name  \\\n",
       "0               Capital Federal            San Cristóbal   \n",
       "1               Capital Federal             Buenos Aires   \n",
       "2               Capital Federal                    Boedo   \n",
       "3               Capital Federal                 Floresta   \n",
       "4                  Buenos Aires          Tres de febrero   \n",
       "...                         ...                      ...   \n",
       "89998           Capital Federal          capital federal   \n",
       "89999           Capital Federal                    Núñez   \n",
       "90000              Buenos Aires               La Matanza   \n",
       "90001                    Chubut                   Trelew   \n",
       "90002           Capital Federal                mataderos   \n",
       "\n",
       "      shipping_local_pick_up     Y  \n",
       "0                       True   new  \n",
       "1                       True  used  \n",
       "2                       True  used  \n",
       "3                       True   new  \n",
       "4                       True  used  \n",
       "...                      ...   ...  \n",
       "89998                  False  used  \n",
       "89999                   True   new  \n",
       "90000                   True   new  \n",
       "90001                  False   new  \n",
       "90002                   True  used  \n",
       "\n",
       "[86365 rows x 40 columns]"
      ]
     },
     "execution_count": 59,
     "metadata": {},
     "output_type": "execute_result"
    }
   ],
   "source": [
    "na_differential_pricing = df[df[\"differential_pricing\"].isnull() == True]\n",
    "na_differential_pricing"
   ]
  },
  {
   "cell_type": "code",
   "execution_count": 60,
   "id": "a6abdd8f",
   "metadata": {},
   "outputs": [],
   "source": [
    "df = df.drop(\"differential_pricing\", axis=1)"
   ]
  },
  {
   "cell_type": "markdown",
   "id": "3d5aae29",
   "metadata": {},
   "source": [
    "**Nota:** Esta variable tiene todos su valores NA así que se procede a eliminar"
   ]
  },
  {
   "cell_type": "markdown",
   "id": "74605d39",
   "metadata": {},
   "source": [
    "#### Variable subtitle"
   ]
  },
  {
   "cell_type": "code",
   "execution_count": 61,
   "id": "04f7e108",
   "metadata": {},
   "outputs": [
    {
     "data": {
      "text/plain": [
       "0   NaN\n",
       "1   NaN\n",
       "2   NaN\n",
       "3   NaN\n",
       "4   NaN\n",
       "Name: subtitle, dtype: float64"
      ]
     },
     "execution_count": 61,
     "metadata": {},
     "output_type": "execute_result"
    }
   ],
   "source": [
    "df[\"subtitle\"].head()"
   ]
  },
  {
   "cell_type": "code",
   "execution_count": 62,
   "id": "6e36c2bb",
   "metadata": {},
   "outputs": [
    {
     "data": {
      "text/html": [
       "<div>\n",
       "<style scoped>\n",
       "    .dataframe tbody tr th:only-of-type {\n",
       "        vertical-align: middle;\n",
       "    }\n",
       "\n",
       "    .dataframe tbody tr th {\n",
       "        vertical-align: top;\n",
       "    }\n",
       "\n",
       "    .dataframe thead th {\n",
       "        text-align: right;\n",
       "    }\n",
       "</style>\n",
       "<table border=\"1\" class=\"dataframe\">\n",
       "  <thead>\n",
       "    <tr style=\"text-align: right;\">\n",
       "      <th></th>\n",
       "      <th>sub_status</th>\n",
       "      <th>condition</th>\n",
       "      <th>deal_ids</th>\n",
       "      <th>base_price</th>\n",
       "      <th>variations</th>\n",
       "      <th>site_id</th>\n",
       "      <th>listing_type_id</th>\n",
       "      <th>price</th>\n",
       "      <th>attributes</th>\n",
       "      <th>buying_mode</th>\n",
       "      <th>...</th>\n",
       "      <th>subtitle</th>\n",
       "      <th>initial_quantity</th>\n",
       "      <th>permalink</th>\n",
       "      <th>sold_quantity</th>\n",
       "      <th>available_quantity</th>\n",
       "      <th>seller_address_country_name</th>\n",
       "      <th>seller_address_state_name</th>\n",
       "      <th>seller_address_city_name</th>\n",
       "      <th>shipping_local_pick_up</th>\n",
       "      <th>Y</th>\n",
       "    </tr>\n",
       "  </thead>\n",
       "  <tbody>\n",
       "    <tr>\n",
       "      <th>0</th>\n",
       "      <td>[]</td>\n",
       "      <td>new</td>\n",
       "      <td>[]</td>\n",
       "      <td>80.00</td>\n",
       "      <td>[]</td>\n",
       "      <td>MLA</td>\n",
       "      <td>bronze</td>\n",
       "      <td>80.0</td>\n",
       "      <td>[]</td>\n",
       "      <td>buy_it_now</td>\n",
       "      <td>...</td>\n",
       "      <td>NaN</td>\n",
       "      <td>1.0</td>\n",
       "      <td>http://articulo.mercadolibre.com.ar/MLA4695330...</td>\n",
       "      <td>0.0</td>\n",
       "      <td>False</td>\n",
       "      <td>Argentina</td>\n",
       "      <td>Capital Federal</td>\n",
       "      <td>San Cristóbal</td>\n",
       "      <td>True</td>\n",
       "      <td>new</td>\n",
       "    </tr>\n",
       "    <tr>\n",
       "      <th>1</th>\n",
       "      <td>[]</td>\n",
       "      <td>used</td>\n",
       "      <td>[]</td>\n",
       "      <td>2650.00</td>\n",
       "      <td>[]</td>\n",
       "      <td>MLA</td>\n",
       "      <td>silver</td>\n",
       "      <td>2650.0</td>\n",
       "      <td>[]</td>\n",
       "      <td>buy_it_now</td>\n",
       "      <td>...</td>\n",
       "      <td>NaN</td>\n",
       "      <td>1.0</td>\n",
       "      <td>http://articulo.mercadolibre.com.ar/MLA7160447...</td>\n",
       "      <td>0.0</td>\n",
       "      <td>False</td>\n",
       "      <td>Argentina</td>\n",
       "      <td>Capital Federal</td>\n",
       "      <td>Buenos Aires</td>\n",
       "      <td>True</td>\n",
       "      <td>used</td>\n",
       "    </tr>\n",
       "    <tr>\n",
       "      <th>2</th>\n",
       "      <td>[]</td>\n",
       "      <td>used</td>\n",
       "      <td>[]</td>\n",
       "      <td>60.00</td>\n",
       "      <td>[]</td>\n",
       "      <td>MLA</td>\n",
       "      <td>bronze</td>\n",
       "      <td>60.0</td>\n",
       "      <td>[]</td>\n",
       "      <td>buy_it_now</td>\n",
       "      <td>...</td>\n",
       "      <td>NaN</td>\n",
       "      <td>1.0</td>\n",
       "      <td>http://articulo.mercadolibre.com.ar/MLA7367189...</td>\n",
       "      <td>0.0</td>\n",
       "      <td>False</td>\n",
       "      <td>Argentina</td>\n",
       "      <td>Capital Federal</td>\n",
       "      <td>Boedo</td>\n",
       "      <td>True</td>\n",
       "      <td>used</td>\n",
       "    </tr>\n",
       "    <tr>\n",
       "      <th>3</th>\n",
       "      <td>[]</td>\n",
       "      <td>new</td>\n",
       "      <td>[]</td>\n",
       "      <td>580.00</td>\n",
       "      <td>[]</td>\n",
       "      <td>MLA</td>\n",
       "      <td>silver</td>\n",
       "      <td>580.0</td>\n",
       "      <td>[]</td>\n",
       "      <td>buy_it_now</td>\n",
       "      <td>...</td>\n",
       "      <td>NaN</td>\n",
       "      <td>1.0</td>\n",
       "      <td>http://articulo.mercadolibre.com.ar/MLA9191625...</td>\n",
       "      <td>0.0</td>\n",
       "      <td>False</td>\n",
       "      <td>Argentina</td>\n",
       "      <td>Capital Federal</td>\n",
       "      <td>Floresta</td>\n",
       "      <td>True</td>\n",
       "      <td>new</td>\n",
       "    </tr>\n",
       "    <tr>\n",
       "      <th>4</th>\n",
       "      <td>[]</td>\n",
       "      <td>used</td>\n",
       "      <td>[]</td>\n",
       "      <td>30.00</td>\n",
       "      <td>[]</td>\n",
       "      <td>MLA</td>\n",
       "      <td>bronze</td>\n",
       "      <td>30.0</td>\n",
       "      <td>[]</td>\n",
       "      <td>buy_it_now</td>\n",
       "      <td>...</td>\n",
       "      <td>NaN</td>\n",
       "      <td>1.0</td>\n",
       "      <td>http://articulo.mercadolibre.com.ar/MLA7787961...</td>\n",
       "      <td>0.0</td>\n",
       "      <td>False</td>\n",
       "      <td>Argentina</td>\n",
       "      <td>Buenos Aires</td>\n",
       "      <td>Tres de febrero</td>\n",
       "      <td>True</td>\n",
       "      <td>used</td>\n",
       "    </tr>\n",
       "    <tr>\n",
       "      <th>...</th>\n",
       "      <td>...</td>\n",
       "      <td>...</td>\n",
       "      <td>...</td>\n",
       "      <td>...</td>\n",
       "      <td>...</td>\n",
       "      <td>...</td>\n",
       "      <td>...</td>\n",
       "      <td>...</td>\n",
       "      <td>...</td>\n",
       "      <td>...</td>\n",
       "      <td>...</td>\n",
       "      <td>...</td>\n",
       "      <td>...</td>\n",
       "      <td>...</td>\n",
       "      <td>...</td>\n",
       "      <td>...</td>\n",
       "      <td>...</td>\n",
       "      <td>...</td>\n",
       "      <td>...</td>\n",
       "      <td>...</td>\n",
       "      <td>...</td>\n",
       "    </tr>\n",
       "    <tr>\n",
       "      <th>89998</th>\n",
       "      <td>[]</td>\n",
       "      <td>used</td>\n",
       "      <td>[]</td>\n",
       "      <td>68.00</td>\n",
       "      <td>[]</td>\n",
       "      <td>MLA</td>\n",
       "      <td>bronze</td>\n",
       "      <td>68.0</td>\n",
       "      <td>[]</td>\n",
       "      <td>buy_it_now</td>\n",
       "      <td>...</td>\n",
       "      <td>NaN</td>\n",
       "      <td>1.0</td>\n",
       "      <td>http://articulo.mercadolibre.com.ar/MLA1315520...</td>\n",
       "      <td>0.0</td>\n",
       "      <td>1.0</td>\n",
       "      <td>Argentina</td>\n",
       "      <td>Capital Federal</td>\n",
       "      <td>capital federal</td>\n",
       "      <td>False</td>\n",
       "      <td>used</td>\n",
       "    </tr>\n",
       "    <tr>\n",
       "      <th>89999</th>\n",
       "      <td>[]</td>\n",
       "      <td>new</td>\n",
       "      <td>[]</td>\n",
       "      <td>126.00</td>\n",
       "      <td>[]</td>\n",
       "      <td>MLA</td>\n",
       "      <td>bronze</td>\n",
       "      <td>126.0</td>\n",
       "      <td>[]</td>\n",
       "      <td>buy_it_now</td>\n",
       "      <td>...</td>\n",
       "      <td>NaN</td>\n",
       "      <td>1.0</td>\n",
       "      <td>http://articulo.mercadolibre.com.ar/MLA6934377...</td>\n",
       "      <td>1.0</td>\n",
       "      <td>1.0</td>\n",
       "      <td>Argentina</td>\n",
       "      <td>Capital Federal</td>\n",
       "      <td>Núñez</td>\n",
       "      <td>True</td>\n",
       "      <td>new</td>\n",
       "    </tr>\n",
       "    <tr>\n",
       "      <th>90000</th>\n",
       "      <td>[]</td>\n",
       "      <td>new</td>\n",
       "      <td>[]</td>\n",
       "      <td>300.00</td>\n",
       "      <td>[]</td>\n",
       "      <td>MLA</td>\n",
       "      <td>bronze</td>\n",
       "      <td>300.0</td>\n",
       "      <td>[]</td>\n",
       "      <td>buy_it_now</td>\n",
       "      <td>...</td>\n",
       "      <td>NaN</td>\n",
       "      <td>1.0</td>\n",
       "      <td>http://articulo.mercadolibre.com.ar/MLA5644559...</td>\n",
       "      <td>0.0</td>\n",
       "      <td>1.0</td>\n",
       "      <td>Argentina</td>\n",
       "      <td>Buenos Aires</td>\n",
       "      <td>La Matanza</td>\n",
       "      <td>True</td>\n",
       "      <td>new</td>\n",
       "    </tr>\n",
       "    <tr>\n",
       "      <th>90001</th>\n",
       "      <td>[]</td>\n",
       "      <td>new</td>\n",
       "      <td>[]</td>\n",
       "      <td>696.58</td>\n",
       "      <td>[]</td>\n",
       "      <td>MLA</td>\n",
       "      <td>bronze</td>\n",
       "      <td>696.58</td>\n",
       "      <td>[]</td>\n",
       "      <td>buy_it_now</td>\n",
       "      <td>...</td>\n",
       "      <td>NaN</td>\n",
       "      <td>100.0</td>\n",
       "      <td>http://articulo.mercadolibre.com.ar/MLA3520244...</td>\n",
       "      <td>0.0</td>\n",
       "      <td>1.0</td>\n",
       "      <td>Argentina</td>\n",
       "      <td>Chubut</td>\n",
       "      <td>Trelew</td>\n",
       "      <td>False</td>\n",
       "      <td>new</td>\n",
       "    </tr>\n",
       "    <tr>\n",
       "      <th>90002</th>\n",
       "      <td>[]</td>\n",
       "      <td>used</td>\n",
       "      <td>[]</td>\n",
       "      <td>470.00</td>\n",
       "      <td>[{'attribute_combinations': [{'value_id': '920...</td>\n",
       "      <td>MLA</td>\n",
       "      <td>free</td>\n",
       "      <td>470.0</td>\n",
       "      <td>[{'value_id': 'female', 'attribute_group_id': ...</td>\n",
       "      <td>buy_it_now</td>\n",
       "      <td>...</td>\n",
       "      <td>NaN</td>\n",
       "      <td>1.0</td>\n",
       "      <td>http://articulo.mercadolibre.com.ar/MLA8241142...</td>\n",
       "      <td>0.0</td>\n",
       "      <td>1.0</td>\n",
       "      <td>Argentina</td>\n",
       "      <td>Capital Federal</td>\n",
       "      <td>mataderos</td>\n",
       "      <td>True</td>\n",
       "      <td>used</td>\n",
       "    </tr>\n",
       "  </tbody>\n",
       "</table>\n",
       "<p>86365 rows × 39 columns</p>\n",
       "</div>"
      ],
      "text/plain": [
       "      sub_status condition deal_ids  base_price  \\\n",
       "0             []       new       []       80.00   \n",
       "1             []      used       []     2650.00   \n",
       "2             []      used       []       60.00   \n",
       "3             []       new       []      580.00   \n",
       "4             []      used       []       30.00   \n",
       "...          ...       ...      ...         ...   \n",
       "89998         []      used       []       68.00   \n",
       "89999         []       new       []      126.00   \n",
       "90000         []       new       []      300.00   \n",
       "90001         []       new       []      696.58   \n",
       "90002         []      used       []      470.00   \n",
       "\n",
       "                                              variations site_id  \\\n",
       "0                                                     []     MLA   \n",
       "1                                                     []     MLA   \n",
       "2                                                     []     MLA   \n",
       "3                                                     []     MLA   \n",
       "4                                                     []     MLA   \n",
       "...                                                  ...     ...   \n",
       "89998                                                 []     MLA   \n",
       "89999                                                 []     MLA   \n",
       "90000                                                 []     MLA   \n",
       "90001                                                 []     MLA   \n",
       "90002  [{'attribute_combinations': [{'value_id': '920...     MLA   \n",
       "\n",
       "      listing_type_id   price  \\\n",
       "0              bronze    80.0   \n",
       "1              silver  2650.0   \n",
       "2              bronze    60.0   \n",
       "3              silver   580.0   \n",
       "4              bronze    30.0   \n",
       "...               ...     ...   \n",
       "89998          bronze    68.0   \n",
       "89999          bronze   126.0   \n",
       "90000          bronze   300.0   \n",
       "90001          bronze  696.58   \n",
       "90002            free   470.0   \n",
       "\n",
       "                                              attributes buying_mode  ...  \\\n",
       "0                                                     []  buy_it_now  ...   \n",
       "1                                                     []  buy_it_now  ...   \n",
       "2                                                     []  buy_it_now  ...   \n",
       "3                                                     []  buy_it_now  ...   \n",
       "4                                                     []  buy_it_now  ...   \n",
       "...                                                  ...         ...  ...   \n",
       "89998                                                 []  buy_it_now  ...   \n",
       "89999                                                 []  buy_it_now  ...   \n",
       "90000                                                 []  buy_it_now  ...   \n",
       "90001                                                 []  buy_it_now  ...   \n",
       "90002  [{'value_id': 'female', 'attribute_group_id': ...  buy_it_now  ...   \n",
       "\n",
       "      subtitle initial_quantity  \\\n",
       "0          NaN              1.0   \n",
       "1          NaN              1.0   \n",
       "2          NaN              1.0   \n",
       "3          NaN              1.0   \n",
       "4          NaN              1.0   \n",
       "...        ...              ...   \n",
       "89998      NaN              1.0   \n",
       "89999      NaN              1.0   \n",
       "90000      NaN              1.0   \n",
       "90001      NaN            100.0   \n",
       "90002      NaN              1.0   \n",
       "\n",
       "                                               permalink sold_quantity  \\\n",
       "0      http://articulo.mercadolibre.com.ar/MLA4695330...           0.0   \n",
       "1      http://articulo.mercadolibre.com.ar/MLA7160447...           0.0   \n",
       "2      http://articulo.mercadolibre.com.ar/MLA7367189...           0.0   \n",
       "3      http://articulo.mercadolibre.com.ar/MLA9191625...           0.0   \n",
       "4      http://articulo.mercadolibre.com.ar/MLA7787961...           0.0   \n",
       "...                                                  ...           ...   \n",
       "89998  http://articulo.mercadolibre.com.ar/MLA1315520...           0.0   \n",
       "89999  http://articulo.mercadolibre.com.ar/MLA6934377...           1.0   \n",
       "90000  http://articulo.mercadolibre.com.ar/MLA5644559...           0.0   \n",
       "90001  http://articulo.mercadolibre.com.ar/MLA3520244...           0.0   \n",
       "90002  http://articulo.mercadolibre.com.ar/MLA8241142...           0.0   \n",
       "\n",
       "      available_quantity seller_address_country_name  \\\n",
       "0                  False                   Argentina   \n",
       "1                  False                   Argentina   \n",
       "2                  False                   Argentina   \n",
       "3                  False                   Argentina   \n",
       "4                  False                   Argentina   \n",
       "...                  ...                         ...   \n",
       "89998                1.0                   Argentina   \n",
       "89999                1.0                   Argentina   \n",
       "90000                1.0                   Argentina   \n",
       "90001                1.0                   Argentina   \n",
       "90002                1.0                   Argentina   \n",
       "\n",
       "      seller_address_state_name seller_address_city_name  \\\n",
       "0               Capital Federal            San Cristóbal   \n",
       "1               Capital Federal             Buenos Aires   \n",
       "2               Capital Federal                    Boedo   \n",
       "3               Capital Federal                 Floresta   \n",
       "4                  Buenos Aires          Tres de febrero   \n",
       "...                         ...                      ...   \n",
       "89998           Capital Federal          capital federal   \n",
       "89999           Capital Federal                    Núñez   \n",
       "90000              Buenos Aires               La Matanza   \n",
       "90001                    Chubut                   Trelew   \n",
       "90002           Capital Federal                mataderos   \n",
       "\n",
       "      shipping_local_pick_up     Y  \n",
       "0                       True   new  \n",
       "1                       True  used  \n",
       "2                       True  used  \n",
       "3                       True   new  \n",
       "4                       True  used  \n",
       "...                      ...   ...  \n",
       "89998                  False  used  \n",
       "89999                   True   new  \n",
       "90000                   True   new  \n",
       "90001                  False   new  \n",
       "90002                   True  used  \n",
       "\n",
       "[86365 rows x 39 columns]"
      ]
     },
     "execution_count": 62,
     "metadata": {},
     "output_type": "execute_result"
    }
   ],
   "source": [
    "na_subtitle = df[df[\"subtitle\"].isnull() == True]\n",
    "na_subtitle"
   ]
  },
  {
   "cell_type": "code",
   "execution_count": 63,
   "id": "74b64c17",
   "metadata": {},
   "outputs": [],
   "source": [
    "df = df.drop(\"subtitle\", axis=1)"
   ]
  },
  {
   "cell_type": "markdown",
   "id": "f91f7dd9",
   "metadata": {},
   "source": [
    "### Variables a eliminar por una alta cardinalidad, valor único o un des balanceo mayor"
   ]
  },
  {
   "cell_type": "markdown",
   "id": "4469ab8f",
   "metadata": {},
   "source": [
    "En el informe output_clean.html de este repositorio están los valores y la explicación mas detallada consultar si se tiene alguna duda el archivo se puede abrir sin problema en cualquier navegador"
   ]
  },
  {
   "cell_type": "code",
   "execution_count": 64,
   "id": "8fae2d82",
   "metadata": {},
   "outputs": [],
   "source": [
    "drop_columns = [\"sub_status\", # esta variable tiene 85.496 valores \"[]\"\n",
    "                \"deal_ids\", # esta variable tiene 86.154 valores \"[]\"\n",
    "                \"variations\", # esta variable tiene 78.997 valores \"[]\"\n",
    "                \"site_id\", # Todos los valores son MLA\n",
    "                \"attributes\", # esta variable tiene 77.005 valores \"[]\"\n",
    "                \"buying_mode\", # esta variable tiene 85.496 valores \"buy_it_now\"\n",
    "                \"parent_item_id\", # esta variable tiene muy alta cardinalidad\n",
    "                \"coverage_areas\", # todos los valores con \"[]\"\n",
    "                \"last_updated\", # esta variable es de tipo date\n",
    "                \"international_delivery_mode\", # todos los valores son none\n",
    "                \"pictures\", # se eliminará pues son links a imagenes y nos estan disponibles, para el futuro se puede contemplar imagénes para determinar si es nuevo o usado \n",
    "                \"id\", # esta variable es un identificador único\n",
    "                \"accepts_mercadopago\", # esta variable tiene 86.146 valores \"True\"\n",
    "                \"currency_id\", # esta variable tiene 86.347 valores \"True\"\n",
    "                \"thumbnail\", # son imagenes interesante para analisis posteriores \n",
    "                \"date_created\", # este valor es detipo date \n",
    "                \"status\", # esta variable tiene 86.146 valores \"active\"\n",
    "                \"video_id\", # esta variable son id de videos que no son útiles para analizar\n",
    "                \"catalog_product_id\", # esta variable es un identificador\n",
    "                \"permalink\", # link de la publicación\n",
    "                \"sold_quantity\", # todos los valores son 0\n",
    "                \"seller_address_country_name\", # todos los valores son iguales a Argentina\n",
    "                \"shipping_local_pick_up\", # # esta variable tiene 70.015 valores \"True\"                \n",
    "                \"initial_quantity\", # el 95% de los valores son 0\n",
    "                \"condition\", # es la variable objetivo\n",
    "                \"official_store_id\" # # esta variable tiene 85.638 valores NAN\n",
    "                ]"
   ]
  },
  {
   "cell_type": "code",
   "execution_count": 65,
   "id": "3789c80b",
   "metadata": {},
   "outputs": [],
   "source": [
    "df = df.drop(drop_columns, axis=1)"
   ]
  },
  {
   "cell_type": "code",
   "execution_count": 66,
   "id": "527beed8",
   "metadata": {},
   "outputs": [
    {
     "data": {
      "image/png": "[encoded data removed]",
      "text/plain": [
       "<Figure size 640x480 with 1 Axes>"
      ]
     },
     "metadata": {},
     "output_type": "display_data"
    }
   ],
   "source": [
    "plt.hist(df[\"Y\"])\n",
    "plt.title(\"Frecuencia de la variable a predecir Y\")\n",
    "plt.show()"
   ]
  },
  {
   "cell_type": "code",
   "execution_count": 67,
   "id": "d2c1ac6f",
   "metadata": {},
   "outputs": [
    {
     "data": {
      "application/vnd.jupyter.widget-view+json": {
       "model_id": "41f633bfcf45419fabb19bb9f3b59d95",
       "version_major": 2,
       "version_minor": 0
      },
      "text/plain": [
       "Summarize dataset:   0%|          | 0/5 [00:00<?, ?it/s]"
      ]
     },
     "metadata": {},
     "output_type": "display_data"
    },
    {
     "data": {
      "application/vnd.jupyter.widget-view+json": {
       "model_id": "8d4ddf840ee7409bbe7901eb88cf3345",
       "version_major": 2,
       "version_minor": 0
      },
      "text/plain": [
       "Generate report structure:   0%|          | 0/1 [00:00<?, ?it/s]"
      ]
     },
     "metadata": {},
     "output_type": "display_data"
    },
    {
     "data": {
      "application/vnd.jupyter.widget-view+json": {
       "model_id": "a71fd6bd517d4e6b8e7d1e41052a00a3",
       "version_major": 2,
       "version_minor": 0
      },
      "text/plain": [
       "Render HTML:   0%|          | 0/1 [00:00<?, ?it/s]"
      ]
     },
     "metadata": {},
     "output_type": "display_data"
    },
    {
     "data": {
      "application/vnd.jupyter.widget-view+json": {
       "model_id": "21507d0e2f7d4b539df87930ec3f8f72",
       "version_major": 2,
       "version_minor": 0
      },
      "text/plain": [
       "Export report to file:   0%|          | 0/1 [00:00<?, ?it/s]"
      ]
     },
     "metadata": {},
     "output_type": "display_data"
    }
   ],
   "source": [
    "profile = ProfileReport(df, minimal=True)\n",
    "profile.to_file(\"output_final.html\")"
   ]
  },
  {
   "cell_type": "code",
   "execution_count": 68,
   "id": "32c599a8",
   "metadata": {},
   "outputs": [
    {
     "name": "stdout",
     "output_type": "stream",
     "text": [
      "Cantidad de variables 12, cantidad de observaciones 86365\n"
     ]
    }
   ],
   "source": [
    "print(f\"Cantidad de variables {len(df.columns)}, cantidad de observaciones {len(df)}\")"
   ]
  },
  {
   "cell_type": "markdown",
   "id": "9a9de277",
   "metadata": {},
   "source": [
    "En este ejercicio de preparación de los datos se redujo de 47 variables a 12 y se redujo la cantidad de datos de 90003 a 86365 es decir redujeron las observaciones de 4,04 %"
   ]
  },
  {
   "cell_type": "markdown",
   "id": "78afb211",
   "metadata": {},
   "source": [
    "### Exploraciones adicionales"
   ]
  },
  {
   "cell_type": "code",
   "execution_count": 108,
   "id": "dee25cb8",
   "metadata": {},
   "outputs": [
    {
     "data": {
      "image/png": "[encoded data removed]",
      "text/plain": [
       "<Figure size 800x600 with 1 Axes>"
      ]
     },
     "metadata": {},
     "output_type": "display_data"
    }
   ],
   "source": [
    "plt.figure(figsize=(8, 6))\n",
    "df_seller_address_state_name = df.groupby(\"seller_address_state_name\").agg({\"seller_address_state_name\": \"count\"})\n",
    "df_seller_address_state_name = df_seller_address_state_name.rename(columns={\"seller_address_state_name\": \"Estado\"})\n",
    "df_seller_address_state_name = df_seller_address_state_name.sort_values(\"Estado\")\n",
    "plt.barh(list(df_seller_address_state_name.index), df_seller_address_state_name[\"Estado\"])\n",
    "plt.title(\"Estados con mayor cantidad de pedidos\")\n",
    "plt.grid()\n",
    "plt.show()"
   ]
  },
  {
   "cell_type": "code",
   "execution_count": 110,
   "id": "141afca6",
   "metadata": {},
   "outputs": [
    {
     "data": {
      "image/png": "[encoded data removed]",
      "text/plain": [
       "<Figure size 800x600 with 1 Axes>"
      ]
     },
     "metadata": {},
     "output_type": "display_data"
    }
   ],
   "source": [
    "plt.figure(figsize=(8, 6))\n",
    "df_seller_address_state_name = df.groupby(\"seller_address_city_name\").agg({\"seller_address_city_name\": \"count\"})\n",
    "df_seller_address_state_name = df_seller_address_state_name.rename(columns={\"seller_address_city_name\": \"Ciudad\"})\n",
    "df_seller_address_state_name = df_seller_address_state_name.sort_values(\"Ciudad\", ascending=False)\n",
    "df_seller_address_state_name = df_seller_address_state_name[0:28]\n",
    "plt.barh(list(df_seller_address_state_name.index), df_seller_address_state_name[\"Ciudad\"])\n",
    "plt.title(\"Ciudades con mayor cantidad de pedidos\")\n",
    "plt.grid()\n",
    "plt.show()"
   ]
  },
  {
   "cell_type": "code",
   "execution_count": null,
   "id": "aee0403e",
   "metadata": {},
   "outputs": [],
   "source": []
  },
  {
   "cell_type": "code",
   "execution_count": null,
   "id": "631defb9",
   "metadata": {},
   "outputs": [],
   "source": []
  },
  {
   "cell_type": "code",
   "execution_count": null,
   "id": "b3bfdc96",
   "metadata": {},
   "outputs": [],
   "source": []
  },
  {
   "cell_type": "code",
   "execution_count": null,
   "id": "03a6c6b5",
   "metadata": {},
   "outputs": [],
   "source": []
  },
  {
   "cell_type": "code",
   "execution_count": null,
   "id": "42b3bcde",
   "metadata": {},
   "outputs": [],
   "source": []
  }
 ],
 "metadata": {
  "kernelspec": {
   "display_name": "Python 3 (ipykernel)",
   "language": "python",
   "name": "python3"
  },
  "language_info": {
   "codemirror_mode": {
    "name": "ipython",
    "version": 3
   },
   "file_extension": ".py",
   "mimetype": "text/x-python",
   "name": "python",
   "nbconvert_exporter": "python",
   "pygments_lexer": "ipython3",
   "version": "3.10.9"
  }
 },
 "nbformat": 4,
 "nbformat_minor": 5
}
